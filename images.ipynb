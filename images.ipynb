{
 "cells": [
  {
   "cell_type": "markdown",
   "metadata": {},
   "source": [
    "## Scrapping images of cetaceans from Wikipedia page"
   ]
  },
  {
   "cell_type": "code",
   "execution_count": 1,
   "metadata": {},
   "outputs": [],
   "source": [
    "import pandas as pd"
   ]
  },
  {
   "cell_type": "code",
   "execution_count": 2,
   "metadata": {},
   "outputs": [],
   "source": [
    "path_1 = \"data/HappyWhales/location_cetacea_full_info.csv\"\n",
    "path_2 = \"data/HappyWhales/obis_seamap_custom_part1_points_csv.csv\"\n",
    "\n",
    "# columns_to_keep_df1 = COLUMNS_TO_KEEP_1\n",
    "# columns_to_keep_df2 = COLUMNS_TO_KEEP_2 \n",
    "\n",
    "MAPPING = {\n",
    "            'scientific': 'scientific_name',\n",
    "            'common': 'common_name',\n",
    "            \"sp_code\" : 'species_name',\n",
    "            'tsn': 'itis_tsn',\n",
    "            'count': 'individual_count',\n",
    "            'obs_date': 'event_date',\n",
    "            'oid' : 'organism_id'\n",
    "            }\n",
    "\n",
    "column_mapping = MAPPING"
   ]
  },
  {
   "cell_type": "code",
   "execution_count": 3,
   "metadata": {},
   "outputs": [
    {
     "data": {
      "text/plain": [
       "array(['Bottlenose Dolphin', 'Short-beaked Common Dolphin',\n",
       "       'Dusky Dolphin', \"Peale's Dolphin\", \"Commerson's Dolphin\",\n",
       "       \"Hector's Dolphin\", 'Southern Right Whale Dolphin',\n",
       "       \"Risso's Dolphin\", 'Melon-headed Whale', 'False Killer Whale',\n",
       "       'Killer Whale', \"Dall's Porpoise\", 'Beluga',\n",
       "       \"Arnoux's Beaked Whale\", \"Baird's Beaked Whale\",\n",
       "       \"Cuvier's Beaked Whale\", 'Southern Bottlenose Whale',\n",
       "       \"Blainville's Beaked Whale\", 'Minke Whale', 'Blue Whale',\n",
       "       'Bowhead', 'Long-finned Pilot Whale', \"Bryde's whale\",\n",
       "       'Atlantic Spotted Dolphin', 'North Pacific Right Whale',\n",
       "       'Sei Whale', 'Black Dolphin', 'Northern bottlenose whale',\n",
       "       'Atlantic White-sided Dolphin', 'Harbor Porpoise',\n",
       "       'Northern Right Whale Dolphin', 'Amazon River Dolphin',\n",
       "       \"Layard's beaked whale\", 'Pantropical Spotted Dolphin',\n",
       "       'Clymene Dolphin', 'Striped Dolphin', 'Rough-toothed Dolphin',\n",
       "       'Franciscana', 'Hourglass Dolphin', \"Gervais' beaked whale\",\n",
       "       'Common minke whale', 'Pygmy sperm whale', \"Burmeister's porpoise\",\n",
       "       'Narwhal', 'Gray whale', \"Fraser's dolphin\", 'Humpback Whale',\n",
       "       'Gray Whale', 'Fin Whale', 'Dwarf sperm whale',\n",
       "       'North Atlantic Right Whale', \"Cuvier's beaked whale\",\n",
       "       \"Haviside's Dolphin\", 'Indian humpback dolphin', \"Omurai's Whale\",\n",
       "       'Irrawaddy dolphin'], dtype=object)"
      ]
     },
     "execution_count": 3,
     "metadata": {},
     "output_type": "execute_result"
    }
   ],
   "source": [
    "df_location_1 = pd.read_csv(path_1, encoding=\"utf-8\")\n",
    "#df_location_1['organism_id'] = df_location_1['organism_id'].str.extract(r'(\\d+)$')\n",
    "dataset_id = df_location_1[\"dataset_id\"].unique()\n",
    "\n",
    "df_location_2 = pd.read_csv(path_2, low_memory=False)\n",
    "#df_location_2 = df_location_2[~df_location_2[\"dataset_id\"].isin(dataset_id)][columns_to_keep_df2]\n",
    "\n",
    "df_location_2 = df_location_2.rename(columns=column_mapping)\n",
    "\n",
    "df_location = pd.concat([df_location_1, df_location_2], ignore_index=True)\n",
    "\n",
    "species_list = df_location['species_name'].dropna().unique()\n",
    "species_list"
   ]
  },
  {
   "cell_type": "code",
   "execution_count": 4,
   "metadata": {},
   "outputs": [
    {
     "data": {
      "application/vnd.microsoft.datawrangler.viewer.v0+json": {
       "columns": [
        {
         "name": "AphiaID",
         "rawType": "int64",
         "type": "integer"
        },
        {
         "name": "Description",
         "rawType": "object",
         "type": "string"
        },
        {
         "name": "Common name",
         "rawType": "object",
         "type": "unknown"
        }
       ],
       "conversionMethod": "pd.DataFrame",
       "ref": "546ed007-3463-42f8-9de0-2fbdbc87a105",
       "rows": [
        [
         "105740",
         "Alopias",
         "Thresher shark"
        ],
        [
         "105835",
         "Alopias superciliosus",
         "Bigeye thresher shark"
        ],
        [
         "105836",
         "Alopias vulpinus",
         "common thresher shark"
        ],
        [
         "231390",
         "Arctocephalus ",
         null
        ],
        [
         "231435",
         "Arctocephalus australis",
         "South American fur seal"
        ],
        [
         "255008",
         "Arctocephalus galapagoensis",
         "Galápagos fur seal"
        ],
        [
         "231404",
         "Arctocephalus gazella",
         "Antarctic fur seal"
        ],
        [
         "255006",
         "Arctocephalus philippii ",
         "Juan Fernandez fur seal"
        ],
        [
         "231410",
         "Arctocephalus pusillus",
         "Cape fur seal"
        ],
        [
         "231432",
         "Arctocephalus tropicalis",
         "subantarctic fur seal"
        ],
        [
         "137086",
         "Balaena mysticetus",
         "Bowhead whale"
        ],
        [
         "136978",
         "Balaenidae",
         "Right and bowhead whales"
        ],
        [
         "137087",
         "Balaenoptera acutorostrata",
         "Common minke whale"
        ],
        [
         "231405",
         "Balaenoptera bonaerensis",
         "Antarctic minke whale"
        ],
        [
         "137088",
         "Balaenoptera borealis",
         "Sei whale"
        ],
        [
         "137089",
         "Balaenoptera edeni",
         "Bryde's whale"
        ],
        [
         "137090",
         "Balaenoptera musculus",
         "Blue whale"
        ],
        [
         "343896",
         "Balaenoptera omurai",
         "Omura's whale"
        ],
        [
         "137091",
         "Balaenoptera physalus",
         "Fin whale"
        ],
        [
         "136979",
         "Balaenopteridae ",
         "Rorquals"
        ],
        [
         "242606",
         "Berardius arnuxii",
         "Arnoux's beaked whale"
        ],
        [
         "242608",
         "Berardius bairdii",
         "Baird's beaked whale"
        ],
        [
         "254996",
         "Callorhinus ",
         null
        ],
        [
         "254997",
         "Callorhinus ursinus",
         "northern fur seal"
        ],
        [
         "231424",
         "Caperea marginata",
         "Pygmy right whale"
        ],
        [
         "137066",
         "Caretta ",
         null
        ],
        [
         "137205",
         "Caretta caretta",
         "loggerhead turtle"
        ],
        [
         "254976",
         "Cephalorhynchus commersonii",
         "Commerson's dolphin"
        ],
        [
         "254977",
         "Cephalorhynchus eutropia",
         "Chilean dolphin"
        ],
        [
         "254978",
         "Cephalorhynchus heavisidii",
         "Heaviside's dolphin"
        ],
        [
         "254979",
         "Cephalorhynchus hectori",
         "Hector's dolphin"
        ],
        [
         "2688",
         "Cetacea",
         "Cetacean"
        ],
        [
         "105837",
         "Cetorhinus maximus",
         "Basking shark"
        ],
        [
         "137067",
         "Chelonia ",
         null
        ],
        [
         "137206",
         "Chelonia mydas",
         "green turtle"
        ],
        [
         "987094",
         "Chelonioidea ",
         "Marine turtles"
        ],
        [
         "137006",
         "Cystophora",
         null
        ],
        [
         "137078",
         "Cystophora cristata",
         "Hooded Seal"
        ],
        [
         "137115",
         "Delphinapterus leucas",
         "Beluga"
        ],
        [
         "136980",
         "Delphinidae",
         "Dolphin"
        ],
        [
         "137094",
         "Delphinus delphis",
         "Common dolphin"
        ],
        [
         "137000",
         "Dermochelyidae ",
         null
        ],
        [
         "137070",
         "Dermochelys",
         "leatherback sea turtles"
        ],
        [
         "137209",
         "Dermochelys coriacea",
         "leatherback turtle"
        ],
        [
         "242597",
         "Enhydra",
         "Sea otter"
        ],
        [
         "242598",
         "Enhydra lutris",
         "Sea otter"
        ],
        [
         "137068",
         "Eretmochelys ",
         null
        ],
        [
         "137207",
         "Eretmochelys imbricata",
         "hawksbill turtle"
        ],
        [
         "137007",
         "Erignathus",
         null
        ],
        [
         "137079",
         "Erignathus barbatus",
         "Bearded Seal"
        ]
       ],
       "shape": {
        "columns": 2,
        "rows": 187
       }
      },
      "text/html": [
       "<div>\n",
       "<style scoped>\n",
       "    .dataframe tbody tr th:only-of-type {\n",
       "        vertical-align: middle;\n",
       "    }\n",
       "\n",
       "    .dataframe tbody tr th {\n",
       "        vertical-align: top;\n",
       "    }\n",
       "\n",
       "    .dataframe thead th {\n",
       "        text-align: right;\n",
       "    }\n",
       "</style>\n",
       "<table border=\"1\" class=\"dataframe\">\n",
       "  <thead>\n",
       "    <tr style=\"text-align: right;\">\n",
       "      <th></th>\n",
       "      <th>Description</th>\n",
       "      <th>Common name</th>\n",
       "    </tr>\n",
       "    <tr>\n",
       "      <th>AphiaID</th>\n",
       "      <th></th>\n",
       "      <th></th>\n",
       "    </tr>\n",
       "  </thead>\n",
       "  <tbody>\n",
       "    <tr>\n",
       "      <th>105740</th>\n",
       "      <td>Alopias</td>\n",
       "      <td>Thresher shark</td>\n",
       "    </tr>\n",
       "    <tr>\n",
       "      <th>105835</th>\n",
       "      <td>Alopias superciliosus</td>\n",
       "      <td>Bigeye thresher shark</td>\n",
       "    </tr>\n",
       "    <tr>\n",
       "      <th>105836</th>\n",
       "      <td>Alopias vulpinus</td>\n",
       "      <td>common thresher shark</td>\n",
       "    </tr>\n",
       "    <tr>\n",
       "      <th>231390</th>\n",
       "      <td>Arctocephalus</td>\n",
       "      <td>NaN</td>\n",
       "    </tr>\n",
       "    <tr>\n",
       "      <th>231435</th>\n",
       "      <td>Arctocephalus australis</td>\n",
       "      <td>South American fur seal</td>\n",
       "    </tr>\n",
       "    <tr>\n",
       "      <th>...</th>\n",
       "      <td>...</td>\n",
       "      <td>...</td>\n",
       "    </tr>\n",
       "    <tr>\n",
       "      <th>255003</th>\n",
       "      <td>Zalophus californianus</td>\n",
       "      <td>California sea lion</td>\n",
       "    </tr>\n",
       "    <tr>\n",
       "      <th>255004</th>\n",
       "      <td>Zalophus japonicus</td>\n",
       "      <td>Japanese sea lion</td>\n",
       "    </tr>\n",
       "    <tr>\n",
       "      <th>255005</th>\n",
       "      <td>Zalophus wollebaeki</td>\n",
       "      <td>Galápagos sea lion</td>\n",
       "    </tr>\n",
       "    <tr>\n",
       "      <th>136986</th>\n",
       "      <td>Ziphiidae</td>\n",
       "      <td>Beaked whales</td>\n",
       "    </tr>\n",
       "    <tr>\n",
       "      <th>137127</th>\n",
       "      <td>Ziphius cavirostris</td>\n",
       "      <td>Cuvier's beaked whale</td>\n",
       "    </tr>\n",
       "  </tbody>\n",
       "</table>\n",
       "<p>187 rows × 2 columns</p>\n",
       "</div>"
      ],
      "text/plain": [
       "                     Description              Common name\n",
       "AphiaID                                                  \n",
       "105740                   Alopias           Thresher shark\n",
       "105835     Alopias superciliosus    Bigeye thresher shark\n",
       "105836          Alopias vulpinus    common thresher shark\n",
       "231390            Arctocephalus                       NaN\n",
       "231435   Arctocephalus australis  South American fur seal\n",
       "...                          ...                      ...\n",
       "255003    Zalophus californianus      California sea lion\n",
       "255004        Zalophus japonicus        Japanese sea lion\n",
       "255005      Zalophus wollebaeki        Galápagos sea lion\n",
       "136986                 Ziphiidae            Beaked whales\n",
       "137127       Ziphius cavirostris    Cuvier's beaked whale\n",
       "\n",
       "[187 rows x 2 columns]"
      ]
     },
     "execution_count": 4,
     "metadata": {},
     "output_type": "execute_result"
    }
   ],
   "source": [
    "IDs_and_names = pd.read_csv(\"images_and_sounds/aphiaIDs_and_names.csv\").set_index(\"AphiaID\")\n",
    "IDs_and_names"
   ]
  },
  {
   "cell_type": "code",
   "execution_count": 5,
   "metadata": {},
   "outputs": [
    {
     "data": {
      "text/plain": [
       "{'Alopias': 'Thresher shark',\n",
       " 'Alopias superciliosus': 'Bigeye thresher shark',\n",
       " 'Alopias vulpinus': 'common thresher shark',\n",
       " 'Arctocephalus ': nan,\n",
       " 'Arctocephalus australis': 'South American fur seal',\n",
       " 'Arctocephalus galapagoensis': 'Galápagos fur seal',\n",
       " 'Arctocephalus gazella': 'Antarctic fur seal',\n",
       " 'Arctocephalus philippii ': 'Juan Fernandez fur seal',\n",
       " 'Arctocephalus pusillus': 'Cape fur seal',\n",
       " 'Arctocephalus tropicalis': 'subantarctic fur seal',\n",
       " 'Balaena mysticetus': 'Bowhead whale',\n",
       " 'Balaenidae': 'Right and bowhead whales',\n",
       " 'Balaenoptera acutorostrata': 'Common minke whale',\n",
       " 'Balaenoptera bonaerensis': 'Antarctic minke whale',\n",
       " 'Balaenoptera borealis': 'Sei whale',\n",
       " 'Balaenoptera edeni': \"Bryde's whale\",\n",
       " 'Balaenoptera musculus': 'Blue whale',\n",
       " 'Balaenoptera omurai': \"Omura's whale\",\n",
       " 'Balaenoptera physalus': 'Fin whale',\n",
       " 'Balaenopteridae ': 'Rorquals',\n",
       " 'Berardius arnuxii': \"Arnoux's beaked whale\",\n",
       " 'Berardius bairdii': \"Baird's beaked whale\",\n",
       " 'Callorhinus ': nan,\n",
       " 'Callorhinus ursinus': 'northern fur seal',\n",
       " 'Caperea marginata': 'Pygmy right whale',\n",
       " 'Caretta ': nan,\n",
       " 'Caretta caretta': 'loggerhead turtle',\n",
       " 'Cephalorhynchus commersonii': \"Commerson's dolphin\",\n",
       " 'Cephalorhynchus eutropia': 'Chilean dolphin',\n",
       " 'Cephalorhynchus heavisidii': \"Heaviside's dolphin\",\n",
       " 'Cephalorhynchus hectori': \"Hector's dolphin\",\n",
       " 'Cetacea': 'Cetacean',\n",
       " 'Cetorhinus maximus': 'Basking shark',\n",
       " 'Chelonia ': nan,\n",
       " 'Chelonia mydas': 'green turtle',\n",
       " 'Chelonioidea ': 'Marine turtles',\n",
       " 'Cystophora': nan,\n",
       " 'Cystophora cristata': 'Hooded Seal',\n",
       " 'Delphinapterus leucas': 'Beluga',\n",
       " 'Delphinidae': 'Dolphin',\n",
       " 'Delphinus delphis': 'Common dolphin',\n",
       " 'Dermochelyidae ': nan,\n",
       " 'Dermochelys': 'leatherback sea turtles',\n",
       " 'Dermochelys coriacea': 'leatherback turtle',\n",
       " 'Enhydra': 'Sea otter',\n",
       " 'Enhydra lutris': 'Sea otter',\n",
       " 'Eretmochelys ': nan,\n",
       " 'Eretmochelys imbricata': 'hawksbill turtle',\n",
       " 'Erignathus': nan,\n",
       " 'Erignathus barbatus': 'Bearded Seal',\n",
       " 'Eschrichtius robustus': 'Grey whale',\n",
       " 'Eubalaena': 'Right whales',\n",
       " 'Eubalaena australis': 'Southern right whale',\n",
       " 'Eubalaena glacialis': 'North Atlantic right whale',\n",
       " 'Eubalaena japonica': 'Pacific right whale',\n",
       " 'Eumetopias ': nan,\n",
       " 'Eumetopias jubatus': 'Steller sea lion',\n",
       " 'Feresa attenuata': 'Pygmy killer whale',\n",
       " 'Globicephala ': 'pilot whales',\n",
       " 'Globicephala macrorhynchus': 'Short-finned pilot whale',\n",
       " 'Globicephala melas': 'Long-finned pilot whale',\n",
       " 'Grampus griseus': \"Risso's dolphin\",\n",
       " 'Halichoerus': nan,\n",
       " 'Halichoerus grypus': 'Grey Seal',\n",
       " 'Histriophoca ': nan,\n",
       " 'Histriophoca fasciata': 'Ribbon seal',\n",
       " 'Hydrurga ': nan,\n",
       " 'Hydrurga leptonyx': 'leopard seal',\n",
       " 'Hyperoodon ampullatus': 'Northern bottlenose whale',\n",
       " 'Hyperoodon planifrons': 'Southern bottlenose whale',\n",
       " 'Indopacetus pacificus': \"Longman's beaked whale\",\n",
       " 'Kogia breviceps': 'Pygmy sperm whale',\n",
       " 'Kogia sima': 'Dwarf sperm whale',\n",
       " 'Kogia\\xa0': 'Pygmy and dwarf sperm whales',\n",
       " 'Lagenodelphis hosei': \"Fraser's dolphin\",\n",
       " 'Lagenorhynchus': nan,\n",
       " 'Lagenorhynchus acutus': 'Atlantic white-sided dolphin',\n",
       " 'Lagenorhynchus albirostris': 'White-beaked dolphin',\n",
       " 'Lagenorhynchus australis': \"Peale's dolphin\",\n",
       " 'Lagenorhynchus cruciger': 'Hourglass dolphin',\n",
       " 'Lagenorhynchus obliquidens': 'Pacific white-sided dolphin',\n",
       " 'Lagenorhynchus obscurus': 'Dusky dolphin',\n",
       " 'Lepidochelys ': nan,\n",
       " 'Lepidochelys kempii': \"Kemp's ridley turtle\",\n",
       " 'Lepidochelys olivacea': 'Pacific ridley turtle',\n",
       " 'Leptonychotes ': nan,\n",
       " 'Leptonychotes weddellii': 'Weddell seal',\n",
       " 'Lissodelphis borealis': 'Northern right whale dolphin',\n",
       " 'Lissodelphis peronii': 'Southern right whale dolphin',\n",
       " 'Lobodon': nan,\n",
       " 'Lobodon carcinophagus': 'crabeater seal',\n",
       " 'Lutra': 'Otter',\n",
       " 'Lutra lutra': 'European otter',\n",
       " 'Megaptera novaeangliae': 'Humpback whale',\n",
       " 'Mesoplodon bidens': \"Sowerby's beaked whale\",\n",
       " 'Mesoplodon bowdoini': \"Andrew's beaked whale\",\n",
       " 'Mesoplodon carlhubbsi': \"Hubbs' beaked whale\",\n",
       " 'Mesoplodon densirostris': \"Blainville's beaked whale\",\n",
       " 'Mesoplodon europaeus': \"Gervais' beaked whale\",\n",
       " 'Mesoplodon ginkgodens': 'Ginkgo-toothed beaked whale',\n",
       " 'Mesoplodon grayi': \"Gray's beaked whale\",\n",
       " 'Mesoplodon hectori ': \"Hector's beaked whale\",\n",
       " 'Mesoplodon hotaula': \"Deraniyagala's beaked whale\",\n",
       " 'Mesoplodon layardii': \"Layard's beaked whale\",\n",
       " 'Mesoplodon mirus': \"True's beaked whale\",\n",
       " 'Mesoplodon perrini': \"Perrin's beaked whale\",\n",
       " 'Mesoplodon peruvianus': 'Peruvian beaked whale',\n",
       " 'Mesoplodon stejnegeri': \"Stejneger's beaked whale\",\n",
       " 'Mesoplodon traversii': 'Spade-toothed beaked whale',\n",
       " 'Mirounga ': nan,\n",
       " 'Mirounga angustirostris': 'northern elephant seal',\n",
       " 'Mirounga leonina': 'southern elephant seal',\n",
       " 'Mola': 'Sunfishes',\n",
       " 'Mola alexandrini': 'Southern ocean sunfish',\n",
       " 'Mola mola': 'Ocean sunfish',\n",
       " 'Molidae ': 'ocean sunfishes',\n",
       " 'Monachus ': nan,\n",
       " 'Monachus monachus': 'monk seal',\n",
       " 'Monodon monoceros': 'Narwhal',\n",
       " 'Monodontidae': 'Narwhal and beluga',\n",
       " 'Mysticeti': 'Whale',\n",
       " 'Natator': nan,\n",
       " 'Natator depressus': 'flatback turtle',\n",
       " 'Neophoca ': nan,\n",
       " 'Neophoca cinerea': 'Australian sea lion',\n",
       " 'Neophocaena asiaeorientalis': 'Narrow-ridged finless porpoise',\n",
       " 'Neophocaena phocaenoides': 'Finless porpoise',\n",
       " 'Odobenidae': nan,\n",
       " 'Odobenus': nan,\n",
       " 'Odobenus rosmarus': 'Walrus',\n",
       " 'Odontoceti': 'Dolphins and porpoises',\n",
       " 'Ommatophoca ': nan,\n",
       " 'Ommatophoca rossii': 'Ross seal',\n",
       " 'Orcaella brevirostris': 'Irrawaddy dolphin',\n",
       " 'Orcinus orca': 'Orca',\n",
       " 'Otaria byronia': 'South American sea lion',\n",
       " 'Otariidae': nan,\n",
       " 'Pagophilus': nan,\n",
       " 'Pagophilus groenlandicus': 'Harp Seal',\n",
       " 'Peponocephala electra': 'Melon-headed whale',\n",
       " 'Phoca': nan,\n",
       " 'Phoca vitulina': 'Harbour Seal',\n",
       " 'Phocarctos ': nan,\n",
       " 'Phocarctos hookeri ': 'New Zealand sea lion',\n",
       " 'Phocidae': 'True Seals',\n",
       " 'Phocoena dioptrica': 'Spectacled porpoise',\n",
       " 'Phocoena phocoena': 'Harbour porpoise',\n",
       " 'Phocoena sinus': 'Vaquita',\n",
       " 'Phocoena spinipinnis': 'Black porpoise',\n",
       " 'Phocoenidae': 'Porpoises',\n",
       " 'Phocoenoides dalli': 'Dall porpoise',\n",
       " 'Physeter macrocephalus': 'Sperm whale',\n",
       " 'Pinnipedia': 'seals, sealons and warlrus',\n",
       " 'Pontoporia blainvillei': 'Franciscana',\n",
       " 'Prionace glauca': 'Blue shark',\n",
       " 'Pseudorca crassidens': 'False killer whale',\n",
       " 'Pusa': nan,\n",
       " 'Pusa hispida': 'Ringed Seal',\n",
       " 'Selachii': 'Shark',\n",
       " 'Sotalia guianensis': 'Guiana dolphin',\n",
       " 'Sousa': 'Humpback dolphin',\n",
       " 'Sousa chinensis': 'Indo-Pacific hump-backed dolphin',\n",
       " 'Sousa plumbea': 'Humpback dolphin',\n",
       " 'Sousa sahulensis': 'Australian humpback dolphin',\n",
       " 'Sousa teuszii': 'Atlantic hump-backed dolphin',\n",
       " 'Stenella attenuata': 'Pantropical spotted dolphin',\n",
       " 'Stenella clymene': 'Short-snouted spinner dolphin',\n",
       " 'Stenella coeruleoalba': 'Striped dolphin',\n",
       " 'Stenella frontalis': 'Atlantic spotted dolphin',\n",
       " 'Stenella longirostris': 'Long-snouted spinner dolphin',\n",
       " 'Steno bredanensis': 'Rough-toothed dolphin',\n",
       " 'Tasmacetus shepherdi': \"Shepherd's beaked whale\",\n",
       " 'Thunnus': 'Tuna',\n",
       " 'Thunnus albacares': 'Yellowfin Tuna',\n",
       " 'Thunnus thynnus': 'Bluefin tuna',\n",
       " 'Tursiops ': 'Bottlenose dolphins',\n",
       " 'Tursiops aduncus': 'Indo-Pacific bottlenose dolphin',\n",
       " 'Tursiops truncatus': 'Common bottlenose dolphin',\n",
       " 'Ursus maritimus': 'Polar bear',\n",
       " 'Xiphias': 'Swordfish',\n",
       " 'Xiphias gladius': 'Swordfish',\n",
       " 'Zalophus ': nan,\n",
       " 'Zalophus californianus': 'California sea lion',\n",
       " 'Zalophus japonicus': 'Japanese sea lion',\n",
       " 'Zalophus wollebaeki ': 'Galápagos sea lion',\n",
       " 'Ziphiidae': 'Beaked whales',\n",
       " 'Ziphius cavirostris': \"Cuvier's beaked whale\"}"
      ]
     },
     "execution_count": 5,
     "metadata": {},
     "output_type": "execute_result"
    }
   ],
   "source": [
    "mapping_names = {descr : com_nam for _, (descr, com_nam) in IDs_and_names.iterrows()}\n",
    "mapping_names"
   ]
  },
  {
   "cell_type": "code",
   "execution_count": 6,
   "metadata": {},
   "outputs": [],
   "source": [
    "philogenetic_tree_names = ['Stenella longirostris',\n",
    "'Stenella clymene',\n",
    "'Lagenodelphis hosei',\n",
    "'Delphinus delphis',\n",
    "'Stenella coeruleoalba',\n",
    "'Stenella attenuata',\n",
    "'Stenella frontalis',\n",
    "'Tursiops aduncus',\n",
    "'Tursiops truncatus',\n",
    "'Sousa chinensis',\n",
    "'Sotalia guianensis',\n",
    "'Globicephala melas',\n",
    "'Globicephala macrorhynchus',\n",
    "'Peponocephala electra',\n",
    "'Feresa attenuata',\n",
    "'Pseudorca crassidens',\n",
    "'Grampus griseus',\n",
    "'Steno bredanensis',\n",
    "'Orcaella brevirostris',\n",
    "'Orcaella heinsohnii',\n",
    "'Lagenorhynchus obliquidens',\n",
    "'Lagenorhynchus obscurus',\n",
    "'Lissodelphis peroni',\n",
    "'Lissodelphis borealis',\n",
    "'Lagenorhynchus australis',\n",
    "'Cephalorhynchus heavisidil',\n",
    "'Cephalorhynchus commersoni',\n",
    "'Lagenorhynchus albirostris',\n",
    "'Orcinus orca',\n",
    "'Lagenorhynchus acutus',\n",
    "'Phocoena dioptrica',\n",
    "'Phocoena spinnipinis',\n",
    "'Phocoena phocoena',\n",
    "'Phocoenoides dalli',\n",
    "'Neophocaena phocaenoides',\n",
    "'Delphinapterus leucas',\n",
    "'Monodon monoceros',\n",
    "'Inia geoffrensis',\n",
    "'Pontoporia blainviller',\n",
    "'Ipotes vexillife',\n",
    "'lesoplodon peruvianus',\n",
    "'Mesoplodon perrini',\n",
    "'Mesoplodon densirostris',\n",
    "'Mesolpodon stejnegeri',\n",
    "'Viesoplodon grayli',\n",
    "'Mesoplodon hectori',\n",
    "'Mesoplodon carlhubbsi',\n",
    "'Mesoplodon bowdoini',\n",
    "'Mesoplodon layardi',\n",
    "'Mesoplodon europaeus',\n",
    "'Mesoplodon mirus',\n",
    "'Mesoplodon gingkodens',\n",
    "'Mesoplodon bidens',\n",
    "'Hyperoodon ampullatus',\n",
    "'Hyperoodon planifrons',\n",
    "'Ziphius cavirostris lasmacetus shepherdi',\n",
    "'Berardius bairdit',\n",
    "'Berardius arnouxii',\n",
    "'Kogia sima',\n",
    "'Kogia brevirostris',\n",
    "'Physeter macrocephalus',\n",
    "'Balaenoptera borealis',\n",
    "'Balaenoptera edeni',\n",
    "'Balaenoptera musculus',\n",
    "'Balaenoptera physalus',\n",
    "'Megaptera novaeangliae',\n",
    "'Eschrictius robustus',\n",
    "'Balaenoptera acutorostrata',\n",
    "'Balaenoptera bonaerensis',\n",
    "'Caperea marginata',\n",
    "'Eubalaena glacialis',\n",
    "'Eubalaena japonica',\n",
    "'Eubalaena australis',\n",
    "'Balaena mysticetus']"
   ]
  },
  {
   "cell_type": "code",
   "execution_count": 16,
   "metadata": {},
   "outputs": [
    {
     "data": {
      "text/plain": [
       "74"
      ]
     },
     "execution_count": 16,
     "metadata": {},
     "output_type": "execute_result"
    }
   ],
   "source": [
    "len(philogenetic_tree_names)"
   ]
  },
  {
   "cell_type": "code",
   "execution_count": 12,
   "metadata": {},
   "outputs": [],
   "source": [
    "mapping_names['Orcaella heinsohnii'] = 'Australian snubfin dolphin'\n",
    "mapping_names['Lissodelphis peroni'] = \"Southern right whale dolphin\"\n",
    "mapping_names['Cephalorhynchus heavisidil'] = \"Heaviside's dolphin\"\n",
    "mapping_names['Cephalorhynchus commersoni'] = \"Commerson's dolphin\"\n",
    "mapping_names['Phocoena spinnipinis'] = \"Burmeister's porpoise\"\n",
    "mapping_names['Inia geoffrensis'] = \"Amazon river dolphin\"\n",
    "mapping_names['Pontoporia blainviller'] = \"La Plata dolphin\"\n",
    "mapping_names['Ipotes vexillife'] = \"Baiji\"\n",
    "mapping_names['lesoplodon peruvianus'] = \"Pygmy beaked whale\"\n",
    "mapping_names['Mesolpodon stejnegeri'] = \"Stejneger's beaked whale\"\n",
    "mapping_names['Viesoplodon grayli'] = \"Gray's beaked whale\"\n",
    "mapping_names['Mesoplodon hectori'] = \"Hector's beaked whale\"\n",
    "mapping_names['Mesoplodon layardi'] = \"Strap-toothed beaked whale\"\n",
    "mapping_names['Mesoplodon gingkodens'] = \"Ginkgo-toothed beaked whale\"\n",
    "mapping_names['Ziphius cavirostris lasmacetus shepherdi'] = \"Cuvier's beaked whale\"\n",
    "mapping_names['Berardius bairdit'] = \"Baird's beaked whale\"\n",
    "mapping_names['Berardius arnouxii'] = \"Arnoux's beaked whale\"\n",
    "mapping_names['Kogia brevirostris'] = \"Pygmy sperm whale\"\n",
    "mapping_names['Eschrictius robustus'] = \"Gray whale\""
   ]
  },
  {
   "cell_type": "code",
   "execution_count": 13,
   "metadata": {},
   "outputs": [],
   "source": [
    "for name in philogenetic_tree_names:\n",
    "    if name not in mapping_names:\n",
    "        print(name)"
   ]
  },
  {
   "cell_type": "code",
   "execution_count": 14,
   "metadata": {},
   "outputs": [
    {
     "data": {
      "text/plain": [
       "['Long-snouted spinner dolphin',\n",
       " 'Short-snouted spinner dolphin',\n",
       " \"Fraser's dolphin\",\n",
       " 'Common dolphin',\n",
       " 'Striped dolphin',\n",
       " 'Pantropical spotted dolphin',\n",
       " 'Atlantic spotted dolphin',\n",
       " 'Indo-Pacific bottlenose dolphin',\n",
       " 'Common bottlenose dolphin',\n",
       " 'Indo-Pacific hump-backed dolphin',\n",
       " 'Guiana dolphin',\n",
       " 'Long-finned pilot whale',\n",
       " 'Short-finned pilot whale',\n",
       " 'Melon-headed whale',\n",
       " 'Pygmy killer whale',\n",
       " 'False killer whale',\n",
       " \"Risso's dolphin\",\n",
       " 'Rough-toothed dolphin',\n",
       " 'Irrawaddy dolphin',\n",
       " 'Australian snubfin dolphin',\n",
       " 'Pacific white-sided dolphin',\n",
       " 'Dusky dolphin',\n",
       " 'Southern right whale dolphin',\n",
       " 'Northern right whale dolphin',\n",
       " \"Peale's dolphin\",\n",
       " \"Heaviside's dolphin\",\n",
       " \"Commerson's dolphin\",\n",
       " 'White-beaked dolphin',\n",
       " 'Orca',\n",
       " 'Atlantic white-sided dolphin',\n",
       " 'Spectacled porpoise',\n",
       " \"Burmeister's porpoise\",\n",
       " 'Harbour porpoise',\n",
       " 'Dall porpoise',\n",
       " 'Finless porpoise',\n",
       " 'Beluga',\n",
       " 'Narwhal',\n",
       " 'Amazon river dolphin',\n",
       " 'La Plata dolphin',\n",
       " 'Baiji',\n",
       " 'Pygmy beaked whale',\n",
       " \"Perrin's beaked whale\",\n",
       " \"Blainville's beaked whale\",\n",
       " \"Stejneger's beaked whale\",\n",
       " \"Gray's beaked whale\",\n",
       " \"Hector's beaked whale\",\n",
       " \"Hubbs' beaked whale\",\n",
       " \"Andrew's beaked whale\",\n",
       " 'Strap-toothed beaked whale',\n",
       " \"Gervais' beaked whale\",\n",
       " \"True's beaked whale\",\n",
       " 'Ginkgo-toothed beaked whale',\n",
       " \"Sowerby's beaked whale\",\n",
       " 'Northern bottlenose whale',\n",
       " 'Southern bottlenose whale',\n",
       " \"Cuvier's beaked whale\",\n",
       " \"Baird's beaked whale\",\n",
       " \"Arnoux's beaked whale\",\n",
       " 'Dwarf sperm whale',\n",
       " 'Pygmy sperm whale',\n",
       " 'Sperm whale',\n",
       " 'Sei whale',\n",
       " \"Bryde's whale\",\n",
       " 'Blue whale',\n",
       " 'Fin whale',\n",
       " 'Humpback whale',\n",
       " 'Gray whale',\n",
       " 'Common minke whale',\n",
       " 'Antarctic minke whale',\n",
       " 'Pygmy right whale',\n",
       " 'North Atlantic right whale',\n",
       " 'Pacific right whale',\n",
       " 'Southern right whale',\n",
       " 'Bowhead whale']"
      ]
     },
     "execution_count": 14,
     "metadata": {},
     "output_type": "execute_result"
    }
   ],
   "source": [
    "philo_common_names = [mapping_names[name] for name in philogenetic_tree_names]\n",
    "philo_common_names"
   ]
  },
  {
   "cell_type": "code",
   "execution_count": 10,
   "metadata": {},
   "outputs": [
    {
     "name": "stderr",
     "output_type": "stream",
     "text": [
      "Scraping Wikipedia images:   1%|▏         | 1/74 [00:00<00:15,  4.59pages/s]"
     ]
    },
    {
     "name": "stdout",
     "output_type": "stream",
     "text": [
      "No image found for Long-snouted spinner dolphin :(\n"
     ]
    },
    {
     "name": "stderr",
     "output_type": "stream",
     "text": [
      "Scraping Wikipedia images:   3%|▎         | 2/74 [00:00<00:15,  4.78pages/s]"
     ]
    },
    {
     "name": "stdout",
     "output_type": "stream",
     "text": [
      "No image found for Short-snouted spinner dolphin :(\n"
     ]
    },
    {
     "name": "stderr",
     "output_type": "stream",
     "text": [
      "Scraping Wikipedia images:  14%|█▎        | 10/74 [00:03<00:21,  3.04pages/s]"
     ]
    },
    {
     "name": "stdout",
     "output_type": "stream",
     "text": [
      "No image found for Indo-Pacific hump-backed dolphin :(\n"
     ]
    },
    {
     "name": "stderr",
     "output_type": "stream",
     "text": [
      "Scraping Wikipedia images:  46%|████▌     | 34/74 [00:13<00:12,  3.25pages/s]"
     ]
    },
    {
     "name": "stdout",
     "output_type": "stream",
     "text": [
      "No image found for Dall porpoise :(\n"
     ]
    },
    {
     "name": "stderr",
     "output_type": "stream",
     "text": [
      "Scraping Wikipedia images:  49%|████▊     | 36/74 [00:13<00:11,  3.44pages/s]"
     ]
    },
    {
     "name": "stdout",
     "output_type": "stream",
     "text": [
      "No image found for Beluga :(\n"
     ]
    },
    {
     "name": "stderr",
     "output_type": "stream",
     "text": [
      "Scraping Wikipedia images:  65%|██████▍   | 48/74 [00:20<00:07,  3.32pages/s]"
     ]
    },
    {
     "name": "stdout",
     "output_type": "stream",
     "text": [
      "No image found for Andrew's beaked whale :(\n"
     ]
    },
    {
     "name": "stderr",
     "output_type": "stream",
     "text": [
      "Scraping Wikipedia images:  66%|██████▌   | 49/74 [00:20<00:06,  3.65pages/s]"
     ]
    },
    {
     "name": "stdout",
     "output_type": "stream",
     "text": [
      "No image found for strap-toothed beaked whale :(\n"
     ]
    },
    {
     "name": "stderr",
     "output_type": "stream",
     "text": [
      "Scraping Wikipedia images:  68%|██████▊   | 50/74 [00:20<00:06,  3.77pages/s]"
     ]
    },
    {
     "name": "stdout",
     "output_type": "stream",
     "text": [
      "No image found for Gervais' beaked whale :(\n"
     ]
    },
    {
     "name": "stderr",
     "output_type": "stream",
     "text": [
      "Scraping Wikipedia images:  97%|█████████▋| 72/74 [00:29<00:00,  2.95pages/s]"
     ]
    },
    {
     "name": "stdout",
     "output_type": "stream",
     "text": [
      "No image found for Pacific right whale :(\n"
     ]
    },
    {
     "name": "stderr",
     "output_type": "stream",
     "text": [
      "Scraping Wikipedia images: 100%|██████████| 74/74 [00:30<00:00,  2.43pages/s]"
     ]
    },
    {
     "name": "stdout",
     "output_type": "stream",
     "text": [
      "All done!\n"
     ]
    },
    {
     "name": "stderr",
     "output_type": "stream",
     "text": [
      "\n"
     ]
    }
   ],
   "source": [
    "import requests, os\n",
    "from tqdm import tqdm\n",
    "\n",
    "# Set the folder name where images will be stored\n",
    "my_folder = 'wiki_images'\n",
    "os.makedirs(my_folder, exist_ok=True)\n",
    "\n",
    "# Base URL for Wikipedia API\n",
    "query = 'http://en.wikipedia.org/w/api.php?action=query&prop=pageimages&format=json&piprop=original&titles='\n",
    "\n",
    "# Wikipedia article to download the main image from\n",
    "my_list = philo_common_names#species_list#IDs_and_names[\"Common name\"].dropna().tolist()\n",
    "\n",
    "# Define User-Agent header to respect Wikipedia's user-client policy :,)\n",
    "HEADERS = {\n",
    "    \"User-Agent\": \"WhereWereWhales: cetaceans images from Wikipedia\"\n",
    "}\n",
    "\n",
    "\n",
    "def get_image_url(partial_url):\n",
    "    \"\"\" Gets the main image URL from a Wikipedia article \"\"\"\n",
    "    try:\n",
    "        api_res = requests.get(query + partial_url, headers=HEADERS).json()\n",
    "        first_part = api_res['query']['pages']\n",
    "        for key, value in first_part.items():\n",
    "            if 'original' in value:\n",
    "                return value['original']['source']\n",
    "    except Exception as exc:\n",
    "        print(exc)\n",
    "        print(\"Partial URL: \" + partial_url)\n",
    "    return None\n",
    "\n",
    "\n",
    "def download_image(the_url, the_page):\n",
    "    res = requests.get(the_url, headers=HEADERS) \n",
    "    res.raise_for_status()\n",
    "    \n",
    "    if res.status_code != 200:\n",
    "        print(f\"Error scraping {the_page}: {res.status_code}\")\n",
    "\n",
    "    # Get the correct file extension\n",
    "    file_ext = '.' + the_url.split('.')[-1].lower()\n",
    "    image_file = os.path.join(my_folder, os.path.basename(the_page + file_ext))\n",
    "\n",
    "    # Save the image\n",
    "    with open(image_file, 'wb') as f:\n",
    "        for chunk in res.iter_content(100000):\n",
    "            f.write(chunk)\n",
    "\n",
    "    #print(f\"Downloaded: {image_file}\")\n",
    "\n",
    "# Download images from Wikipedia articles\n",
    "for the_page in tqdm(my_list, desc=\"Scraping Wikipedia images\", unit=\"pages\"):\n",
    "    the_url = get_image_url(the_page)\n",
    "    if the_url:\n",
    "        #print(f\"Downloading an image of a magnificent {the_page}...\")\n",
    "        download_image(the_url, the_page)\n",
    "    else:\n",
    "        print(f\"No image found for {the_page} :(\")\n",
    "\n",
    "print(\"All done!\")\n"
   ]
  },
  {
   "cell_type": "code",
   "execution_count": null,
   "metadata": {},
   "outputs": [
    {
     "ename": "SyntaxError",
     "evalue": "invalid syntax (2611185562.py, line 1)",
     "output_type": "error",
     "traceback": [
      "\u001b[0;36m  Cell \u001b[0;32mIn[11], line 1\u001b[0;36m\u001b[0m\n\u001b[0;31m    Long-snouted spinner dolphin\u001b[0m\n\u001b[0m                 ^\u001b[0m\n\u001b[0;31mSyntaxError\u001b[0m\u001b[0;31m:\u001b[0m invalid syntax\n"
     ]
    }
   ],
   "source": [
    "mapping_names[\"Long-snouted spinner dolphin\"] = \"Spinner dolphin\"\n",
    "mapping_names[\"Short-snouted spinner dolphin\"] = \"Spinner dolphin\"\n",
    "mapping_names[\"Indo-Pacific hump-backed dolphin\"] = \"Indo-Pacific humpback dolphin\"\n",
    "mapping_names[\"Dall porpoise\"] = \"Dall's porpoise\"\n",
    "mapping_names[\"Beluga\"] = \"Beluga whale\" \n",
    "mapping_names[\"Andrew's beaked whale\"] = \"\"\n",
    "mapping_names[\"Strap-toothed beaked whale\"] = \"\"\n",
    "mapping_names[\"Gervais' beaked whale\"] = \"\"\n",
    "mapping_names[\"Pacific right whale\"] = \"\""
   ]
  }
 ],
 "metadata": {
  "kernelspec": {
   "display_name": "outlier",
   "language": "python",
   "name": "python3"
  },
  "language_info": {
   "codemirror_mode": {
    "name": "ipython",
    "version": 3
   },
   "file_extension": ".py",
   "mimetype": "text/x-python",
   "name": "python",
   "nbconvert_exporter": "python",
   "pygments_lexer": "ipython3",
   "version": "3.11.8"
  }
 },
 "nbformat": 4,
 "nbformat_minor": 2
}
