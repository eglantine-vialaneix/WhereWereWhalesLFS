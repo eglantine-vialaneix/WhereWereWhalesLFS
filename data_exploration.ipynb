{
 "cells": [
  {
   "cell_type": "markdown",
   "id": "601c85a1",
   "metadata": {},
   "source": [
    "## Which species are observed in all three data sources?"
   ]
  },
  {
   "cell_type": "code",
   "execution_count": 1,
   "id": "7ebf1986",
   "metadata": {},
   "outputs": [],
   "source": [
    "import pandas as pd\n",
    "import numpy as np\n",
    "import matplotlib.pyplot as plt\n",
    "import networkx as nx\n",
    "import requests\n",
    "from bs4 import BeautifulSoup\n",
    "import re"
   ]
  },
  {
   "cell_type": "code",
   "execution_count": 2,
   "id": "c3064d51",
   "metadata": {},
   "outputs": [],
   "source": [
    "wiki_url = 'https://en.wikipedia.org/wiki/List_of_cetaceans'\n",
    "\n",
    "response = requests.get(wiki_url)\n",
    "soup = BeautifulSoup(response.text, 'html.parser')\n",
    "\n",
    "html_tables = soup.find_all('table', {'class': 'wikitable'})\n",
    "family_names = soup.find_all('div', {'class': 'mw-heading mw-heading3'})\n",
    "family_names = [name.find(\"h3\")[\"id\"] for name in family_names]"
   ]
  },
  {
   "cell_type": "code",
   "execution_count": 3,
   "id": "51cba398",
   "metadata": {},
   "outputs": [
    {
     "data": {
      "application/vnd.microsoft.datawrangler.viewer.v0+json": {
       "columns": [
        {
         "name": "index",
         "rawType": "int64",
         "type": "integer"
        },
        {
         "name": "Family_common",
         "rawType": "object",
         "type": "string"
        },
        {
         "name": "Family_Latin",
         "rawType": "object",
         "type": "string"
        },
        {
         "name": "Genus",
         "rawType": "object",
         "type": "string"
        },
        {
         "name": "Common name",
         "rawType": "object",
         "type": "string"
        },
        {
         "name": "Scientific name",
         "rawType": "object",
         "type": "string"
        },
        {
         "name": "IUCN Red List status",
         "rawType": "object",
         "type": "string"
        },
        {
         "name": "Global population estimate",
         "rawType": "object",
         "type": "string"
        },
        {
         "name": "Range",
         "rawType": "object",
         "type": "string"
        },
        {
         "name": "Size",
         "rawType": "object",
         "type": "string"
        },
        {
         "name": "Picture",
         "rawType": "object",
         "type": "string"
        }
       ],
       "ref": "0b72681c-1b6c-4d65-aebc-c2ba0e0eda5e",
       "rows": [
        [
         "0",
         "right_whales",
         "Balaenidae",
         "Balaena",
         "Bowhead whale",
         "Balaena mysticetus",
         "LC",
         "10,000",
         "",
         "60 t (66 short tons)",
         ""
        ],
        [
         "1",
         "right_whales",
         "Balaenidae",
         "Eubalaena",
         "North Atlantic right whale",
         "Eubalaena glacialis",
         "CR",
         "350",
         "",
         "40–80 t (44–88 short tons)",
         ""
        ],
        [
         "2",
         "right_whales",
         "Balaenidae",
         "Eubalaena",
         "North Pacific right whale",
         "Eubalaena japonica",
         "EN",
         "404–2,108[12]",
         "",
         "60–80 t (66–88 short tons)",
         ""
        ],
        [
         "3",
         "right_whales",
         "Balaenidae",
         "Eubalaena",
         "Southern right whale",
         "Eubalaena australis",
         "LC",
         "13,600[13]",
         "",
         "40–80 t (44–88 short tons)",
         ""
        ],
        [
         "5",
         "rorquals",
         "Balaenopteridae",
         "Balaenoptera",
         "Blue whale",
         "Balaenoptera musculus",
         "EN",
         "5,000–15,000",
         "",
         "50–150 t (55–165 short tons)",
         ""
        ]
       ],
       "shape": {
        "columns": 10,
        "rows": 5
       }
      },
      "text/html": [
       "<div>\n",
       "<style scoped>\n",
       "    .dataframe tbody tr th:only-of-type {\n",
       "        vertical-align: middle;\n",
       "    }\n",
       "\n",
       "    .dataframe tbody tr th {\n",
       "        vertical-align: top;\n",
       "    }\n",
       "\n",
       "    .dataframe thead th {\n",
       "        text-align: right;\n",
       "    }\n",
       "</style>\n",
       "<table border=\"1\" class=\"dataframe\">\n",
       "  <thead>\n",
       "    <tr style=\"text-align: right;\">\n",
       "      <th></th>\n",
       "      <th>Family_common</th>\n",
       "      <th>Family_Latin</th>\n",
       "      <th>Genus</th>\n",
       "      <th>Common name</th>\n",
       "      <th>Scientific name</th>\n",
       "      <th>IUCN Red List status</th>\n",
       "      <th>Global population estimate</th>\n",
       "      <th>Range</th>\n",
       "      <th>Size</th>\n",
       "      <th>Picture</th>\n",
       "    </tr>\n",
       "  </thead>\n",
       "  <tbody>\n",
       "    <tr>\n",
       "      <th>0</th>\n",
       "      <td>right_whales</td>\n",
       "      <td>Balaenidae</td>\n",
       "      <td>Balaena</td>\n",
       "      <td>Bowhead whale</td>\n",
       "      <td>Balaena mysticetus</td>\n",
       "      <td>LC</td>\n",
       "      <td>10,000</td>\n",
       "      <td></td>\n",
       "      <td>60 t (66 short tons)</td>\n",
       "      <td></td>\n",
       "    </tr>\n",
       "    <tr>\n",
       "      <th>1</th>\n",
       "      <td>right_whales</td>\n",
       "      <td>Balaenidae</td>\n",
       "      <td>Eubalaena</td>\n",
       "      <td>North Atlantic right whale</td>\n",
       "      <td>Eubalaena glacialis</td>\n",
       "      <td>CR</td>\n",
       "      <td>350</td>\n",
       "      <td></td>\n",
       "      <td>40–80 t (44–88 short tons)</td>\n",
       "      <td></td>\n",
       "    </tr>\n",
       "    <tr>\n",
       "      <th>2</th>\n",
       "      <td>right_whales</td>\n",
       "      <td>Balaenidae</td>\n",
       "      <td>Eubalaena</td>\n",
       "      <td>North Pacific right whale</td>\n",
       "      <td>Eubalaena japonica</td>\n",
       "      <td>EN</td>\n",
       "      <td>404–2,108[12]</td>\n",
       "      <td></td>\n",
       "      <td>60–80 t (66–88 short tons)</td>\n",
       "      <td></td>\n",
       "    </tr>\n",
       "    <tr>\n",
       "      <th>3</th>\n",
       "      <td>right_whales</td>\n",
       "      <td>Balaenidae</td>\n",
       "      <td>Eubalaena</td>\n",
       "      <td>Southern right whale</td>\n",
       "      <td>Eubalaena australis</td>\n",
       "      <td>LC</td>\n",
       "      <td>13,600[13]</td>\n",
       "      <td></td>\n",
       "      <td>40–80 t (44–88 short tons)</td>\n",
       "      <td></td>\n",
       "    </tr>\n",
       "    <tr>\n",
       "      <th>5</th>\n",
       "      <td>rorquals</td>\n",
       "      <td>Balaenopteridae</td>\n",
       "      <td>Balaenoptera</td>\n",
       "      <td>Blue whale</td>\n",
       "      <td>Balaenoptera musculus</td>\n",
       "      <td>EN</td>\n",
       "      <td>5,000–15,000</td>\n",
       "      <td></td>\n",
       "      <td>50–150 t (55–165 short tons)</td>\n",
       "      <td></td>\n",
       "    </tr>\n",
       "  </tbody>\n",
       "</table>\n",
       "</div>"
      ],
      "text/plain": [
       "  Family_common     Family_Latin         Genus                 Common name  \\\n",
       "0  right_whales       Balaenidae       Balaena               Bowhead whale   \n",
       "1  right_whales       Balaenidae     Eubalaena  North Atlantic right whale   \n",
       "2  right_whales       Balaenidae     Eubalaena   North Pacific right whale   \n",
       "3  right_whales       Balaenidae     Eubalaena        Southern right whale   \n",
       "5      rorquals  Balaenopteridae  Balaenoptera                  Blue whale   \n",
       "\n",
       "         Scientific name IUCN Red List status Global population estimate  \\\n",
       "0     Balaena mysticetus                   LC                     10,000   \n",
       "1    Eubalaena glacialis                   CR                        350   \n",
       "2     Eubalaena japonica                   EN              404–2,108[12]   \n",
       "3    Eubalaena australis                   LC                 13,600[13]   \n",
       "5  Balaenoptera musculus                   EN               5,000–15,000   \n",
       "\n",
       "  Range                          Size Picture  \n",
       "0                60 t (66 short tons)          \n",
       "1          40–80 t (44–88 short tons)          \n",
       "2          60–80 t (66–88 short tons)          \n",
       "3          40–80 t (44–88 short tons)          \n",
       "5        50–150 t (55–165 short tons)          "
      ]
     },
     "metadata": {},
     "output_type": "display_data"
    },
    {
     "data": {
      "text/plain": [
       "array(['Balaena mysticetus', 'Eubalaena glacialis', 'Eubalaena japonica',\n",
       "       'Eubalaena australis', 'Balaenoptera musculus',\n",
       "       'Balaenoptera brydei', 'Balaenoptera edeni',\n",
       "       'Balaenoptera acutorostrata', 'Balaenoptera ricei',\n",
       "       'Balaenoptera physalus', 'Balaenoptera omurai',\n",
       "       'Balaenoptera borealis', 'Balaenoptera bonaerensis',\n",
       "       'Megaptera novaeangliae', 'Eschrichtius robustus',\n",
       "       'Caperea marginata', 'Cephalorhynchus eutropia',\n",
       "       'Cephalorhynchus commersonii', 'Cephalorhynchus heavisidii',\n",
       "       'Cephalorhynchus hectori', 'Delphinus delphis', 'Feresa attenuata',\n",
       "       'Globicephala melas', 'Globicephala macrorhynchus',\n",
       "       'Grampus griseus', 'Lagenodelphis hosei',\n",
       "       'Lagenorhynchus albirostris', 'Lagenorhynchus acutus',\n",
       "       'Lagenorhynchus obscurus', 'Lagenorhynchus cruciger',\n",
       "       'Lagenorhynchus obliquidens', 'Lagenorhynchus australis',\n",
       "       'Lissodelphis borealis', 'Lissodelphis peronii',\n",
       "       'Orcaella heinsohni', 'Orcaella brevirostris', 'Orcinus orca',\n",
       "       'Peponocephala electra', 'Pseudorca crassidens', 'Sousa teuszii',\n",
       "       'Sousa sahulensis', 'Sousa plumbea', 'Sousa chinensis',\n",
       "       'Sotalia guianensis', 'Sotalia fluviatilis', 'Stenella frontalis',\n",
       "       'Stenella clymene', 'Stenella attenuata', 'Stenella longirostris',\n",
       "       'Stenella coeruleoalba', 'Steno bredanensis', 'Tursiops truncatus',\n",
       "       'Tursiops aduncus', 'Tursiops erebennus', 'Inia geoffrensis',\n",
       "       'Inia araguaiaensis', 'Kogia sima', 'Kogia breviceps',\n",
       "       'Lipotes vexillifer', 'Delphinapterus leucas', 'Monodon monoceros',\n",
       "       'Neophocaena phocaenoides', 'Neophocaena asiaeorientalis',\n",
       "       'Phocoena spinipinnis', 'Phocoena phocoena', 'Phocoena dioptrica',\n",
       "       'Phocoena sinus', 'Phocoenoides dalli', 'Physeter macrocephalus',\n",
       "       'Platanista gangetica', 'Platanista minor',\n",
       "       'Pontoporia blainvillei', 'Berardius arnuxii', 'Berardius bairdii',\n",
       "       'Berardius minimus', 'Tasmacetus shepherdi', 'Ziphius cavirostris',\n",
       "       'Hyperoodon ampullatus', 'Hyperoodon planifrons',\n",
       "       'Indopacetus pacificus', 'Mesoplodon bowdoini',\n",
       "       'Mesoplodon densirostris', 'Mesoplodon hotaula',\n",
       "       'Mesoplodon europaeus', 'Mesoplodon ginkgodens',\n",
       "       'Mesoplodon grayi', 'Mesoplodon hectori', 'Mesoplodon carlhubbsi',\n",
       "       'Mesoplodon perrini', 'Mesoplodon peruvianus', 'Mesoplodon eueu',\n",
       "       'Mesoplodon bidens', 'Mesoplodon traversii',\n",
       "       'Mesoplodon stejnegeri', 'Mesoplodon layardii', 'Mesoplodon mirus'],\n",
       "      dtype=object)"
      ]
     },
     "execution_count": 3,
     "metadata": {},
     "output_type": "execute_result"
    }
   ],
   "source": [
    "all_rows = []\n",
    "for i, wiki_table in enumerate(html_tables):\n",
    "\n",
    "    family_name = family_names[i]\n",
    "    rows = wiki_table.find_all(\"tr\")\n",
    "\n",
    "    for row in rows:\n",
    "\n",
    "        if 'Genus' in row.get_text():\n",
    "            try:\n",
    "                genus_name = row.find(\"i\").find(\"b\").get_text(strip=True)\n",
    "            except:\n",
    "                raise ValueError('problem with genus row: ', row)\n",
    "\n",
    "        if 'Genus' not in row.get_text() and 'Scientific' not in row.get_text():\n",
    "            info_row = []\n",
    "            for col in row.find_all(\"td\"):\n",
    "                if col.find('i') is not None:\n",
    "                    info = col.find('i').get_text(strip=True)\n",
    "                elif col.find('b') is not None:\n",
    "                    info = col.find('b').get_text(strip=True)\n",
    "                else:\n",
    "                    info = col.get_text(strip=True)\n",
    "                info_row.append(info)\n",
    "            row_info = [family_name, genus_name] + info_row\n",
    "            all_rows.append(row_info)\n",
    "\n",
    "first_table = html_tables[0].find_all(\"tr\")\n",
    "wiki_df = pd.DataFrame(all_rows, columns=['Family', 'Genus'] + [th.get_text(strip=True) for th in first_table[1].find_all(\"th\")])\n",
    "\n",
    "names = wiki_df.Family\n",
    "\n",
    "family_latin = []\n",
    "family_common = []\n",
    "\n",
    "for name in names:\n",
    "    result = re.search('Family_(.*):_', name)\n",
    "    family_latin.append(result.group(1))\n",
    "    result = re.search(':_(.*)', name)\n",
    "    family_common.append(result.group(1))\n",
    "\n",
    "wiki_df.drop(columns='Family', inplace=True)\n",
    "wiki_df.insert(loc=0, column='Family_Latin', value=family_latin)\n",
    "wiki_df.insert(loc=0, column='Family_common', value=family_common)\n",
    "\n",
    "wiki_df = wiki_df.dropna()\n",
    "\n",
    "display(wiki_df.head(5))\n",
    "wiki_df['Scientific name'].unique()"
   ]
  },
  {
   "cell_type": "code",
   "execution_count": 4,
   "id": "7f1ad062",
   "metadata": {},
   "outputs": [
    {
     "data": {
      "application/vnd.microsoft.datawrangler.viewer.v0+json": {
       "columns": [
        {
         "name": "index",
         "rawType": "int64",
         "type": "integer"
        },
        {
         "name": "species_name",
         "rawType": "object",
         "type": "string"
        },
        {
         "name": "common_name",
         "rawType": "object",
         "type": "string"
        },
        {
         "name": "scientific_name",
         "rawType": "object",
         "type": "string"
        },
        {
         "name": "event_month",
         "rawType": "object",
         "type": "string"
        },
        {
         "name": "latitude",
         "rawType": "float64",
         "type": "float"
        },
        {
         "name": "longitude",
         "rawType": "float64",
         "type": "float"
        },
        {
         "name": "individual_count",
         "rawType": "float64",
         "type": "float"
        },
        {
         "name": "IUCN_Red_List_status",
         "rawType": "object",
         "type": "string"
        }
       ],
       "ref": "497c04fd-4d29-45c7-9674-fbc09c162da8",
       "rows": [
        [
         "0",
         "Bowhead",
         "Bowhead",
         "Balaena Mysticetus",
         "2012-08",
         "79.5",
         "50.0",
         "1.0",
         "LC"
        ],
        [
         "1",
         "Bowhead",
         "Bowhead",
         "Balaena Mysticetus",
         "2017-06",
         "80.311508",
         "54.810083",
         "7.5",
         "LC"
        ],
        [
         "2",
         "Bowhead",
         "Bowhead",
         "Balaena Mysticetus",
         "2017-06",
         "79.998846",
         "47.449725",
         "2.0",
         "LC"
        ]
       ],
       "shape": {
        "columns": 8,
        "rows": 3
       }
      },
      "text/html": [
       "<div>\n",
       "<style scoped>\n",
       "    .dataframe tbody tr th:only-of-type {\n",
       "        vertical-align: middle;\n",
       "    }\n",
       "\n",
       "    .dataframe tbody tr th {\n",
       "        vertical-align: top;\n",
       "    }\n",
       "\n",
       "    .dataframe thead th {\n",
       "        text-align: right;\n",
       "    }\n",
       "</style>\n",
       "<table border=\"1\" class=\"dataframe\">\n",
       "  <thead>\n",
       "    <tr style=\"text-align: right;\">\n",
       "      <th></th>\n",
       "      <th>species_name</th>\n",
       "      <th>common_name</th>\n",
       "      <th>scientific_name</th>\n",
       "      <th>event_month</th>\n",
       "      <th>latitude</th>\n",
       "      <th>longitude</th>\n",
       "      <th>individual_count</th>\n",
       "      <th>IUCN_Red_List_status</th>\n",
       "    </tr>\n",
       "  </thead>\n",
       "  <tbody>\n",
       "    <tr>\n",
       "      <th>0</th>\n",
       "      <td>Bowhead</td>\n",
       "      <td>Bowhead</td>\n",
       "      <td>Balaena Mysticetus</td>\n",
       "      <td>2012-08</td>\n",
       "      <td>79.500000</td>\n",
       "      <td>50.000000</td>\n",
       "      <td>1.0</td>\n",
       "      <td>LC</td>\n",
       "    </tr>\n",
       "    <tr>\n",
       "      <th>1</th>\n",
       "      <td>Bowhead</td>\n",
       "      <td>Bowhead</td>\n",
       "      <td>Balaena Mysticetus</td>\n",
       "      <td>2017-06</td>\n",
       "      <td>80.311508</td>\n",
       "      <td>54.810083</td>\n",
       "      <td>7.5</td>\n",
       "      <td>LC</td>\n",
       "    </tr>\n",
       "    <tr>\n",
       "      <th>2</th>\n",
       "      <td>Bowhead</td>\n",
       "      <td>Bowhead</td>\n",
       "      <td>Balaena Mysticetus</td>\n",
       "      <td>2017-06</td>\n",
       "      <td>79.998846</td>\n",
       "      <td>47.449725</td>\n",
       "      <td>2.0</td>\n",
       "      <td>LC</td>\n",
       "    </tr>\n",
       "  </tbody>\n",
       "</table>\n",
       "</div>"
      ],
      "text/plain": [
       "  species_name common_name     scientific_name event_month   latitude  \\\n",
       "0      Bowhead     Bowhead  Balaena Mysticetus     2012-08  79.500000   \n",
       "1      Bowhead     Bowhead  Balaena Mysticetus     2017-06  80.311508   \n",
       "2      Bowhead     Bowhead  Balaena Mysticetus     2017-06  79.998846   \n",
       "\n",
       "   longitude  individual_count IUCN_Red_List_status  \n",
       "0  50.000000               1.0                   LC  \n",
       "1  54.810083               7.5                   LC  \n",
       "2  47.449725               2.0                   LC  "
      ]
     },
     "metadata": {},
     "output_type": "display_data"
    },
    {
     "data": {
      "text/plain": [
       "array(['Balaena Mysticetus', 'Balaenoptera Acutorostrata',\n",
       "       'Balaenoptera Borealis', 'Balaenoptera Brydei',\n",
       "       'Balaenoptera Musculus', 'Balaenoptera Omurai',\n",
       "       'Balaenoptera Physalus', 'Berardius Arnuxii', 'Berardius Bairdii',\n",
       "       'Cephalorhynchus Commersonii', 'Cephalorhynchus Eutropia',\n",
       "       'Cephalorhynchus Heavisidii', 'Cephalorhynchus Hectori',\n",
       "       'Delphinapterus Leucas', 'Delphinus Delphis',\n",
       "       'Eschrichtius Robustus', 'Eubalaena Glacialis',\n",
       "       'Eubalaena Japonica', 'Globicephala Melas', 'Grampus Griseus',\n",
       "       'Hyperoodon Ampullatus', 'Hyperoodon Planifrons',\n",
       "       'Inia Geoffrensis', 'Kogia Breviceps', 'Kogia Sima',\n",
       "       'Lagenodelphis Hosei', 'Lagenorhynchus Acutus',\n",
       "       'Lagenorhynchus Australis', 'Lagenorhynchus Cruciger',\n",
       "       'Lagenorhynchus Obscurus', 'Lissodelphis Borealis',\n",
       "       'Lissodelphis Peronii', 'Megaptera Novaeangliae',\n",
       "       'Mesoplodon Densirostris', 'Mesoplodon Europaeus',\n",
       "       'Mesoplodon Layardii', 'Monodon Monoceros',\n",
       "       'Orcaella Brevirostris', 'Orcinus Orca', 'Peponocephala Electra',\n",
       "       'Phocoena Phocoena', 'Phocoena Spinipinnis', 'Phocoenoides Dalli',\n",
       "       'Pontoporia Blainvillei', 'Pseudorca Crassidens', 'Sousa Plumbea',\n",
       "       'Stenella Attenuata', 'Stenella Clymene', 'Stenella Coeruleoalba',\n",
       "       'Stenella Frontalis', 'Steno Bredanensis', 'Tursiops Truncatus',\n",
       "       'Ziphius Cavirostris'], dtype=object)"
      ]
     },
     "execution_count": 4,
     "metadata": {},
     "output_type": "execute_result"
    }
   ],
   "source": [
    "map_df = pd.read_csv('data/grouped_species.csv')\n",
    "display(map_df.head(3))\n",
    "map_df['scientific_name'].unique()"
   ]
  },
  {
   "cell_type": "code",
   "execution_count": 5,
   "id": "49b482c3",
   "metadata": {},
   "outputs": [
    {
     "name": "stdout",
     "output_type": "stream",
     "text": [
      "n map names:  53\n",
      "n common lower case names map and wiki:  53\n",
      "['grampus griseus', 'lissodelphis peronii', 'kogia breviceps', 'lagenorhynchus australis', 'balaenoptera omurai', 'mesoplodon europaeus', 'eubalaena japonica', 'peponocephala electra', 'pontoporia blainvillei', 'stenella attenuata', 'eubalaena glacialis', 'delphinus delphis', 'phocoena spinipinnis', 'hyperoodon ampullatus', 'lissodelphis borealis', 'cephalorhynchus eutropia', 'lagenodelphis hosei', 'eschrichtius robustus', 'delphinapterus leucas', 'mesoplodon layardii', 'steno bredanensis', 'lagenorhynchus obscurus', 'lagenorhynchus acutus', 'stenella coeruleoalba', 'kogia sima', 'pseudorca crassidens', 'berardius arnuxii', 'phocoenoides dalli', 'balaenoptera acutorostrata', 'balaenoptera brydei', 'orcinus orca', 'cephalorhynchus heavisidii', 'stenella clymene', 'ziphius cavirostris', 'inia geoffrensis', 'balaena mysticetus', 'hyperoodon planifrons', 'balaenoptera musculus', 'monodon monoceros', 'balaenoptera borealis', 'megaptera novaeangliae', 'balaenoptera physalus', 'lagenorhynchus cruciger', 'orcaella brevirostris', 'phocoena phocoena', 'stenella frontalis', 'tursiops truncatus', 'berardius bairdii', 'globicephala melas', 'cephalorhynchus commersonii', 'sousa plumbea', 'mesoplodon densirostris', 'cephalorhynchus hectori']\n"
     ]
    }
   ],
   "source": [
    "wiki_names = list(map(lambda x: x.lower(), list(wiki_df['Scientific name'])))\n",
    "\n",
    "map_names = list(map(lambda x: x.lower(), list(map_df['scientific_name'])))\n",
    "map_names = list(set(map_names))\n",
    "print('n map names: ', len(map_names))\n",
    "\n",
    "common = [name for name in map_names if name in wiki_names]\n",
    "print('n common lower case names map and wiki: ', len(common))\n",
    "print(common)"
   ]
  },
  {
   "cell_type": "markdown",
   "id": "79fc5a96",
   "metadata": {},
   "source": [
    "## Map names match when lower case"
   ]
  },
  {
   "cell_type": "code",
   "execution_count": 6,
   "id": "9a125e8b",
   "metadata": {},
   "outputs": [
    {
     "data": {
      "application/vnd.microsoft.datawrangler.viewer.v0+json": {
       "columns": [
        {
         "name": "index",
         "rawType": "int64",
         "type": "integer"
        },
        {
         "name": "Scientific name",
         "rawType": "object",
         "type": "string"
        },
        {
         "name": "Common name",
         "rawType": "object",
         "type": "string"
        },
        {
         "name": "Wikipedia page URL",
         "rawType": "object",
         "type": "string"
        },
        {
         "name": "Genus",
         "rawType": "object",
         "type": "string"
        },
        {
         "name": "Genus Wikipedia URL",
         "rawType": "object",
         "type": "string"
        },
        {
         "name": "Family",
         "rawType": "object",
         "type": "string"
        },
        {
         "name": "Family Wikipedia URL",
         "rawType": "object",
         "type": "string"
        },
        {
         "name": "Subfamily",
         "rawType": "object",
         "type": "string"
        },
        {
         "name": "Subfamily Wikipedia URL",
         "rawType": "object",
         "type": "string"
        },
        {
         "name": "Superfamily",
         "rawType": "object",
         "type": "unknown"
        },
        {
         "name": "Superfamily Wikipedia URL",
         "rawType": "object",
         "type": "unknown"
        }
       ],
       "ref": "a18fe1e9-a236-42a4-853d-0d3e24486c07",
       "rows": [
        [
         "0",
         "Stenella clymene",
         "Clymene dolphin",
         "https://en.wikipedia.org/wiki/Clymene_dolphin",
         "Stenella",
         "https://en.wikipedia.org/wiki/Stenella",
         "Delphinidae",
         "https://en.wikipedia.org/wiki/Oceanic_dolphin",
         "Delphininae",
         "https://en.wikipedia.org/wiki/Oceanic_dolphin#Taxonomy",
         null,
         null
        ],
        [
         "1",
         "Stenella longirostris",
         "Spinner dolphin",
         "https://en.wikipedia.org/wiki/Spinner_dolphin",
         "Stenella",
         "https://en.wikipedia.org/wiki/Stenella",
         "Delphinidae",
         "https://en.wikipedia.org/wiki/Oceanic_dolphin",
         "Delphininae",
         "https://en.wikipedia.org/wiki/Oceanic_dolphin#Taxonomy",
         null,
         null
        ],
        [
         "2",
         "Lagenodelphis hosei",
         "Fraser's dolphin",
         "https://en.wikipedia.org/wiki/Fraser%27s_dolphin",
         "Lagenodelphis",
         "https://en.wikipedia.org/wiki/Fraser%27s_dolphin",
         "Delphinidae",
         "https://en.wikipedia.org/wiki/Oceanic_dolphin",
         "Delphininae",
         "https://en.wikipedia.org/wiki/Oceanic_dolphin#Taxonomy",
         null,
         null
        ]
       ],
       "shape": {
        "columns": 11,
        "rows": 3
       }
      },
      "text/html": [
       "<div>\n",
       "<style scoped>\n",
       "    .dataframe tbody tr th:only-of-type {\n",
       "        vertical-align: middle;\n",
       "    }\n",
       "\n",
       "    .dataframe tbody tr th {\n",
       "        vertical-align: top;\n",
       "    }\n",
       "\n",
       "    .dataframe thead th {\n",
       "        text-align: right;\n",
       "    }\n",
       "</style>\n",
       "<table border=\"1\" class=\"dataframe\">\n",
       "  <thead>\n",
       "    <tr style=\"text-align: right;\">\n",
       "      <th></th>\n",
       "      <th>Scientific name</th>\n",
       "      <th>Common name</th>\n",
       "      <th>Wikipedia page URL</th>\n",
       "      <th>Genus</th>\n",
       "      <th>Genus Wikipedia URL</th>\n",
       "      <th>Family</th>\n",
       "      <th>Family Wikipedia URL</th>\n",
       "      <th>Subfamily</th>\n",
       "      <th>Subfamily Wikipedia URL</th>\n",
       "      <th>Superfamily</th>\n",
       "      <th>Superfamily Wikipedia URL</th>\n",
       "    </tr>\n",
       "  </thead>\n",
       "  <tbody>\n",
       "    <tr>\n",
       "      <th>0</th>\n",
       "      <td>Stenella clymene</td>\n",
       "      <td>Clymene dolphin</td>\n",
       "      <td>https://en.wikipedia.org/wiki/Clymene_dolphin</td>\n",
       "      <td>Stenella</td>\n",
       "      <td>https://en.wikipedia.org/wiki/Stenella</td>\n",
       "      <td>Delphinidae</td>\n",
       "      <td>https://en.wikipedia.org/wiki/Oceanic_dolphin</td>\n",
       "      <td>Delphininae</td>\n",
       "      <td>https://en.wikipedia.org/wiki/Oceanic_dolphin#...</td>\n",
       "      <td>NaN</td>\n",
       "      <td>NaN</td>\n",
       "    </tr>\n",
       "    <tr>\n",
       "      <th>1</th>\n",
       "      <td>Stenella longirostris</td>\n",
       "      <td>Spinner dolphin</td>\n",
       "      <td>https://en.wikipedia.org/wiki/Spinner_dolphin</td>\n",
       "      <td>Stenella</td>\n",
       "      <td>https://en.wikipedia.org/wiki/Stenella</td>\n",
       "      <td>Delphinidae</td>\n",
       "      <td>https://en.wikipedia.org/wiki/Oceanic_dolphin</td>\n",
       "      <td>Delphininae</td>\n",
       "      <td>https://en.wikipedia.org/wiki/Oceanic_dolphin#...</td>\n",
       "      <td>NaN</td>\n",
       "      <td>NaN</td>\n",
       "    </tr>\n",
       "    <tr>\n",
       "      <th>2</th>\n",
       "      <td>Lagenodelphis hosei</td>\n",
       "      <td>Fraser's dolphin</td>\n",
       "      <td>https://en.wikipedia.org/wiki/Fraser%27s_dolphin</td>\n",
       "      <td>Lagenodelphis</td>\n",
       "      <td>https://en.wikipedia.org/wiki/Fraser%27s_dolphin</td>\n",
       "      <td>Delphinidae</td>\n",
       "      <td>https://en.wikipedia.org/wiki/Oceanic_dolphin</td>\n",
       "      <td>Delphininae</td>\n",
       "      <td>https://en.wikipedia.org/wiki/Oceanic_dolphin#...</td>\n",
       "      <td>NaN</td>\n",
       "      <td>NaN</td>\n",
       "    </tr>\n",
       "  </tbody>\n",
       "</table>\n",
       "</div>"
      ],
      "text/plain": [
       "         Scientific name       Common name  \\\n",
       "0       Stenella clymene   Clymene dolphin   \n",
       "1  Stenella longirostris   Spinner dolphin   \n",
       "2    Lagenodelphis hosei  Fraser's dolphin   \n",
       "\n",
       "                                 Wikipedia page URL          Genus  \\\n",
       "0     https://en.wikipedia.org/wiki/Clymene_dolphin       Stenella   \n",
       "1     https://en.wikipedia.org/wiki/Spinner_dolphin       Stenella   \n",
       "2  https://en.wikipedia.org/wiki/Fraser%27s_dolphin  Lagenodelphis   \n",
       "\n",
       "                                Genus Wikipedia URL       Family  \\\n",
       "0            https://en.wikipedia.org/wiki/Stenella  Delphinidae   \n",
       "1            https://en.wikipedia.org/wiki/Stenella  Delphinidae   \n",
       "2  https://en.wikipedia.org/wiki/Fraser%27s_dolphin  Delphinidae   \n",
       "\n",
       "                            Family Wikipedia URL    Subfamily  \\\n",
       "0  https://en.wikipedia.org/wiki/Oceanic_dolphin  Delphininae   \n",
       "1  https://en.wikipedia.org/wiki/Oceanic_dolphin  Delphininae   \n",
       "2  https://en.wikipedia.org/wiki/Oceanic_dolphin  Delphininae   \n",
       "\n",
       "                             Subfamily Wikipedia URL Superfamily  \\\n",
       "0  https://en.wikipedia.org/wiki/Oceanic_dolphin#...         NaN   \n",
       "1  https://en.wikipedia.org/wiki/Oceanic_dolphin#...         NaN   \n",
       "2  https://en.wikipedia.org/wiki/Oceanic_dolphin#...         NaN   \n",
       "\n",
       "  Superfamily Wikipedia URL  \n",
       "0                       NaN  \n",
       "1                       NaN  \n",
       "2                       NaN  "
      ]
     },
     "execution_count": 6,
     "metadata": {},
     "output_type": "execute_result"
    }
   ],
   "source": [
    "tree_df = pd.read_csv('data/PhilogeneticTree/species_tree_of_life.csv')\n",
    "tree_df.head(3)"
   ]
  },
  {
   "cell_type": "code",
   "execution_count": 7,
   "id": "523cfbd2",
   "metadata": {},
   "outputs": [
    {
     "name": "stdout",
     "output_type": "stream",
     "text": [
      "tree wiki common names (intersection):  71\n",
      "4  tree names that are not in wiki:  ['Sagmatias australis', 'Sagmatias obscurus', 'Sagmatias obliquidens', 'Leucopleurus acutus']\n",
      "\n"
     ]
    }
   ],
   "source": [
    "common_rows_tree_wiki = tree_df[tree_df['Scientific name'].isin(wiki_df['Scientific name'])]\n",
    "not_common_rows_tree_wiki = tree_df[~tree_df['Scientific name'].isin(wiki_df['Scientific name'])]\n",
    "print('tree wiki common names (intersection): ', len(common_rows_tree_wiki['Scientific name'].unique()))\n",
    "print(len(not_common_rows_tree_wiki['Scientific name'].unique()),\n",
    "      ' tree names that are not in wiki: ',\n",
    "      list(not_common_rows_tree_wiki['Scientific name']))\n",
    "print()"
   ]
  },
  {
   "cell_type": "code",
   "execution_count": 8,
   "id": "569d6b0c",
   "metadata": {},
   "outputs": [
    {
     "name": "stdout",
     "output_type": "stream",
     "text": [
      "intersection:  71\n",
      "union minus intersection 25\n"
     ]
    },
    {
     "data": {
      "text/plain": [
       "array(['Balaena mysticetus', 'Eubalaena glacialis', 'Eubalaena japonica',\n",
       "       'Eubalaena australis', 'Balaenoptera musculus',\n",
       "       'Balaenoptera edeni', 'Balaenoptera acutorostrata',\n",
       "       'Balaenoptera physalus', 'Balaenoptera borealis',\n",
       "       'Balaenoptera bonaerensis', 'Megaptera novaeangliae',\n",
       "       'Eschrichtius robustus', 'Caperea marginata',\n",
       "       'Cephalorhynchus commersonii', 'Cephalorhynchus heavisidii',\n",
       "       'Delphinus delphis', 'Feresa attenuata', 'Globicephala melas',\n",
       "       'Globicephala macrorhynchus', 'Grampus griseus',\n",
       "       'Lagenodelphis hosei', 'Lagenorhynchus albirostris',\n",
       "       'Lissodelphis borealis', 'Lissodelphis peronii',\n",
       "       'Orcaella heinsohni', 'Orcaella brevirostris', 'Orcinus orca',\n",
       "       'Peponocephala electra', 'Pseudorca crassidens', 'Sousa chinensis',\n",
       "       'Sotalia guianensis', 'Stenella frontalis', 'Stenella clymene',\n",
       "       'Stenella attenuata', 'Stenella longirostris',\n",
       "       'Stenella coeruleoalba', 'Steno bredanensis', 'Tursiops truncatus',\n",
       "       'Tursiops aduncus', 'Inia geoffrensis', 'Kogia sima',\n",
       "       'Kogia breviceps', 'Lipotes vexillifer', 'Delphinapterus leucas',\n",
       "       'Monodon monoceros', 'Neophocaena phocaenoides',\n",
       "       'Phocoena spinipinnis', 'Phocoena phocoena', 'Phocoena dioptrica',\n",
       "       'Phocoenoides dalli', 'Physeter macrocephalus',\n",
       "       'Pontoporia blainvillei', 'Berardius arnuxii', 'Berardius bairdii',\n",
       "       'Tasmacetus shepherdi', 'Ziphius cavirostris',\n",
       "       'Hyperoodon ampullatus', 'Hyperoodon planifrons',\n",
       "       'Mesoplodon bowdoini', 'Mesoplodon densirostris',\n",
       "       'Mesoplodon europaeus', 'Mesoplodon ginkgodens',\n",
       "       'Mesoplodon grayi', 'Mesoplodon hectori', 'Mesoplodon carlhubbsi',\n",
       "       'Mesoplodon perrini', 'Mesoplodon peruvianus', 'Mesoplodon bidens',\n",
       "       'Mesoplodon stejnegeri', 'Mesoplodon layardii', 'Mesoplodon mirus'],\n",
       "      dtype=object)"
      ]
     },
     "execution_count": 8,
     "metadata": {},
     "output_type": "execute_result"
    }
   ],
   "source": [
    "common_rows_tree_wiki = wiki_df[wiki_df['Scientific name'].isin(tree_df['Scientific name'])]\n",
    "not_common_rows_tree_wiki = wiki_df[~wiki_df['Scientific name'].isin(tree_df['Scientific name'])]\n",
    "print('intersection: ', len(common_rows_tree_wiki['Scientific name'].unique()))\n",
    "print('union minus intersection', len(not_common_rows_tree_wiki['Scientific name'].unique()))\n",
    "common_rows_tree_wiki['Scientific name'].unique()"
   ]
  },
  {
   "cell_type": "markdown",
   "id": "800d68d3",
   "metadata": {},
   "source": [
    "- There are more names in wikipedia than in maps and tree\n",
    "- All scientific names used for the map can be matched to scientific names from wikipedia\n",
    "- There are 4 names from the tree that can not be matched to the wiki names"
   ]
  },
  {
   "cell_type": "markdown",
   "id": "1a64bc32",
   "metadata": {},
   "source": [
    "## unique identification for all three sources"
   ]
  },
  {
   "cell_type": "code",
   "execution_count": 9,
   "id": "dc683e0f",
   "metadata": {},
   "outputs": [
    {
     "data": {
      "application/vnd.microsoft.datawrangler.viewer.v0+json": {
       "columns": [
        {
         "name": "index",
         "rawType": "int64",
         "type": "integer"
        },
        {
         "name": "Family_common",
         "rawType": "object",
         "type": "string"
        },
        {
         "name": "Family_Latin",
         "rawType": "object",
         "type": "string"
        },
        {
         "name": "Genus",
         "rawType": "object",
         "type": "string"
        },
        {
         "name": "Common name",
         "rawType": "object",
         "type": "string"
        },
        {
         "name": "Scientific name",
         "rawType": "object",
         "type": "string"
        },
        {
         "name": "IUCN Red List status",
         "rawType": "object",
         "type": "string"
        },
        {
         "name": "Global population estimate",
         "rawType": "object",
         "type": "string"
        },
        {
         "name": "wiki",
         "rawType": "int64",
         "type": "integer"
        }
       ],
       "ref": "b5ebb7cd-8ab8-482b-9de0-de5a6357e810",
       "rows": [
        [
         "0",
         "right_whales",
         "Balaenidae",
         "Balaena",
         "Bowhead whale",
         "balaena mysticetus",
         "LC",
         "10,000",
         "1"
        ],
        [
         "1",
         "right_whales",
         "Balaenidae",
         "Eubalaena",
         "North Atlantic right whale",
         "eubalaena glacialis",
         "CR",
         "350",
         "1"
        ],
        [
         "2",
         "right_whales",
         "Balaenidae",
         "Eubalaena",
         "North Pacific right whale",
         "eubalaena japonica",
         "EN",
         "404–2,108[12]",
         "1"
        ],
        [
         "3",
         "right_whales",
         "Balaenidae",
         "Eubalaena",
         "Southern right whale",
         "eubalaena australis",
         "LC",
         "13,600[13]",
         "1"
        ],
        [
         "5",
         "rorquals",
         "Balaenopteridae",
         "Balaenoptera",
         "Blue whale",
         "balaenoptera musculus",
         "EN",
         "5,000–15,000",
         "1"
        ]
       ],
       "shape": {
        "columns": 8,
        "rows": 5
       }
      },
      "text/html": [
       "<div>\n",
       "<style scoped>\n",
       "    .dataframe tbody tr th:only-of-type {\n",
       "        vertical-align: middle;\n",
       "    }\n",
       "\n",
       "    .dataframe tbody tr th {\n",
       "        vertical-align: top;\n",
       "    }\n",
       "\n",
       "    .dataframe thead th {\n",
       "        text-align: right;\n",
       "    }\n",
       "</style>\n",
       "<table border=\"1\" class=\"dataframe\">\n",
       "  <thead>\n",
       "    <tr style=\"text-align: right;\">\n",
       "      <th></th>\n",
       "      <th>Family_common</th>\n",
       "      <th>Family_Latin</th>\n",
       "      <th>Genus</th>\n",
       "      <th>Common name</th>\n",
       "      <th>Scientific name</th>\n",
       "      <th>IUCN Red List status</th>\n",
       "      <th>Global population estimate</th>\n",
       "      <th>wiki</th>\n",
       "    </tr>\n",
       "  </thead>\n",
       "  <tbody>\n",
       "    <tr>\n",
       "      <th>0</th>\n",
       "      <td>right_whales</td>\n",
       "      <td>Balaenidae</td>\n",
       "      <td>Balaena</td>\n",
       "      <td>Bowhead whale</td>\n",
       "      <td>balaena mysticetus</td>\n",
       "      <td>LC</td>\n",
       "      <td>10,000</td>\n",
       "      <td>1</td>\n",
       "    </tr>\n",
       "    <tr>\n",
       "      <th>1</th>\n",
       "      <td>right_whales</td>\n",
       "      <td>Balaenidae</td>\n",
       "      <td>Eubalaena</td>\n",
       "      <td>North Atlantic right whale</td>\n",
       "      <td>eubalaena glacialis</td>\n",
       "      <td>CR</td>\n",
       "      <td>350</td>\n",
       "      <td>1</td>\n",
       "    </tr>\n",
       "    <tr>\n",
       "      <th>2</th>\n",
       "      <td>right_whales</td>\n",
       "      <td>Balaenidae</td>\n",
       "      <td>Eubalaena</td>\n",
       "      <td>North Pacific right whale</td>\n",
       "      <td>eubalaena japonica</td>\n",
       "      <td>EN</td>\n",
       "      <td>404–2,108[12]</td>\n",
       "      <td>1</td>\n",
       "    </tr>\n",
       "    <tr>\n",
       "      <th>3</th>\n",
       "      <td>right_whales</td>\n",
       "      <td>Balaenidae</td>\n",
       "      <td>Eubalaena</td>\n",
       "      <td>Southern right whale</td>\n",
       "      <td>eubalaena australis</td>\n",
       "      <td>LC</td>\n",
       "      <td>13,600[13]</td>\n",
       "      <td>1</td>\n",
       "    </tr>\n",
       "    <tr>\n",
       "      <th>5</th>\n",
       "      <td>rorquals</td>\n",
       "      <td>Balaenopteridae</td>\n",
       "      <td>Balaenoptera</td>\n",
       "      <td>Blue whale</td>\n",
       "      <td>balaenoptera musculus</td>\n",
       "      <td>EN</td>\n",
       "      <td>5,000–15,000</td>\n",
       "      <td>1</td>\n",
       "    </tr>\n",
       "  </tbody>\n",
       "</table>\n",
       "</div>"
      ],
      "text/plain": [
       "  Family_common     Family_Latin         Genus                 Common name  \\\n",
       "0  right_whales       Balaenidae       Balaena               Bowhead whale   \n",
       "1  right_whales       Balaenidae     Eubalaena  North Atlantic right whale   \n",
       "2  right_whales       Balaenidae     Eubalaena   North Pacific right whale   \n",
       "3  right_whales       Balaenidae     Eubalaena        Southern right whale   \n",
       "5      rorquals  Balaenopteridae  Balaenoptera                  Blue whale   \n",
       "\n",
       "         Scientific name IUCN Red List status Global population estimate  wiki  \n",
       "0     balaena mysticetus                   LC                     10,000     1  \n",
       "1    eubalaena glacialis                   CR                        350     1  \n",
       "2     eubalaena japonica                   EN              404–2,108[12]     1  \n",
       "3    eubalaena australis                   LC                 13,600[13]     1  \n",
       "5  balaenoptera musculus                   EN               5,000–15,000     1  "
      ]
     },
     "metadata": {},
     "output_type": "display_data"
    },
    {
     "data": {
      "application/vnd.microsoft.datawrangler.viewer.v0+json": {
       "columns": [
        {
         "name": "index",
         "rawType": "int64",
         "type": "integer"
        },
        {
         "name": "Scientific name",
         "rawType": "object",
         "type": "string"
        },
        {
         "name": "map",
         "rawType": "int64",
         "type": "integer"
        }
       ],
       "ref": "53cb8a5e-86c7-49b6-9f0a-64f1cdf0f3ee",
       "rows": [
        [
         "0",
         "grampus griseus",
         "1"
        ],
        [
         "1",
         "lissodelphis peronii",
         "1"
        ],
        [
         "2",
         "kogia breviceps",
         "1"
        ],
        [
         "3",
         "lagenorhynchus australis",
         "1"
        ],
        [
         "4",
         "balaenoptera omurai",
         "1"
        ]
       ],
       "shape": {
        "columns": 2,
        "rows": 5
       }
      },
      "text/html": [
       "<div>\n",
       "<style scoped>\n",
       "    .dataframe tbody tr th:only-of-type {\n",
       "        vertical-align: middle;\n",
       "    }\n",
       "\n",
       "    .dataframe tbody tr th {\n",
       "        vertical-align: top;\n",
       "    }\n",
       "\n",
       "    .dataframe thead th {\n",
       "        text-align: right;\n",
       "    }\n",
       "</style>\n",
       "<table border=\"1\" class=\"dataframe\">\n",
       "  <thead>\n",
       "    <tr style=\"text-align: right;\">\n",
       "      <th></th>\n",
       "      <th>Scientific name</th>\n",
       "      <th>map</th>\n",
       "    </tr>\n",
       "  </thead>\n",
       "  <tbody>\n",
       "    <tr>\n",
       "      <th>0</th>\n",
       "      <td>grampus griseus</td>\n",
       "      <td>1</td>\n",
       "    </tr>\n",
       "    <tr>\n",
       "      <th>1</th>\n",
       "      <td>lissodelphis peronii</td>\n",
       "      <td>1</td>\n",
       "    </tr>\n",
       "    <tr>\n",
       "      <th>2</th>\n",
       "      <td>kogia breviceps</td>\n",
       "      <td>1</td>\n",
       "    </tr>\n",
       "    <tr>\n",
       "      <th>3</th>\n",
       "      <td>lagenorhynchus australis</td>\n",
       "      <td>1</td>\n",
       "    </tr>\n",
       "    <tr>\n",
       "      <th>4</th>\n",
       "      <td>balaenoptera omurai</td>\n",
       "      <td>1</td>\n",
       "    </tr>\n",
       "  </tbody>\n",
       "</table>\n",
       "</div>"
      ],
      "text/plain": [
       "            Scientific name  map\n",
       "0           grampus griseus    1\n",
       "1      lissodelphis peronii    1\n",
       "2           kogia breviceps    1\n",
       "3  lagenorhynchus australis    1\n",
       "4       balaenoptera omurai    1"
      ]
     },
     "metadata": {},
     "output_type": "display_data"
    },
    {
     "data": {
      "application/vnd.microsoft.datawrangler.viewer.v0+json": {
       "columns": [
        {
         "name": "index",
         "rawType": "int64",
         "type": "integer"
        },
        {
         "name": "Scientific name",
         "rawType": "object",
         "type": "string"
        },
        {
         "name": "tree",
         "rawType": "int64",
         "type": "integer"
        }
       ],
       "ref": "7e424a72-2016-4742-9a14-db59159d0012",
       "rows": [
        [
         "0",
         "stenella clymene",
         "1"
        ],
        [
         "1",
         "stenella longirostris",
         "1"
        ],
        [
         "2",
         "lagenodelphis hosei",
         "1"
        ],
        [
         "3",
         "delphinus delphis",
         "1"
        ],
        [
         "4",
         "stenella coeruleoalba",
         "1"
        ]
       ],
       "shape": {
        "columns": 2,
        "rows": 5
       }
      },
      "text/html": [
       "<div>\n",
       "<style scoped>\n",
       "    .dataframe tbody tr th:only-of-type {\n",
       "        vertical-align: middle;\n",
       "    }\n",
       "\n",
       "    .dataframe tbody tr th {\n",
       "        vertical-align: top;\n",
       "    }\n",
       "\n",
       "    .dataframe thead th {\n",
       "        text-align: right;\n",
       "    }\n",
       "</style>\n",
       "<table border=\"1\" class=\"dataframe\">\n",
       "  <thead>\n",
       "    <tr style=\"text-align: right;\">\n",
       "      <th></th>\n",
       "      <th>Scientific name</th>\n",
       "      <th>tree</th>\n",
       "    </tr>\n",
       "  </thead>\n",
       "  <tbody>\n",
       "    <tr>\n",
       "      <th>0</th>\n",
       "      <td>stenella clymene</td>\n",
       "      <td>1</td>\n",
       "    </tr>\n",
       "    <tr>\n",
       "      <th>1</th>\n",
       "      <td>stenella longirostris</td>\n",
       "      <td>1</td>\n",
       "    </tr>\n",
       "    <tr>\n",
       "      <th>2</th>\n",
       "      <td>lagenodelphis hosei</td>\n",
       "      <td>1</td>\n",
       "    </tr>\n",
       "    <tr>\n",
       "      <th>3</th>\n",
       "      <td>delphinus delphis</td>\n",
       "      <td>1</td>\n",
       "    </tr>\n",
       "    <tr>\n",
       "      <th>4</th>\n",
       "      <td>stenella coeruleoalba</td>\n",
       "      <td>1</td>\n",
       "    </tr>\n",
       "  </tbody>\n",
       "</table>\n",
       "</div>"
      ],
      "text/plain": [
       "         Scientific name  tree\n",
       "0       stenella clymene     1\n",
       "1  stenella longirostris     1\n",
       "2    lagenodelphis hosei     1\n",
       "3      delphinus delphis     1\n",
       "4  stenella coeruleoalba     1"
      ]
     },
     "metadata": {},
     "output_type": "display_data"
    }
   ],
   "source": [
    "wiki_df_merge = wiki_df[['Family_common', 'Family_Latin', 'Genus', 'Common name',\n",
    "       'Scientific name', 'IUCN Red List status', 'Global population estimate']].copy()\n",
    "wiki_df_merge['wiki'] = 1\n",
    "wiki_df_merge['Scientific name'] = wiki_names\n",
    "\n",
    "map_df_merge = pd.DataFrame({\n",
    "    'Scientific name': map_names,  # column with your strings\n",
    "    'map': 1        # column with all values set to True\n",
    "})\n",
    "\n",
    "tree_names = list(map(lambda x: x.lower(), list(tree_df['Scientific name'])))\n",
    "tree_df_merge = pd.DataFrame({\n",
    "    'Scientific name': tree_names,  # column with your strings\n",
    "    'tree': 1        # column with all values set to True\n",
    "})\n",
    "\n",
    "\n",
    "display(wiki_df_merge.head())\n",
    "display(map_df_merge.head())\n",
    "display(tree_df_merge.head())"
   ]
  },
  {
   "cell_type": "code",
   "execution_count": 10,
   "id": "b7a016de",
   "metadata": {},
   "outputs": [
    {
     "data": {
      "application/vnd.microsoft.datawrangler.viewer.v0+json": {
       "columns": [
        {
         "name": "index",
         "rawType": "int64",
         "type": "integer"
        },
        {
         "name": "Family_common",
         "rawType": "object",
         "type": "unknown"
        },
        {
         "name": "Family_Latin",
         "rawType": "object",
         "type": "unknown"
        },
        {
         "name": "Genus",
         "rawType": "object",
         "type": "unknown"
        },
        {
         "name": "Common name",
         "rawType": "object",
         "type": "unknown"
        },
        {
         "name": "Scientific name",
         "rawType": "object",
         "type": "string"
        },
        {
         "name": "IUCN Red List status",
         "rawType": "object",
         "type": "unknown"
        },
        {
         "name": "Global population estimate",
         "rawType": "object",
         "type": "unknown"
        },
        {
         "name": "wiki",
         "rawType": "float64",
         "type": "float"
        },
        {
         "name": "map",
         "rawType": "float64",
         "type": "float"
        },
        {
         "name": "tree",
         "rawType": "float64",
         "type": "float"
        },
        {
         "name": "unique_id",
         "rawType": "object",
         "type": "string"
        }
       ],
       "ref": "5daf0d89-5800-4548-83a9-ca3b5b16cf09",
       "rows": [
        [
         "0",
         "right_whales",
         "Balaenidae",
         "Balaena",
         "Bowhead whale",
         "balaena mysticetus",
         "LC",
         "10,000",
         "1.0",
         "1.0",
         "1.0",
         "balaena_mysticetus"
        ],
        [
         "1",
         "rorquals",
         "Balaenopteridae",
         "Balaenoptera",
         "Common minke whale",
         "balaenoptera acutorostrata",
         "LC",
         "200,000",
         "1.0",
         "1.0",
         "1.0",
         "balaenoptera_acutorostrata"
        ],
        [
         "2",
         "rorquals",
         "Balaenopteridae",
         "Balaenoptera",
         "Antarctic minke whale",
         "balaenoptera bonaerensis",
         "NT",
         "515,000[18]",
         "1.0",
         "0.0",
         "1.0",
         "balaenoptera_bonaerensis"
        ],
        [
         "3",
         "rorquals",
         "Balaenopteridae",
         "Balaenoptera",
         "Sei whale",
         "balaenoptera borealis",
         "EN",
         "80,000[17]",
         "1.0",
         "1.0",
         "1.0",
         "balaenoptera_borealis"
        ],
        [
         "4",
         "rorquals",
         "Balaenopteridae",
         "Balaenoptera",
         "Bryde's whale",
         "balaenoptera brydei",
         "LC",
         "90,000–100,000",
         "1.0",
         "1.0",
         "0.0",
         "balaenoptera_brydei"
        ],
        [
         "5",
         "rorquals",
         "Balaenopteridae",
         "Balaenoptera",
         "Eden's whale[a]",
         "balaenoptera edeni",
         "LC",
         "Unknown",
         "1.0",
         "0.0",
         "1.0",
         "balaenoptera_edeni"
        ],
        [
         "6",
         "rorquals",
         "Balaenopteridae",
         "Balaenoptera",
         "Blue whale",
         "balaenoptera musculus",
         "EN",
         "5,000–15,000",
         "1.0",
         "1.0",
         "1.0",
         "balaenoptera_musculus"
        ],
        [
         "7",
         "rorquals",
         "Balaenopteridae",
         "Balaenoptera",
         "Omura's whale",
         "balaenoptera omurai",
         "DD",
         "Unknown",
         "1.0",
         "1.0",
         "0.0",
         "balaenoptera_omurai"
        ],
        [
         "8",
         "rorquals",
         "Balaenopteridae",
         "Balaenoptera",
         "Fin whale",
         "balaenoptera physalus",
         "VU",
         "100,000",
         "1.0",
         "1.0",
         "1.0",
         "balaenoptera_physalus"
        ],
        [
         "9",
         "rorquals",
         "Balaenopteridae",
         "Balaenoptera",
         "Rice's whale[16]",
         "balaenoptera ricei",
         "CR",
         "30–100",
         "1.0",
         "0.0",
         "0.0",
         "balaenoptera_ricei"
        ],
        [
         "10",
         "beaked_whales",
         "Ziphiidae",
         "Berardius",
         "Arnoux's beaked whale",
         "berardius arnuxii",
         "LC",
         "Unknown[ad]",
         "1.0",
         "1.0",
         "1.0",
         "berardius_arnuxii"
        ],
        [
         "11",
         "beaked_whales",
         "Ziphiidae",
         "Berardius",
         "Baird's beaked whale",
         "berardius bairdii",
         "LC",
         "Unknown[ae]",
         "1.0",
         "1.0",
         "1.0",
         "berardius_bairdii"
        ],
        [
         "12",
         "beaked_whales",
         "Ziphiidae",
         "Berardius",
         "Sato's beaked whale",
         "berardius minimus",
         "NT",
         "Unknown",
         "1.0",
         "0.0",
         "0.0",
         "berardius_minimus"
        ],
        [
         "13",
         "pygmy_right_whale",
         "Cetotheriidae",
         "Caperea",
         "Pygmy right whale",
         "caperea marginata",
         "LC",
         "Unknown",
         "1.0",
         "0.0",
         "1.0",
         "caperea_marginata"
        ],
        [
         "14",
         "oceanic_dolphins",
         "Delphinidae",
         "Cephalorhynchus",
         "Commerson's dolphin",
         "cephalorhynchus commersonii",
         "LC",
         "22,000[21]",
         "1.0",
         "1.0",
         "1.0",
         "cephalorhynchus_commersonii"
        ],
        [
         "15",
         "oceanic_dolphins",
         "Delphinidae",
         "Cephalorhynchus",
         "Chilean dolphin",
         "cephalorhynchus eutropia",
         "NT",
         "Unknown[b]",
         "1.0",
         "1.0",
         "0.0",
         "cephalorhynchus_eutropia"
        ],
        [
         "16",
         "oceanic_dolphins",
         "Delphinidae",
         "Cephalorhynchus",
         "Heaviside's dolphin",
         "cephalorhynchus heavisidii",
         "NT",
         "Unknown",
         "1.0",
         "1.0",
         "1.0",
         "cephalorhynchus_heavisidii"
        ],
        [
         "17",
         "oceanic_dolphins",
         "Delphinidae",
         "Cephalorhynchus",
         "Hector's dolphin",
         "cephalorhynchus hectori",
         "Maui dolphin",
         "Maui dolphin",
         "1.0",
         "1.0",
         "0.0",
         "cephalorhynchus_hectori"
        ],
        [
         "18",
         "narwhal_and_beluga",
         "Monodontidae",
         "Delphinapterus",
         "Beluga",
         "delphinapterus leucas",
         "LC",
         "136,000[v]",
         "1.0",
         "1.0",
         "1.0",
         "delphinapterus_leucas"
        ],
        [
         "19",
         "oceanic_dolphins",
         "Delphinidae",
         "Delphinus",
         "Common dolphin",
         "delphinus delphis",
         "LC",
         "Unknown[c]",
         "1.0",
         "1.0",
         "1.0",
         "delphinus_delphis"
        ],
        [
         "20",
         "rorquals",
         "Balaenopteridae",
         "Eschrichtius",
         "Gray whale",
         "eschrichtius robustus",
         "LC",
         "21,000[19]",
         "1.0",
         "1.0",
         "1.0",
         "eschrichtius_robustus"
        ],
        [
         "21",
         "right_whales",
         "Balaenidae",
         "Eubalaena",
         "Southern right whale",
         "eubalaena australis",
         "LC",
         "13,600[13]",
         "1.0",
         "0.0",
         "1.0",
         "eubalaena_australis"
        ],
        [
         "22",
         "right_whales",
         "Balaenidae",
         "Eubalaena",
         "North Atlantic right whale",
         "eubalaena glacialis",
         "CR",
         "350",
         "1.0",
         "1.0",
         "1.0",
         "eubalaena_glacialis"
        ],
        [
         "23",
         "right_whales",
         "Balaenidae",
         "Eubalaena",
         "North Pacific right whale",
         "eubalaena japonica",
         "EN",
         "404–2,108[12]",
         "1.0",
         "1.0",
         "1.0",
         "eubalaena_japonica"
        ],
        [
         "24",
         "oceanic_dolphins",
         "Delphinidae",
         "Feresa",
         "Pygmy killer whale",
         "feresa attenuata",
         "LC",
         "Unknown[d]",
         "1.0",
         "0.0",
         "1.0",
         "feresa_attenuata"
        ],
        [
         "25",
         "oceanic_dolphins",
         "Delphinidae",
         "Globicephala",
         "Short-finned pilot whale",
         "globicephala macrorhynchus",
         "LC",
         "Unknown[f]",
         "1.0",
         "0.0",
         "1.0",
         "globicephala_macrorhynchus"
        ],
        [
         "26",
         "oceanic_dolphins",
         "Delphinidae",
         "Globicephala",
         "Long-finned pilot whale",
         "globicephala melas",
         "LC",
         "Unknown[e]",
         "1.0",
         "1.0",
         "1.0",
         "globicephala_melas"
        ],
        [
         "27",
         "oceanic_dolphins",
         "Delphinidae",
         "Grampus",
         "Risso's dolphin",
         "grampus griseus",
         "LC",
         "Unknown[g]",
         "1.0",
         "1.0",
         "1.0",
         "grampus_griseus"
        ],
        [
         "28",
         "beaked_whales",
         "Ziphiidae",
         "Hyperoodon",
         "Northern bottlenose whale",
         "hyperoodon ampullatus",
         "NT",
         "10,000[ah]",
         "1.0",
         "1.0",
         "1.0",
         "hyperoodon_ampullatus"
        ],
        [
         "29",
         "beaked_whales",
         "Ziphiidae",
         "Hyperoodon",
         "Southern bottlenose whale",
         "hyperoodon planifrons",
         "LC",
         "500,000",
         "1.0",
         "1.0",
         "1.0",
         "hyperoodon_planifrons"
        ],
        [
         "30",
         "beaked_whales",
         "Ziphiidae",
         "Indopacetus",
         "Tropical bottlenose whale",
         "indopacetus pacificus",
         "LC",
         "Unknown[ai]",
         "1.0",
         "0.0",
         "0.0",
         "indopacetus_pacificus"
        ],
        [
         "31",
         "river_dolphins",
         "Iniidae",
         "Inia",
         "Araguaian river dolphin[r]",
         "inia araguaiaensis",
         "NE",
         "Unknown",
         "1.0",
         "0.0",
         "0.0",
         "inia_araguaiaensis"
        ],
        [
         "32",
         "river_dolphins",
         "Iniidae",
         "Inia",
         "Amazon river dolphin",
         "inia geoffrensis",
         "EN",
         "Unknown",
         "1.0",
         "1.0",
         "1.0",
         "inia_geoffrensis"
        ],
        [
         "33",
         "dwarf_and_pygmy_sperm_whales",
         "Kogiidae",
         "Kogia",
         "Pygmy sperm whale",
         "kogia breviceps",
         "LC",
         "Unknown[t]",
         "1.0",
         "1.0",
         "1.0",
         "kogia_breviceps"
        ],
        [
         "34",
         "dwarf_and_pygmy_sperm_whales",
         "Kogiidae",
         "Kogia",
         "Dwarf sperm whale",
         "kogia sima",
         "LC",
         "Unknown[s]",
         "1.0",
         "1.0",
         "1.0",
         "kogia_sima"
        ],
        [
         "35",
         "oceanic_dolphins",
         "Delphinidae",
         "Lagenodelphis",
         "Fraser's dolphin",
         "lagenodelphis hosei",
         "LC",
         "Unknown[h]",
         "1.0",
         "1.0",
         "1.0",
         "lagenodelphis_hosei"
        ],
        [
         "36",
         "oceanic_dolphins",
         "Delphinidae",
         "Lagenorhynchus",
         "Atlantic white-sided dolphin",
         "lagenorhynchus acutus",
         "LC",
         "citation needed",
         "1.0",
         "1.0",
         "0.0",
         "lagenorhynchus_acutus"
        ],
        [
         "37",
         "oceanic_dolphins",
         "Delphinidae",
         "Lagenorhynchus",
         "White-beaked dolphin",
         "lagenorhynchus albirostris",
         "LC",
         "100,000[j]",
         "1.0",
         "0.0",
         "1.0",
         "lagenorhynchus_albirostris"
        ],
        [
         "38",
         "oceanic_dolphins",
         "Delphinidae",
         "Lagenorhynchus",
         "Peale's dolphin",
         "lagenorhynchus australis",
         "LC",
         "Unknown[k]",
         "1.0",
         "1.0",
         "0.0",
         "lagenorhynchus_australis"
        ],
        [
         "39",
         "oceanic_dolphins",
         "Delphinidae",
         "Lagenorhynchus",
         "Hourglass dolphin",
         "lagenorhynchus cruciger",
         "LC",
         "140,000",
         "1.0",
         "1.0",
         "0.0",
         "lagenorhynchus_cruciger"
        ],
        [
         "40",
         "oceanic_dolphins",
         "Delphinidae",
         "Lagenorhynchus",
         "Pacific white-sided dolphin",
         "lagenorhynchus obliquidens",
         "LC",
         "1,000,000",
         "1.0",
         "0.0",
         "0.0",
         "lagenorhynchus_obliquidens"
        ],
        [
         "41",
         "oceanic_dolphins",
         "Delphinidae",
         "Lagenorhynchus",
         "Dusky dolphin",
         "lagenorhynchus obscurus",
         "LC",
         "Unknown",
         "1.0",
         "1.0",
         "0.0",
         "lagenorhynchus_obscurus"
        ],
        [
         "42",
         null,
         null,
         null,
         null,
         "leucopleurus acutus",
         null,
         null,
         "0.0",
         "0.0",
         "1.0",
         "leucopleurus_acutus"
        ],
        [
         "43",
         "baiji",
         "Lipotidae",
         "Lipotes",
         "Baiji",
         "lipotes vexillifer",
         "CR",
         "0–13[u]",
         "1.0",
         "0.0",
         "1.0",
         "lipotes_vexillifer"
        ],
        [
         "44",
         "oceanic_dolphins",
         "Delphinidae",
         "Lissodelphis",
         "Northern right whale dolphin",
         "lissodelphis borealis",
         "LC",
         "400,000[l]",
         "1.0",
         "1.0",
         "1.0",
         "lissodelphis_borealis"
        ],
        [
         "45",
         "oceanic_dolphins",
         "Delphinidae",
         "Lissodelphis",
         "Southern right whale dolphin",
         "lissodelphis peronii",
         "LC",
         "Unknown[m]",
         "1.0",
         "1.0",
         "1.0",
         "lissodelphis_peronii"
        ],
        [
         "46",
         "rorquals",
         "Balaenopteridae",
         "Megaptera",
         "Humpback whale",
         "megaptera novaeangliae",
         "LC",
         "84,000",
         "1.0",
         "1.0",
         "1.0",
         "megaptera_novaeangliae"
        ],
        [
         "47",
         "beaked_whales",
         "Ziphiidae",
         "Mesoplodon",
         "Sowerby's beaked whale",
         "mesoplodon bidens",
         "LC",
         "Unknown",
         "1.0",
         "0.0",
         "1.0",
         "mesoplodon_bidens"
        ],
        [
         "48",
         "beaked_whales",
         "Ziphiidae",
         "Mesoplodon",
         "Andrews' beaked whale",
         "mesoplodon bowdoini",
         "DD",
         "Unknown",
         "1.0",
         "0.0",
         "1.0",
         "mesoplodon_bowdoini"
        ],
        [
         "49",
         "beaked_whales",
         "Ziphiidae",
         "Mesoplodon",
         "Hubbs' beaked whale",
         "mesoplodon carlhubbsi",
         "DD",
         "Unknown",
         "1.0",
         "0.0",
         "1.0",
         "mesoplodon_carlhubbsi"
        ]
       ],
       "shape": {
        "columns": 11,
        "rows": 100
       }
      },
      "text/html": [
       "<div>\n",
       "<style scoped>\n",
       "    .dataframe tbody tr th:only-of-type {\n",
       "        vertical-align: middle;\n",
       "    }\n",
       "\n",
       "    .dataframe tbody tr th {\n",
       "        vertical-align: top;\n",
       "    }\n",
       "\n",
       "    .dataframe thead th {\n",
       "        text-align: right;\n",
       "    }\n",
       "</style>\n",
       "<table border=\"1\" class=\"dataframe\">\n",
       "  <thead>\n",
       "    <tr style=\"text-align: right;\">\n",
       "      <th></th>\n",
       "      <th>Family_common</th>\n",
       "      <th>Family_Latin</th>\n",
       "      <th>Genus</th>\n",
       "      <th>Common name</th>\n",
       "      <th>Scientific name</th>\n",
       "      <th>IUCN Red List status</th>\n",
       "      <th>Global population estimate</th>\n",
       "      <th>wiki</th>\n",
       "      <th>map</th>\n",
       "      <th>tree</th>\n",
       "      <th>unique_id</th>\n",
       "    </tr>\n",
       "  </thead>\n",
       "  <tbody>\n",
       "    <tr>\n",
       "      <th>0</th>\n",
       "      <td>right_whales</td>\n",
       "      <td>Balaenidae</td>\n",
       "      <td>Balaena</td>\n",
       "      <td>Bowhead whale</td>\n",
       "      <td>balaena mysticetus</td>\n",
       "      <td>LC</td>\n",
       "      <td>10,000</td>\n",
       "      <td>1.0</td>\n",
       "      <td>1.0</td>\n",
       "      <td>1.0</td>\n",
       "      <td>balaena_mysticetus</td>\n",
       "    </tr>\n",
       "    <tr>\n",
       "      <th>1</th>\n",
       "      <td>rorquals</td>\n",
       "      <td>Balaenopteridae</td>\n",
       "      <td>Balaenoptera</td>\n",
       "      <td>Common minke whale</td>\n",
       "      <td>balaenoptera acutorostrata</td>\n",
       "      <td>LC</td>\n",
       "      <td>200,000</td>\n",
       "      <td>1.0</td>\n",
       "      <td>1.0</td>\n",
       "      <td>1.0</td>\n",
       "      <td>balaenoptera_acutorostrata</td>\n",
       "    </tr>\n",
       "    <tr>\n",
       "      <th>2</th>\n",
       "      <td>rorquals</td>\n",
       "      <td>Balaenopteridae</td>\n",
       "      <td>Balaenoptera</td>\n",
       "      <td>Antarctic minke whale</td>\n",
       "      <td>balaenoptera bonaerensis</td>\n",
       "      <td>NT</td>\n",
       "      <td>515,000[18]</td>\n",
       "      <td>1.0</td>\n",
       "      <td>0.0</td>\n",
       "      <td>1.0</td>\n",
       "      <td>balaenoptera_bonaerensis</td>\n",
       "    </tr>\n",
       "    <tr>\n",
       "      <th>3</th>\n",
       "      <td>rorquals</td>\n",
       "      <td>Balaenopteridae</td>\n",
       "      <td>Balaenoptera</td>\n",
       "      <td>Sei whale</td>\n",
       "      <td>balaenoptera borealis</td>\n",
       "      <td>EN</td>\n",
       "      <td>80,000[17]</td>\n",
       "      <td>1.0</td>\n",
       "      <td>1.0</td>\n",
       "      <td>1.0</td>\n",
       "      <td>balaenoptera_borealis</td>\n",
       "    </tr>\n",
       "    <tr>\n",
       "      <th>4</th>\n",
       "      <td>rorquals</td>\n",
       "      <td>Balaenopteridae</td>\n",
       "      <td>Balaenoptera</td>\n",
       "      <td>Bryde's whale</td>\n",
       "      <td>balaenoptera brydei</td>\n",
       "      <td>LC</td>\n",
       "      <td>90,000–100,000</td>\n",
       "      <td>1.0</td>\n",
       "      <td>1.0</td>\n",
       "      <td>0.0</td>\n",
       "      <td>balaenoptera_brydei</td>\n",
       "    </tr>\n",
       "    <tr>\n",
       "      <th>...</th>\n",
       "      <td>...</td>\n",
       "      <td>...</td>\n",
       "      <td>...</td>\n",
       "      <td>...</td>\n",
       "      <td>...</td>\n",
       "      <td>...</td>\n",
       "      <td>...</td>\n",
       "      <td>...</td>\n",
       "      <td>...</td>\n",
       "      <td>...</td>\n",
       "      <td>...</td>\n",
       "    </tr>\n",
       "    <tr>\n",
       "      <th>95</th>\n",
       "      <td>beaked_whales</td>\n",
       "      <td>Ziphiidae</td>\n",
       "      <td>Tasmacetus</td>\n",
       "      <td>Shepherd's beaked whale</td>\n",
       "      <td>tasmacetus shepherdi</td>\n",
       "      <td>DD</td>\n",
       "      <td>Unknown[af]</td>\n",
       "      <td>1.0</td>\n",
       "      <td>0.0</td>\n",
       "      <td>1.0</td>\n",
       "      <td>tasmacetus_shepherdi</td>\n",
       "    </tr>\n",
       "    <tr>\n",
       "      <th>96</th>\n",
       "      <td>oceanic_dolphins</td>\n",
       "      <td>Delphinidae</td>\n",
       "      <td>Tursiops</td>\n",
       "      <td>Indo-Pacific bottlenose dolphin</td>\n",
       "      <td>tursiops aduncus</td>\n",
       "      <td>NT</td>\n",
       "      <td>Unknown</td>\n",
       "      <td>1.0</td>\n",
       "      <td>0.0</td>\n",
       "      <td>1.0</td>\n",
       "      <td>tursiops_aduncus</td>\n",
       "    </tr>\n",
       "    <tr>\n",
       "      <th>97</th>\n",
       "      <td>oceanic_dolphins</td>\n",
       "      <td>Delphinidae</td>\n",
       "      <td>Tursiops</td>\n",
       "      <td>Tamanend's bottlenose dolphin</td>\n",
       "      <td>tursiops erebennus</td>\n",
       "      <td>NE</td>\n",
       "      <td>Unknown</td>\n",
       "      <td>1.0</td>\n",
       "      <td>0.0</td>\n",
       "      <td>0.0</td>\n",
       "      <td>tursiops_erebennus</td>\n",
       "    </tr>\n",
       "    <tr>\n",
       "      <th>98</th>\n",
       "      <td>oceanic_dolphins</td>\n",
       "      <td>Delphinidae</td>\n",
       "      <td>Tursiops</td>\n",
       "      <td>Common bottlenose dolphin</td>\n",
       "      <td>tursiops truncatus</td>\n",
       "      <td>LC</td>\n",
       "      <td>600,000[22]</td>\n",
       "      <td>1.0</td>\n",
       "      <td>1.0</td>\n",
       "      <td>1.0</td>\n",
       "      <td>tursiops_truncatus</td>\n",
       "    </tr>\n",
       "    <tr>\n",
       "      <th>99</th>\n",
       "      <td>beaked_whales</td>\n",
       "      <td>Ziphiidae</td>\n",
       "      <td>Ziphius</td>\n",
       "      <td>Cuvier's beaked whale</td>\n",
       "      <td>ziphius cavirostris</td>\n",
       "      <td>LC</td>\n",
       "      <td>100,000[ag]</td>\n",
       "      <td>1.0</td>\n",
       "      <td>1.0</td>\n",
       "      <td>1.0</td>\n",
       "      <td>ziphius_cavirostris</td>\n",
       "    </tr>\n",
       "  </tbody>\n",
       "</table>\n",
       "<p>100 rows × 11 columns</p>\n",
       "</div>"
      ],
      "text/plain": [
       "       Family_common     Family_Latin         Genus  \\\n",
       "0       right_whales       Balaenidae       Balaena   \n",
       "1           rorquals  Balaenopteridae  Balaenoptera   \n",
       "2           rorquals  Balaenopteridae  Balaenoptera   \n",
       "3           rorquals  Balaenopteridae  Balaenoptera   \n",
       "4           rorquals  Balaenopteridae  Balaenoptera   \n",
       "..               ...              ...           ...   \n",
       "95     beaked_whales        Ziphiidae    Tasmacetus   \n",
       "96  oceanic_dolphins      Delphinidae      Tursiops   \n",
       "97  oceanic_dolphins      Delphinidae      Tursiops   \n",
       "98  oceanic_dolphins      Delphinidae      Tursiops   \n",
       "99     beaked_whales        Ziphiidae       Ziphius   \n",
       "\n",
       "                        Common name             Scientific name  \\\n",
       "0                     Bowhead whale          balaena mysticetus   \n",
       "1                Common minke whale  balaenoptera acutorostrata   \n",
       "2             Antarctic minke whale    balaenoptera bonaerensis   \n",
       "3                         Sei whale       balaenoptera borealis   \n",
       "4                     Bryde's whale         balaenoptera brydei   \n",
       "..                              ...                         ...   \n",
       "95          Shepherd's beaked whale        tasmacetus shepherdi   \n",
       "96  Indo-Pacific bottlenose dolphin            tursiops aduncus   \n",
       "97    Tamanend's bottlenose dolphin          tursiops erebennus   \n",
       "98        Common bottlenose dolphin          tursiops truncatus   \n",
       "99            Cuvier's beaked whale         ziphius cavirostris   \n",
       "\n",
       "   IUCN Red List status Global population estimate  wiki  map  tree  \\\n",
       "0                    LC                     10,000   1.0  1.0   1.0   \n",
       "1                    LC                    200,000   1.0  1.0   1.0   \n",
       "2                    NT                515,000[18]   1.0  0.0   1.0   \n",
       "3                    EN                 80,000[17]   1.0  1.0   1.0   \n",
       "4                    LC             90,000–100,000   1.0  1.0   0.0   \n",
       "..                  ...                        ...   ...  ...   ...   \n",
       "95                   DD                Unknown[af]   1.0  0.0   1.0   \n",
       "96                   NT                    Unknown   1.0  0.0   1.0   \n",
       "97                   NE                    Unknown   1.0  0.0   0.0   \n",
       "98                   LC                600,000[22]   1.0  1.0   1.0   \n",
       "99                   LC                100,000[ag]   1.0  1.0   1.0   \n",
       "\n",
       "                     unique_id  \n",
       "0           balaena_mysticetus  \n",
       "1   balaenoptera_acutorostrata  \n",
       "2     balaenoptera_bonaerensis  \n",
       "3        balaenoptera_borealis  \n",
       "4          balaenoptera_brydei  \n",
       "..                         ...  \n",
       "95        tasmacetus_shepherdi  \n",
       "96            tursiops_aduncus  \n",
       "97          tursiops_erebennus  \n",
       "98          tursiops_truncatus  \n",
       "99         ziphius_cavirostris  \n",
       "\n",
       "[100 rows x 11 columns]"
      ]
     },
     "execution_count": 10,
     "metadata": {},
     "output_type": "execute_result"
    }
   ],
   "source": [
    "merged_df = wiki_df_merge.merge(map_df_merge, how='left', on='Scientific name')\n",
    "merged_df = merged_df.merge(tree_df_merge, how='outer', on='Scientific name')\n",
    "merged_df[['wiki', 'map', 'tree']] = merged_df[['wiki', 'map', 'tree']].fillna(0)\n",
    "merged_df['unique_id'] = list(map(lambda s: s.replace(\" \", \"_\"), list(merged_df['Scientific name'])))\n",
    "merged_df"
   ]
  },
  {
   "cell_type": "code",
   "execution_count": 11,
   "id": "64b7c53c",
   "metadata": {},
   "outputs": [
    {
     "data": {
      "text/plain": [
       "(100, 11)"
      ]
     },
     "execution_count": 11,
     "metadata": {},
     "output_type": "execute_result"
    }
   ],
   "source": [
    "merged_df.shape"
   ]
  },
  {
   "cell_type": "code",
   "execution_count": 12,
   "id": "d05591dc",
   "metadata": {},
   "outputs": [
    {
     "data": {
      "text/plain": [
       "(97,)"
      ]
     },
     "execution_count": 12,
     "metadata": {},
     "output_type": "execute_result"
    }
   ],
   "source": [
    "merged_df['Common name'].unique().shape"
   ]
  },
  {
   "cell_type": "code",
   "execution_count": 13,
   "id": "aea108e5",
   "metadata": {},
   "outputs": [
    {
     "data": {
      "text/plain": [
       "[]"
      ]
     },
     "execution_count": 13,
     "metadata": {},
     "output_type": "execute_result"
    }
   ],
   "source": [
    "non_unique = merged_df['Common name'].value_counts()[lambda x: x > 1].index.tolist()\n",
    "non_unique"
   ]
  },
  {
   "cell_type": "code",
   "execution_count": 14,
   "id": "917af692",
   "metadata": {},
   "outputs": [
    {
     "data": {
      "text/plain": [
       "array([nan], dtype=object)"
      ]
     },
     "execution_count": 14,
     "metadata": {},
     "output_type": "execute_result"
    }
   ],
   "source": [
    "non_unique = merged_df.loc[merged_df['Common name'].duplicated(keep=False), 'Common name'].unique()\n",
    "non_unique"
   ]
  },
  {
   "cell_type": "code",
   "execution_count": 15,
   "id": "30c14193",
   "metadata": {},
   "outputs": [],
   "source": [
    "merged_df = merged_df.fillna('null')"
   ]
  },
  {
   "cell_type": "code",
   "execution_count": 16,
   "id": "cad34422",
   "metadata": {},
   "outputs": [
    {
     "data": {
      "application/vnd.microsoft.datawrangler.viewer.v0+json": {
       "columns": [
        {
         "name": "index",
         "rawType": "int64",
         "type": "integer"
        },
        {
         "name": "Family_common",
         "rawType": "object",
         "type": "string"
        },
        {
         "name": "Family_Latin",
         "rawType": "object",
         "type": "string"
        },
        {
         "name": "Genus",
         "rawType": "object",
         "type": "string"
        },
        {
         "name": "Common name",
         "rawType": "object",
         "type": "string"
        },
        {
         "name": "Scientific name",
         "rawType": "object",
         "type": "string"
        },
        {
         "name": "IUCN Red List status",
         "rawType": "object",
         "type": "string"
        },
        {
         "name": "Global population estimate",
         "rawType": "object",
         "type": "string"
        },
        {
         "name": "wiki",
         "rawType": "float64",
         "type": "float"
        },
        {
         "name": "map",
         "rawType": "float64",
         "type": "float"
        },
        {
         "name": "tree",
         "rawType": "float64",
         "type": "float"
        },
        {
         "name": "unique_id",
         "rawType": "object",
         "type": "string"
        }
       ],
       "ref": "56984cc9-f70a-4928-8f3e-d7ced43d2fc5",
       "rows": [
        [
         "9",
         "rorquals",
         "Balaenopteridae",
         "Balaenoptera",
         "Rice's whale[16]",
         "balaenoptera ricei",
         "CR",
         "30–100",
         "1.0",
         "0.0",
         "0.0",
         "balaenoptera_ricei"
        ],
        [
         "22",
         "right_whales",
         "Balaenidae",
         "Eubalaena",
         "North Atlantic right whale",
         "eubalaena glacialis",
         "CR",
         "350",
         "1.0",
         "1.0",
         "1.0",
         "eubalaena_glacialis"
        ],
        [
         "43",
         "baiji",
         "Lipotidae",
         "Lipotes",
         "Baiji",
         "lipotes vexillifer",
         "CR",
         "0–13[u]",
         "1.0",
         "0.0",
         "1.0",
         "lipotes_vexillifer"
        ],
        [
         "72",
         "porpoises",
         "Phocoenidae",
         "Phocoena",
         "Vaquita",
         "phocoena sinus",
         "CR",
         "12[29]",
         "1.0",
         "0.0",
         "0.0",
         "phocoena_sinus"
        ],
        [
         "88",
         "oceanic_dolphins",
         "Delphinidae",
         "Sousa",
         "Atlantic humpback dolphin",
         "sousa teuszii",
         "CR",
         "1,500",
         "1.0",
         "0.0",
         "0.0",
         "sousa_teuszii"
        ]
       ],
       "shape": {
        "columns": 11,
        "rows": 5
       }
      },
      "text/html": [
       "<div>\n",
       "<style scoped>\n",
       "    .dataframe tbody tr th:only-of-type {\n",
       "        vertical-align: middle;\n",
       "    }\n",
       "\n",
       "    .dataframe tbody tr th {\n",
       "        vertical-align: top;\n",
       "    }\n",
       "\n",
       "    .dataframe thead th {\n",
       "        text-align: right;\n",
       "    }\n",
       "</style>\n",
       "<table border=\"1\" class=\"dataframe\">\n",
       "  <thead>\n",
       "    <tr style=\"text-align: right;\">\n",
       "      <th></th>\n",
       "      <th>Family_common</th>\n",
       "      <th>Family_Latin</th>\n",
       "      <th>Genus</th>\n",
       "      <th>Common name</th>\n",
       "      <th>Scientific name</th>\n",
       "      <th>IUCN Red List status</th>\n",
       "      <th>Global population estimate</th>\n",
       "      <th>wiki</th>\n",
       "      <th>map</th>\n",
       "      <th>tree</th>\n",
       "      <th>unique_id</th>\n",
       "    </tr>\n",
       "  </thead>\n",
       "  <tbody>\n",
       "    <tr>\n",
       "      <th>9</th>\n",
       "      <td>rorquals</td>\n",
       "      <td>Balaenopteridae</td>\n",
       "      <td>Balaenoptera</td>\n",
       "      <td>Rice's whale[16]</td>\n",
       "      <td>balaenoptera ricei</td>\n",
       "      <td>CR</td>\n",
       "      <td>30–100</td>\n",
       "      <td>1.0</td>\n",
       "      <td>0.0</td>\n",
       "      <td>0.0</td>\n",
       "      <td>balaenoptera_ricei</td>\n",
       "    </tr>\n",
       "    <tr>\n",
       "      <th>22</th>\n",
       "      <td>right_whales</td>\n",
       "      <td>Balaenidae</td>\n",
       "      <td>Eubalaena</td>\n",
       "      <td>North Atlantic right whale</td>\n",
       "      <td>eubalaena glacialis</td>\n",
       "      <td>CR</td>\n",
       "      <td>350</td>\n",
       "      <td>1.0</td>\n",
       "      <td>1.0</td>\n",
       "      <td>1.0</td>\n",
       "      <td>eubalaena_glacialis</td>\n",
       "    </tr>\n",
       "    <tr>\n",
       "      <th>43</th>\n",
       "      <td>baiji</td>\n",
       "      <td>Lipotidae</td>\n",
       "      <td>Lipotes</td>\n",
       "      <td>Baiji</td>\n",
       "      <td>lipotes vexillifer</td>\n",
       "      <td>CR</td>\n",
       "      <td>0–13[u]</td>\n",
       "      <td>1.0</td>\n",
       "      <td>0.0</td>\n",
       "      <td>1.0</td>\n",
       "      <td>lipotes_vexillifer</td>\n",
       "    </tr>\n",
       "    <tr>\n",
       "      <th>72</th>\n",
       "      <td>porpoises</td>\n",
       "      <td>Phocoenidae</td>\n",
       "      <td>Phocoena</td>\n",
       "      <td>Vaquita</td>\n",
       "      <td>phocoena sinus</td>\n",
       "      <td>CR</td>\n",
       "      <td>12[29]</td>\n",
       "      <td>1.0</td>\n",
       "      <td>0.0</td>\n",
       "      <td>0.0</td>\n",
       "      <td>phocoena_sinus</td>\n",
       "    </tr>\n",
       "    <tr>\n",
       "      <th>88</th>\n",
       "      <td>oceanic_dolphins</td>\n",
       "      <td>Delphinidae</td>\n",
       "      <td>Sousa</td>\n",
       "      <td>Atlantic humpback dolphin</td>\n",
       "      <td>sousa teuszii</td>\n",
       "      <td>CR</td>\n",
       "      <td>1,500</td>\n",
       "      <td>1.0</td>\n",
       "      <td>0.0</td>\n",
       "      <td>0.0</td>\n",
       "      <td>sousa_teuszii</td>\n",
       "    </tr>\n",
       "  </tbody>\n",
       "</table>\n",
       "</div>"
      ],
      "text/plain": [
       "       Family_common     Family_Latin         Genus  \\\n",
       "9           rorquals  Balaenopteridae  Balaenoptera   \n",
       "22      right_whales       Balaenidae     Eubalaena   \n",
       "43             baiji        Lipotidae       Lipotes   \n",
       "72         porpoises      Phocoenidae      Phocoena   \n",
       "88  oceanic_dolphins      Delphinidae         Sousa   \n",
       "\n",
       "                   Common name      Scientific name IUCN Red List status  \\\n",
       "9             Rice's whale[16]   balaenoptera ricei                   CR   \n",
       "22  North Atlantic right whale  eubalaena glacialis                   CR   \n",
       "43                       Baiji   lipotes vexillifer                   CR   \n",
       "72                     Vaquita       phocoena sinus                   CR   \n",
       "88   Atlantic humpback dolphin        sousa teuszii                   CR   \n",
       "\n",
       "   Global population estimate  wiki  map  tree            unique_id  \n",
       "9                      30–100   1.0  0.0   0.0   balaenoptera_ricei  \n",
       "22                        350   1.0  1.0   1.0  eubalaena_glacialis  \n",
       "43                    0–13[u]   1.0  0.0   1.0   lipotes_vexillifer  \n",
       "72                     12[29]   1.0  0.0   0.0       phocoena_sinus  \n",
       "88                      1,500   1.0  0.0   0.0        sousa_teuszii  "
      ]
     },
     "execution_count": 16,
     "metadata": {},
     "output_type": "execute_result"
    }
   ],
   "source": [
    "merged_df[merged_df['IUCN Red List status'] == 'CR']"
   ]
  },
  {
   "cell_type": "code",
   "execution_count": 17,
   "id": "e90b6d3a",
   "metadata": {},
   "outputs": [
    {
     "data": {
      "application/vnd.microsoft.datawrangler.viewer.v0+json": {
       "columns": [
        {
         "name": "index",
         "rawType": "int64",
         "type": "integer"
        },
        {
         "name": "Common name",
         "rawType": "object",
         "type": "string"
        },
        {
         "name": "Image URL",
         "rawType": "object",
         "type": "string"
        }
       ],
       "ref": "c9506528-74b0-483e-8c8d-8314218b8c0e",
       "rows": [
        [
         "0",
         "clymene dolphin",
         "https://upload.wikimedia.org/wikipedia/commons/a/aa/Clymenes.jpg"
        ],
        [
         "1",
         "spinner dolphin",
         "https://upload.wikimedia.org/wikipedia/commons/thumb/6/64/A_spinner_dolphin_in_the_Red_Sea.jpg/1200px-A_spinner_dolphin_in_the_Red_Sea.jpg"
        ],
        [
         "2",
         "fraser's dolphin",
         "https://upload.wikimedia.org/wikipedia/commons/2/2b/Frazer%C2%B4s_dolphin_group.jpg"
        ],
        [
         "3",
         "common dolphin",
         "https://upload.wikimedia.org/wikipedia/commons/thumb/7/74/Common_dolphin_noaa.jpg/1200px-Common_dolphin_noaa.jpg"
        ],
        [
         "4",
         "striped dolphin",
         "https://upload.wikimedia.org/wikipedia/commons/thumb/4/4f/Stenella_coeruleoalba_Ligurian_Sea_02_-_brighter.jpg/1200px-Stenella_coeruleoalba_Ligurian_Sea_02_-_brighter.jpg"
        ],
        [
         "5",
         "pantropical spotted dolphin",
         "https://upload.wikimedia.org/wikipedia/commons/thumb/0/06/Pantropical_spotted_dolphin_swimming_off_the_coast_of_Costa_Rica.jpg/1200px-Pantropical_spotted_dolphin_swimming_off_the_coast_of_Costa_Rica.jpg"
        ],
        [
         "6",
         "atlantic spotted dolphin",
         "https://upload.wikimedia.org/wikipedia/commons/thumb/9/9f/Atlantic_spotted_dolphin_%28Stenella_frontalis%29_NOAA.jpg/1200px-Atlantic_spotted_dolphin_%28Stenella_frontalis%29_NOAA.jpg"
        ],
        [
         "7",
         "common bottlenose dolphin",
         "https://upload.wikimedia.org/wikipedia/commons/thumb/b/bc/Tursiops_truncatus_01-cropped.jpg/1200px-Tursiops_truncatus_01-cropped.jpg"
        ],
        [
         "8",
         "indo-pacific bottlenose dolphin",
         "https://upload.wikimedia.org/wikipedia/commons/8/87/Tursiops_aduncus%2C_Port_River%2C_Adelaide%2C_Australia_-_2003.jpg"
        ],
        [
         "9",
         "indo-pacific humpback dolphin",
         "https://upload.wikimedia.org/wikipedia/commons/thumb/5/55/Pink_Dolphin.JPG/1200px-Pink_Dolphin.JPG"
        ],
        [
         "10",
         "guiana dolphin",
         "https://upload.wikimedia.org/wikipedia/commons/a/a6/Descri%C3%A7%C3%A3o_in%C3%ADcio_ou_comportamento.jpg"
        ],
        [
         "11",
         "short-finned pilot whale",
         "https://upload.wikimedia.org/wikipedia/commons/thumb/d/d5/Globicephala_macrorhynchus_Kurzflossen-Grindwal_DSCF8148.JPG/1200px-Globicephala_macrorhynchus_Kurzflossen-Grindwal_DSCF8148.JPG"
        ],
        [
         "12",
         "long-finned pilot whale",
         "https://upload.wikimedia.org/wikipedia/commons/thumb/8/85/Pilot_Whale_-_Flickr_-_gailhampshire.jpg/1200px-Pilot_Whale_-_Flickr_-_gailhampshire.jpg"
        ],
        [
         "13",
         "pygmy killer whale",
         "https://upload.wikimedia.org/wikipedia/commons/thumb/b/ba/Pygmy_killer_whales_%28Feresa_attenuata%29_off_of_Guam_%28anim252384854%29.jpg/1200px-Pygmy_killer_whales_%28Feresa_attenuata%29_off_of_Guam_%28anim252384854%29.jpg"
        ],
        [
         "14",
         "melon-headed whale",
         "https://upload.wikimedia.org/wikipedia/commons/thumb/4/4e/Peponocephala_electra_Mayotte.jpg/1200px-Peponocephala_electra_Mayotte.jpg"
        ],
        [
         "15",
         "false killer whale",
         "https://upload.wikimedia.org/wikipedia/commons/thumb/9/99/Pseudoorca_Crassidens_-_False_Killer_Whale.jpg/1200px-Pseudoorca_Crassidens_-_False_Killer_Whale.jpg"
        ],
        [
         "16",
         "risso's dolphin",
         "https://upload.wikimedia.org/wikipedia/commons/9/93/Grampo.jpg"
        ],
        [
         "17",
         "rough-toothed dolphin",
         "https://upload.wikimedia.org/wikipedia/commons/2/26/Rough_toothed_dolphin.jpg"
        ],
        [
         "18",
         "irrawaddy dolphin",
         "https://upload.wikimedia.org/wikipedia/commons/a/ae/Irrawaddy_dolphin-Orcaella_brevirostris_by_2eight.jpg"
        ],
        [
         "19",
         "australian snubfin dolphin",
         "https://upload.wikimedia.org/wikipedia/commons/3/3f/Snubfin-3.jpg"
        ],
        [
         "20",
         "heaviside's dolphin",
         "https://upload.wikimedia.org/wikipedia/commons/thumb/6/6e/Dolphins_at_L%C3%BCderitz%2C_Namibia_%283144863196%29.jpg/1200px-Dolphins_at_L%C3%BCderitz%2C_Namibia_%283144863196%29.jpg"
        ],
        [
         "21",
         "peale's dolphin",
         "https://upload.wikimedia.org/wikipedia/commons/thumb/4/49/Peale%27s_dolphin_%28Sagmatias_australis%29_off_the_coast_of_Calbuco%2C_Chile_%28380921709%29.jpg/1200px-Peale%27s_dolphin_%28Sagmatias_australis%29_off_the_coast_of_Calbuco%2C_Chile_%28380921709%29.jpg"
        ],
        [
         "22",
         "commerson's dolphin",
         "https://upload.wikimedia.org/wikipedia/commons/a/a1/Tonina1_%282731842634%29.jpg"
        ],
        [
         "23",
         "dusky dolphin",
         "https://upload.wikimedia.org/wikipedia/commons/1/13/DuskyDolphin.jpg"
        ],
        [
         "24",
         "pacific white-sided dolphin",
         "https://upload.wikimedia.org/wikipedia/commons/f/f1/Pacific_white-sided_dolphins_%28Lagenorhynchus_obliquidens%29_NOAA.jpg"
        ],
        [
         "25",
         "norhtern right whale dolphin",
         "https://upload.wikimedia.org/wikipedia/commons/thumb/2/2d/Anim1749_-_Flickr_-_NOAA_Photo_Library.jpg/1200px-Anim1749_-_Flickr_-_NOAA_Photo_Library.jpg"
        ],
        [
         "26",
         "southern right whale dolphin",
         "https://upload.wikimedia.org/wikipedia/commons/thumb/6/69/Lissodelphis_peronii_1847.jpg/1200px-Lissodelphis_peronii_1847.jpg"
        ],
        [
         "27",
         "white beaked dolphin",
         "https://upload.wikimedia.org/wikipedia/commons/7/72/Witsnuitdolfijn_-_Lagenorhynchus_albirostris.jpg"
        ],
        [
         "28",
         "orca",
         "https://upload.wikimedia.org/wikipedia/commons/thumb/3/37/Killerwhales_jumping.jpg/1200px-Killerwhales_jumping.jpg"
        ],
        [
         "29",
         "atlantic white-sided dolphin",
         "https://upload.wikimedia.org/wikipedia/commons/9/9a/Atlantic_white-sided_dolphin.jpg"
        ],
        [
         "30",
         "spectacled porpoise",
         "https://upload.wikimedia.org/wikipedia/commons/c/c4/Subadult_female_spectacled_porpoise.png"
        ],
        [
         "31",
         "burmeister's porpoise",
         "https://upload.wikimedia.org/wikipedia/commons/1/1c/Burmeister%27s_porpoise_-_Phocoena_spinipinnis_-_2022-02-24.png"
        ],
        [
         "32",
         "harbour porpoise",
         "https://upload.wikimedia.org/wikipedia/commons/thumb/0/0e/Ecomare_-_bruinvis_Michael_in_2015_%28bruinvis-michael2015-9313-sw%29.jpg/1200px-Ecomare_-_bruinvis_Michael_in_2015_%28bruinvis-michael2015-9313-sw%29.jpg"
        ],
        [
         "33",
         "dall's porpoise",
         "https://upload.wikimedia.org/wikipedia/commons/thumb/d/db/Phocoenoides_dalli_%28Dall%27s_porpoise%29.jpg/1200px-Phocoenoides_dalli_%28Dall%27s_porpoise%29.jpg"
        ],
        [
         "34",
         "indo-pacific finless porpoise",
         "https://upload.wikimedia.org/wikipedia/commons/c/c6/Stamps_of_Indonesia%2C_040-05.jpg"
        ],
        [
         "35",
         "beluga whale",
         "https://upload.wikimedia.org/wikipedia/commons/thumb/e/e8/Oceanogr%C3%A0fic_29102004.jpg/1200px-Oceanogr%C3%A0fic_29102004.jpg"
        ],
        [
         "36",
         "narwhal",
         "https://upload.wikimedia.org/wikipedia/commons/thumb/b/bc/%D0%9D%D0%B0%D1%80%D0%B2%D0%B0%D0%BB_%D0%B2_%D1%80%D0%BE%D1%81%D1%81%D0%B8%D0%B9%D1%81%D0%BA%D0%BE%D0%B9_%D0%90%D1%80%D0%BA%D1%82%D0%B8%D0%BA%D0%B5.jpg/1200px-%D0%9D%D0%B0%D1%80%D0%B2%D0%B0%D0%BB_%D0%B2_%D1%80%D0%BE%D1%81%D1%81%D0%B8%D0%B9%D1%81%D0%BA%D0%BE%D0%B9_%D0%90%D1%80%D0%BA%D1%82%D0%B8%D0%BA%D0%B5.jpg"
        ],
        [
         "37",
         "la plata dolphin",
         "https://upload.wikimedia.org/wikipedia/commons/thumb/5/5a/Pontoporia_blainvillei_296896096.jpg/1200px-Pontoporia_blainvillei_296896096.jpg"
        ],
        [
         "38",
         "amazon river dolphin",
         "https://upload.wikimedia.org/wikipedia/commons/thumb/9/99/Amazonas-Flussdelfin_Orinoko3.jpg/1200px-Amazonas-Flussdelfin_Orinoko3.jpg"
        ],
        [
         "39",
         "baiji",
         "https://upload.wikimedia.org/wikipedia/commons/5/5e/Lipotes_vexillifer.png"
        ],
        [
         "40",
         "perrin's beaked whale",
         "https://upload.wikimedia.org/wikipedia/commons/thumb/e/ed/Mesoplodon_perrini.jpg/1200px-Mesoplodon_perrini.jpg"
        ],
        [
         "41",
         "pygmy beaked whale",
         "https://upload.wikimedia.org/wikipedia/commons/9/93/Mesoplodon_peruvianus.jpg"
        ],
        [
         "42",
         "blaincille's beaked whale",
         "https://upload.wikimedia.org/wikipedia/commons/b/b9/Mesoplodon_densirostris.jpg"
        ],
        [
         "43",
         "stejneger's beaked whale",
         "https://upload.wikimedia.org/wikipedia/commons/thumb/2/26/Mesoplodon_stejnegeri.jpg/1200px-Mesoplodon_stejnegeri.jpg"
        ],
        [
         "44",
         "gray's beaked whale",
         "https://upload.wikimedia.org/wikipedia/commons/6/6a/Mesoplodon_grayi_2.jpg"
        ],
        [
         "45",
         "hector's beaked whale",
         "https://upload.wikimedia.org/wikipedia/commons/b/b5/Mesoplodon_hectori.jpg"
        ],
        [
         "46",
         "andrews' beaked whale",
         "https://upload.wikimedia.org/wikipedia/commons/thumb/c/c4/Mesoplodon_bowdoini.jpg/1200px-Mesoplodon_bowdoini.jpg"
        ],
        [
         "47",
         "hubbs' beaked whale",
         "https://upload.wikimedia.org/wikipedia/commons/thumb/4/42/Mesoplodon_carlhubbsi.jpg/1200px-Mesoplodon_carlhubbsi.jpg"
        ],
        [
         "48",
         "strap-toothed whale",
         "https://upload.wikimedia.org/wikipedia/commons/thumb/8/8a/Mesoplodon_layardii.jpg/1200px-Mesoplodon_layardii.jpg"
        ],
        [
         "49",
         "true's beaked whale",
         "https://upload.wikimedia.org/wikipedia/commons/thumb/1/14/The_True%27s_beaked_whale_photographed_underwater.jpg/1200px-The_True%27s_beaked_whale_photographed_underwater.jpg"
        ]
       ],
       "shape": {
        "columns": 2,
        "rows": 75
       }
      },
      "text/html": [
       "<div>\n",
       "<style scoped>\n",
       "    .dataframe tbody tr th:only-of-type {\n",
       "        vertical-align: middle;\n",
       "    }\n",
       "\n",
       "    .dataframe tbody tr th {\n",
       "        vertical-align: top;\n",
       "    }\n",
       "\n",
       "    .dataframe thead th {\n",
       "        text-align: right;\n",
       "    }\n",
       "</style>\n",
       "<table border=\"1\" class=\"dataframe\">\n",
       "  <thead>\n",
       "    <tr style=\"text-align: right;\">\n",
       "      <th></th>\n",
       "      <th>Common name</th>\n",
       "      <th>Image URL</th>\n",
       "    </tr>\n",
       "  </thead>\n",
       "  <tbody>\n",
       "    <tr>\n",
       "      <th>0</th>\n",
       "      <td>clymene dolphin</td>\n",
       "      <td>https://upload.wikimedia.org/wikipedia/commons...</td>\n",
       "    </tr>\n",
       "    <tr>\n",
       "      <th>1</th>\n",
       "      <td>spinner dolphin</td>\n",
       "      <td>https://upload.wikimedia.org/wikipedia/commons...</td>\n",
       "    </tr>\n",
       "    <tr>\n",
       "      <th>2</th>\n",
       "      <td>fraser's dolphin</td>\n",
       "      <td>https://upload.wikimedia.org/wikipedia/commons...</td>\n",
       "    </tr>\n",
       "    <tr>\n",
       "      <th>3</th>\n",
       "      <td>common dolphin</td>\n",
       "      <td>https://upload.wikimedia.org/wikipedia/commons...</td>\n",
       "    </tr>\n",
       "    <tr>\n",
       "      <th>4</th>\n",
       "      <td>striped dolphin</td>\n",
       "      <td>https://upload.wikimedia.org/wikipedia/commons...</td>\n",
       "    </tr>\n",
       "    <tr>\n",
       "      <th>...</th>\n",
       "      <td>...</td>\n",
       "      <td>...</td>\n",
       "    </tr>\n",
       "    <tr>\n",
       "      <th>70</th>\n",
       "      <td>pygmy right whale</td>\n",
       "      <td>https://upload.wikimedia.org/wikipedia/commons...</td>\n",
       "    </tr>\n",
       "    <tr>\n",
       "      <th>71</th>\n",
       "      <td>north atlantic right whale</td>\n",
       "      <td>https://upload.wikimedia.org/wikipedia/commons...</td>\n",
       "    </tr>\n",
       "    <tr>\n",
       "      <th>72</th>\n",
       "      <td>north pacific right whale</td>\n",
       "      <td>https://upload.wikimedia.org/wikipedia/commons...</td>\n",
       "    </tr>\n",
       "    <tr>\n",
       "      <th>73</th>\n",
       "      <td>southern right whale</td>\n",
       "      <td>https://upload.wikimedia.org/wikipedia/commons...</td>\n",
       "    </tr>\n",
       "    <tr>\n",
       "      <th>74</th>\n",
       "      <td>bowhead whale</td>\n",
       "      <td>https://upload.wikimedia.org/wikipedia/commons...</td>\n",
       "    </tr>\n",
       "  </tbody>\n",
       "</table>\n",
       "<p>75 rows × 2 columns</p>\n",
       "</div>"
      ],
      "text/plain": [
       "                   Common name  \\\n",
       "0              clymene dolphin   \n",
       "1              spinner dolphin   \n",
       "2             fraser's dolphin   \n",
       "3               common dolphin   \n",
       "4              striped dolphin   \n",
       "..                         ...   \n",
       "70           pygmy right whale   \n",
       "71  north atlantic right whale   \n",
       "72   north pacific right whale   \n",
       "73        southern right whale   \n",
       "74               bowhead whale   \n",
       "\n",
       "                                            Image URL  \n",
       "0   https://upload.wikimedia.org/wikipedia/commons...  \n",
       "1   https://upload.wikimedia.org/wikipedia/commons...  \n",
       "2   https://upload.wikimedia.org/wikipedia/commons...  \n",
       "3   https://upload.wikimedia.org/wikipedia/commons...  \n",
       "4   https://upload.wikimedia.org/wikipedia/commons...  \n",
       "..                                                ...  \n",
       "70  https://upload.wikimedia.org/wikipedia/commons...  \n",
       "71  https://upload.wikimedia.org/wikipedia/commons...  \n",
       "72  https://upload.wikimedia.org/wikipedia/commons...  \n",
       "73  https://upload.wikimedia.org/wikipedia/commons...  \n",
       "74  https://upload.wikimedia.org/wikipedia/commons...  \n",
       "\n",
       "[75 rows x 2 columns]"
      ]
     },
     "execution_count": 17,
     "metadata": {},
     "output_type": "execute_result"
    }
   ],
   "source": [
    "tree_images = pd.read_csv(\"data/WikipediaImages/image_urls.csv\")\n",
    "tree_images[\"Common name\"] = tree_images[\"Common name\"].apply(str.lower)\n",
    "tree_images"
   ]
  },
  {
   "cell_type": "code",
   "execution_count": 18,
   "id": "69129a95",
   "metadata": {},
   "outputs": [
    {
     "data": {
      "application/vnd.microsoft.datawrangler.viewer.v0+json": {
       "columns": [
        {
         "name": "index",
         "rawType": "int64",
         "type": "integer"
        },
        {
         "name": "Scientific name",
         "rawType": "object",
         "type": "string"
        },
        {
         "name": "Common name",
         "rawType": "object",
         "type": "string"
        },
        {
         "name": "Wikipedia page URL",
         "rawType": "object",
         "type": "string"
        }
       ],
       "ref": "4372a119-fc4d-4367-8863-c3a4d7016553",
       "rows": [
        [
         "0",
         "stenella clymene",
         "clymene dolphin",
         "https://en.wikipedia.org/wiki/Clymene_dolphin"
        ],
        [
         "1",
         "stenella longirostris",
         "spinner dolphin",
         "https://en.wikipedia.org/wiki/Spinner_dolphin"
        ],
        [
         "2",
         "lagenodelphis hosei",
         "fraser's dolphin",
         "https://en.wikipedia.org/wiki/Fraser%27s_dolphin"
        ],
        [
         "3",
         "delphinus delphis",
         "common dolphin",
         "https://en.wikipedia.org/wiki/Common_dolphin"
        ],
        [
         "4",
         "stenella coeruleoalba",
         "striped dolphin",
         "https://en.wikipedia.org/wiki/Striped_dolphin"
        ],
        [
         "5",
         "stenella attenuata",
         "pantropical spotted dolphin",
         "https://en.wikipedia.org/wiki/Pantropical_spotted_dolphin"
        ],
        [
         "6",
         "stenella frontalis",
         "atlantic spotted dolphin",
         "https://en.wikipedia.org/wiki/Atlantic_spotted_dolphin"
        ],
        [
         "7",
         "tursiops truncatus",
         "common bottlenose dolphin",
         "https://en.wikipedia.org/wiki/Common_bottlenose_dolphin"
        ],
        [
         "8",
         "tursiops aduncus",
         "indo-pacific bottlenose dolphin",
         "https://en.wikipedia.org/wiki/Indo-Pacific_bottlenose_dolphin"
        ],
        [
         "9",
         "sousa chinensis",
         "indo-pacific humpback dolphin",
         "https://en.wikipedia.org/wiki/Indo-Pacific_humpback_dolphin"
        ],
        [
         "10",
         "sotalia guianensis",
         "guiana dolphin",
         "https://en.wikipedia.org/wiki/Guiana_dolphin"
        ],
        [
         "11",
         "globicephala macrorhynchus",
         "short-finned pilot whale",
         "https://en.wikipedia.org/wiki/Short-finned_pilot_whale"
        ],
        [
         "12",
         "globicephala melas",
         "long-finned pilot whale",
         "https://en.wikipedia.org/wiki/Long-finned_pilot_whale"
        ],
        [
         "13",
         "feresa attenuata",
         "pygmy killer whale",
         "https://en.wikipedia.org/wiki/Pygmy_killer_whale"
        ],
        [
         "14",
         "peponocephala electra",
         "melon-headed whale",
         "https://en.wikipedia.org/wiki/Melon-headed_whale"
        ],
        [
         "15",
         "pseudorca crassidens",
         "false killer whale",
         "https://en.wikipedia.org/wiki/False_killer_whale"
        ],
        [
         "16",
         "grampus griseus",
         "risso's dolphin",
         "https://en.wikipedia.org/wiki/Risso%27s_dolphin"
        ],
        [
         "17",
         "steno bredanensis",
         "rough-toothed dolphin",
         "https://en.wikipedia.org/wiki/Rough-toothed_dolphin"
        ],
        [
         "18",
         "orcaella brevirostris",
         "irrawaddy dolphin",
         "https://en.wikipedia.org/wiki/Irrawaddy_dolphin"
        ],
        [
         "19",
         "orcaella heinsohni",
         "australian snubfin dolphin",
         "https://en.wikipedia.org/wiki/Australian_snubfin_dolphin"
        ],
        [
         "20",
         "cephalorhynchus heavisidii",
         "heaviside's dolphin",
         "https://en.wikipedia.org/wiki/Heaviside%27s_dolphin"
        ],
        [
         "21",
         "sagmatias australis",
         "peale's dolphin",
         "https://en.wikipedia.org/wiki/Peale%27s_dolphin"
        ],
        [
         "22",
         "cephalorhynchus commersonii",
         "commerson's dolphin",
         "https://en.wikipedia.org/wiki/Commerson%27s_dolphin"
        ],
        [
         "23",
         "sagmatias obscurus",
         "dusky dolphin",
         "https://en.wikipedia.org/wiki/Dusky_dolphin"
        ],
        [
         "24",
         "sagmatias obliquidens",
         "pacific white-sided dolphin",
         "https://en.wikipedia.org/wiki/Pacific_white-sided_dolphin"
        ],
        [
         "25",
         "lissodelphis borealis",
         "norhtern right whale dolphin",
         "https://en.wikipedia.org/wiki/Northern_right_whale_dolphin"
        ],
        [
         "26",
         "lissodelphis peronii",
         "southern right whale dolphin",
         "https://en.wikipedia.org/wiki/Southern_right_whale_dolphin"
        ],
        [
         "27",
         "lagenorhynchus albirostris",
         "white beaked dolphin",
         "https://en.wikipedia.org/wiki/White-beaked_dolphin"
        ],
        [
         "28",
         "orcinus orca",
         "orca",
         "https://en.wikipedia.org/wiki/Orca"
        ],
        [
         "29",
         "leucopleurus acutus",
         "atlantic white-sided dolphin",
         "https://en.wikipedia.org/wiki/Atlantic_white-sided_dolphin"
        ],
        [
         "30",
         "phocoena dioptrica",
         "spectacled porpoise",
         "https://en.wikipedia.org/wiki/Spectacled_porpoise"
        ],
        [
         "31",
         "phocoena spinipinnis",
         "burmeister's porpoise",
         "https://en.wikipedia.org/wiki/Burmeister%27s_porpoise"
        ],
        [
         "32",
         "phocoena phocoena",
         "harbour porpoise",
         "https://en.wikipedia.org/wiki/Harbour_porpoise"
        ],
        [
         "33",
         "phocoenoides dalli",
         "dall's porpoise",
         "https://en.wikipedia.org/wiki/Dall%27s_porpoise"
        ],
        [
         "34",
         "neophocaena phocaenoides",
         "indo-pacific finless porpoise",
         "https://en.wikipedia.org/wiki/Indo-Pacific_finless_porpoise"
        ],
        [
         "35",
         "delphinapterus leucas",
         "beluga whale",
         "https://en.wikipedia.org/wiki/Beluga_whale"
        ],
        [
         "36",
         "monodon monoceros",
         "narwhal",
         "https://en.wikipedia.org/wiki/Narwhal"
        ],
        [
         "37",
         "pontoporia blainvillei",
         "la plata dolphin",
         "https://en.wikipedia.org/wiki/La_Plata_dolphin"
        ],
        [
         "38",
         "inia geoffrensis",
         "amazon river dolphin",
         "https://en.wikipedia.org/wiki/Amazon_river_dolphin"
        ],
        [
         "39",
         "lipotes vexillifer",
         "baiji",
         "https://en.wikipedia.org/wiki/Baiji"
        ],
        [
         "40",
         "mesoplodon perrini",
         "perrin's beaked whale",
         "https://en.wikipedia.org/wiki/Perrin%27s_beaked_whale"
        ],
        [
         "41",
         "mesoplodon peruvianus",
         "pygmy beaked whale",
         "https://en.wikipedia.org/wiki/Pygmy_beaked_whale"
        ],
        [
         "42",
         "mesoplodon densirostris",
         "blaincille's beaked whale",
         "https://en.wikipedia.org/wiki/Blainville%27s_beaked_whale"
        ],
        [
         "43",
         "mesoplodon stejnegeri",
         "stejneger's beaked whale",
         "https://en.wikipedia.org/wiki/Stejneger%27s_beaked_whale"
        ],
        [
         "44",
         "mesoplodon grayi",
         "gray's beaked whale",
         "https://en.wikipedia.org/wiki/Gray%27s_beaked_whale"
        ],
        [
         "45",
         "mesoplodon hectori",
         "hector's beaked whale",
         "https://en.wikipedia.org/wiki/Hector%27s_beaked_whale"
        ],
        [
         "46",
         "mesoplodon bowdoini",
         "andrews' beaked whale",
         "https://en.wikipedia.org/wiki/Andrews%27_beaked_whale"
        ],
        [
         "47",
         "mesoplodon carlhubbsi",
         "hubbs' beaked whale",
         "https://en.wikipedia.org/wiki/Hubbs%27_beaked_whale"
        ],
        [
         "48",
         "mesoplodon layardii",
         "strap-toothed whale",
         "https://en.wikipedia.org/wiki/Strap-toothed_whale"
        ],
        [
         "49",
         "mesoplodon mirus",
         "true's beaked whale",
         "https://en.wikipedia.org/wiki/True%27s_beaked_whale"
        ]
       ],
       "shape": {
        "columns": 3,
        "rows": 75
       }
      },
      "text/html": [
       "<div>\n",
       "<style scoped>\n",
       "    .dataframe tbody tr th:only-of-type {\n",
       "        vertical-align: middle;\n",
       "    }\n",
       "\n",
       "    .dataframe tbody tr th {\n",
       "        vertical-align: top;\n",
       "    }\n",
       "\n",
       "    .dataframe thead th {\n",
       "        text-align: right;\n",
       "    }\n",
       "</style>\n",
       "<table border=\"1\" class=\"dataframe\">\n",
       "  <thead>\n",
       "    <tr style=\"text-align: right;\">\n",
       "      <th></th>\n",
       "      <th>Scientific name</th>\n",
       "      <th>Common name</th>\n",
       "      <th>Wikipedia page URL</th>\n",
       "    </tr>\n",
       "  </thead>\n",
       "  <tbody>\n",
       "    <tr>\n",
       "      <th>0</th>\n",
       "      <td>stenella clymene</td>\n",
       "      <td>clymene dolphin</td>\n",
       "      <td>https://en.wikipedia.org/wiki/Clymene_dolphin</td>\n",
       "    </tr>\n",
       "    <tr>\n",
       "      <th>1</th>\n",
       "      <td>stenella longirostris</td>\n",
       "      <td>spinner dolphin</td>\n",
       "      <td>https://en.wikipedia.org/wiki/Spinner_dolphin</td>\n",
       "    </tr>\n",
       "    <tr>\n",
       "      <th>2</th>\n",
       "      <td>lagenodelphis hosei</td>\n",
       "      <td>fraser's dolphin</td>\n",
       "      <td>https://en.wikipedia.org/wiki/Fraser%27s_dolphin</td>\n",
       "    </tr>\n",
       "    <tr>\n",
       "      <th>3</th>\n",
       "      <td>delphinus delphis</td>\n",
       "      <td>common dolphin</td>\n",
       "      <td>https://en.wikipedia.org/wiki/Common_dolphin</td>\n",
       "    </tr>\n",
       "    <tr>\n",
       "      <th>4</th>\n",
       "      <td>stenella coeruleoalba</td>\n",
       "      <td>striped dolphin</td>\n",
       "      <td>https://en.wikipedia.org/wiki/Striped_dolphin</td>\n",
       "    </tr>\n",
       "    <tr>\n",
       "      <th>...</th>\n",
       "      <td>...</td>\n",
       "      <td>...</td>\n",
       "      <td>...</td>\n",
       "    </tr>\n",
       "    <tr>\n",
       "      <th>70</th>\n",
       "      <td>caperea marginata</td>\n",
       "      <td>pygmy right whale</td>\n",
       "      <td>https://en.wikipedia.org/wiki/Pygmy_right_whale</td>\n",
       "    </tr>\n",
       "    <tr>\n",
       "      <th>71</th>\n",
       "      <td>eubalaena glacialis</td>\n",
       "      <td>north atlantic right whale</td>\n",
       "      <td>https://en.wikipedia.org/wiki/North_Atlantic_r...</td>\n",
       "    </tr>\n",
       "    <tr>\n",
       "      <th>72</th>\n",
       "      <td>eubalaena japonica</td>\n",
       "      <td>north pacific right whale</td>\n",
       "      <td>https://en.wikipedia.org/wiki/North_Pacific_ri...</td>\n",
       "    </tr>\n",
       "    <tr>\n",
       "      <th>73</th>\n",
       "      <td>eubalaena australis</td>\n",
       "      <td>southern right whale</td>\n",
       "      <td>https://en.wikipedia.org/wiki/Southern_right_w...</td>\n",
       "    </tr>\n",
       "    <tr>\n",
       "      <th>74</th>\n",
       "      <td>balaena mysticetus</td>\n",
       "      <td>bowhead whale</td>\n",
       "      <td>https://en.wikipedia.org/wiki/Bowhead_whale</td>\n",
       "    </tr>\n",
       "  </tbody>\n",
       "</table>\n",
       "<p>75 rows × 3 columns</p>\n",
       "</div>"
      ],
      "text/plain": [
       "          Scientific name                 Common name  \\\n",
       "0        stenella clymene             clymene dolphin   \n",
       "1   stenella longirostris             spinner dolphin   \n",
       "2     lagenodelphis hosei            fraser's dolphin   \n",
       "3       delphinus delphis              common dolphin   \n",
       "4   stenella coeruleoalba             striped dolphin   \n",
       "..                    ...                         ...   \n",
       "70      caperea marginata           pygmy right whale   \n",
       "71    eubalaena glacialis  north atlantic right whale   \n",
       "72     eubalaena japonica   north pacific right whale   \n",
       "73    eubalaena australis        southern right whale   \n",
       "74     balaena mysticetus               bowhead whale   \n",
       "\n",
       "                                   Wikipedia page URL  \n",
       "0       https://en.wikipedia.org/wiki/Clymene_dolphin  \n",
       "1       https://en.wikipedia.org/wiki/Spinner_dolphin  \n",
       "2    https://en.wikipedia.org/wiki/Fraser%27s_dolphin  \n",
       "3        https://en.wikipedia.org/wiki/Common_dolphin  \n",
       "4       https://en.wikipedia.org/wiki/Striped_dolphin  \n",
       "..                                                ...  \n",
       "70    https://en.wikipedia.org/wiki/Pygmy_right_whale  \n",
       "71  https://en.wikipedia.org/wiki/North_Atlantic_r...  \n",
       "72  https://en.wikipedia.org/wiki/North_Pacific_ri...  \n",
       "73  https://en.wikipedia.org/wiki/Southern_right_w...  \n",
       "74        https://en.wikipedia.org/wiki/Bowhead_whale  \n",
       "\n",
       "[75 rows x 3 columns]"
      ]
     },
     "execution_count": 18,
     "metadata": {},
     "output_type": "execute_result"
    }
   ],
   "source": [
    "tree_wiki_pages = pd.read_csv(\"data/PhilogeneticTree/species_tree_of_life.csv\", usecols=[\"Scientific name\", \"Common name\", \"Wikipedia page URL\"])\n",
    "tree_wiki_pages[[\"Scientific name\", \"Common name\"]] = tree_wiki_pages[[\"Scientific name\", \"Common name\"]].apply(lambda x: x.str.lower())\n",
    "tree_wiki_pages"
   ]
  },
  {
   "cell_type": "code",
   "execution_count": 19,
   "id": "faaa116e",
   "metadata": {},
   "outputs": [
    {
     "data": {
      "text/plain": [
       "0"
      ]
     },
     "execution_count": 19,
     "metadata": {},
     "output_type": "execute_result"
    }
   ],
   "source": [
    "# Checking that all names from the tree do appear in the merged_df table\n",
    "untraced_names = [name for name in tree_wiki_pages[\"Scientific name\"] if name not in merged_df[\"Scientific name\"].values]\n",
    "len(untraced_names) # no names from the tree are untraced: we are happy"
   ]
  },
  {
   "cell_type": "code",
   "execution_count": 20,
   "id": "fe4680ad",
   "metadata": {},
   "outputs": [
    {
     "data": {
      "application/vnd.microsoft.datawrangler.viewer.v0+json": {
       "columns": [
        {
         "name": "index",
         "rawType": "int64",
         "type": "integer"
        },
        {
         "name": "Family_common",
         "rawType": "object",
         "type": "string"
        },
        {
         "name": "Family_Latin",
         "rawType": "object",
         "type": "string"
        },
        {
         "name": "Genus",
         "rawType": "object",
         "type": "string"
        },
        {
         "name": "Common name",
         "rawType": "object",
         "type": "string"
        },
        {
         "name": "Scientific name",
         "rawType": "object",
         "type": "string"
        },
        {
         "name": "IUCN Red List status",
         "rawType": "object",
         "type": "string"
        },
        {
         "name": "Global population estimate",
         "rawType": "object",
         "type": "string"
        },
        {
         "name": "wiki",
         "rawType": "float64",
         "type": "float"
        },
        {
         "name": "map",
         "rawType": "float64",
         "type": "float"
        },
        {
         "name": "tree",
         "rawType": "float64",
         "type": "float"
        },
        {
         "name": "unique_id",
         "rawType": "object",
         "type": "string"
        },
        {
         "name": "Image URL",
         "rawType": "object",
         "type": "unknown"
        },
        {
         "name": "Wikipedia page URL",
         "rawType": "object",
         "type": "unknown"
        }
       ],
       "ref": "e62ac20e-8817-4116-8442-1ee72e49e433",
       "rows": [
        [
         "0",
         "right_whales",
         "Balaenidae",
         "Balaena",
         "Bowhead whale",
         "balaena mysticetus",
         "LC",
         "10,000",
         "1.0",
         "1.0",
         "1.0",
         "balaena_mysticetus",
         "https://upload.wikimedia.org/wikipedia/commons/thumb/d/d3/Bowhead_Whale_NOAA.jpg/1200px-Bowhead_Whale_NOAA.jpg",
         "https://en.wikipedia.org/wiki/Bowhead_whale"
        ],
        [
         "1",
         "rorquals",
         "Balaenopteridae",
         "Balaenoptera",
         "Common minke whale",
         "balaenoptera acutorostrata",
         "LC",
         "200,000",
         "1.0",
         "1.0",
         "1.0",
         "balaenoptera_acutorostrata",
         "https://upload.wikimedia.org/wikipedia/commons/f/f4/Dwarf_minke_whale_%2830694501214%29.jpg",
         "https://en.wikipedia.org/wiki/Common_minke_whale"
        ],
        [
         "2",
         "rorquals",
         "Balaenopteridae",
         "Balaenoptera",
         "Antarctic minke whale",
         "balaenoptera bonaerensis",
         "NT",
         "515,000[18]",
         "1.0",
         "0.0",
         "1.0",
         "balaenoptera_bonaerensis",
         "https://upload.wikimedia.org/wikipedia/commons/thumb/4/46/Minke_whale_in_ross_sea.jpg/1200px-Minke_whale_in_ross_sea.jpg",
         "https://en.wikipedia.org/wiki/Antarctic_minke_whale"
        ],
        [
         "3",
         "rorquals",
         "Balaenopteridae",
         "Balaenoptera",
         "Sei whale",
         "balaenoptera borealis",
         "EN",
         "80,000[17]",
         "1.0",
         "1.0",
         "1.0",
         "balaenoptera_borealis",
         "https://upload.wikimedia.org/wikipedia/commons/thumb/e/e3/Sei_whale_mother_and_calf_Christin_Khan_NOAA.jpg/1200px-Sei_whale_mother_and_calf_Christin_Khan_NOAA.jpg",
         "https://en.wikipedia.org/wiki/Sei_whale"
        ],
        [
         "4",
         "rorquals",
         "Balaenopteridae",
         "Balaenoptera",
         "Bryde's whale",
         "balaenoptera brydei",
         "LC",
         "90,000–100,000",
         "1.0",
         "1.0",
         "0.0",
         "balaenoptera_brydei",
         null,
         null
        ],
        [
         "5",
         "rorquals",
         "Balaenopteridae",
         "Balaenoptera",
         "Eden's whale[a]",
         "balaenoptera edeni",
         "LC",
         "Unknown",
         "1.0",
         "0.0",
         "1.0",
         "balaenoptera_edeni",
         "https://upload.wikimedia.org/wikipedia/commons/3/35/Balaenoptera_brydei.jpg",
         "https://en.wikipedia.org/wiki/Bryde%27s_whale"
        ],
        [
         "6",
         "rorquals",
         "Balaenopteridae",
         "Balaenoptera",
         "Blue whale",
         "balaenoptera musculus",
         "EN",
         "5,000–15,000",
         "1.0",
         "1.0",
         "1.0",
         "balaenoptera_musculus",
         "https://upload.wikimedia.org/wikipedia/commons/thumb/1/1c/Anim1754_-_Flickr_-_NOAA_Photo_Library.jpg/1200px-Anim1754_-_Flickr_-_NOAA_Photo_Library.jpg",
         "https://en.wikipedia.org/wiki/Blue_whale"
        ],
        [
         "7",
         "rorquals",
         "Balaenopteridae",
         "Balaenoptera",
         "Omura's whale",
         "balaenoptera omurai",
         "DD",
         "Unknown",
         "1.0",
         "1.0",
         "0.0",
         "balaenoptera_omurai",
         null,
         null
        ],
        [
         "8",
         "rorquals",
         "Balaenopteridae",
         "Balaenoptera",
         "Fin whale",
         "balaenoptera physalus",
         "VU",
         "100,000",
         "1.0",
         "1.0",
         "1.0",
         "balaenoptera_physalus",
         "https://upload.wikimedia.org/wikipedia/commons/thumb/c/ce/Finhval_%281%29.jpg/1200px-Finhval_%281%29.jpg",
         "https://en.wikipedia.org/wiki/Fin_whale"
        ],
        [
         "9",
         "rorquals",
         "Balaenopteridae",
         "Balaenoptera",
         "Rice's whale[16]",
         "balaenoptera ricei",
         "CR",
         "30–100",
         "1.0",
         "0.0",
         "0.0",
         "balaenoptera_ricei",
         null,
         null
        ],
        [
         "10",
         "beaked_whales",
         "Ziphiidae",
         "Berardius",
         "Arnoux's beaked whale",
         "berardius arnuxii",
         "LC",
         "Unknown[ad]",
         "1.0",
         "1.0",
         "1.0",
         "berardius_arnuxii",
         "https://upload.wikimedia.org/wikipedia/commons/thumb/2/2f/Berardius_arnuxii_2.jpg/1200px-Berardius_arnuxii_2.jpg",
         "https://en.wikipedia.org/wiki/Arnoux%27s_beaked_whale"
        ],
        [
         "11",
         "beaked_whales",
         "Ziphiidae",
         "Berardius",
         "Baird's beaked whale",
         "berardius bairdii",
         "LC",
         "Unknown[ae]",
         "1.0",
         "1.0",
         "1.0",
         "berardius_bairdii",
         "https://upload.wikimedia.org/wikipedia/commons/e/e2/Berardius_bairdii_2.jpg",
         "https://en.wikipedia.org/wiki/Baird%27s_beaked_whale"
        ],
        [
         "12",
         "beaked_whales",
         "Ziphiidae",
         "Berardius",
         "Sato's beaked whale",
         "berardius minimus",
         "NT",
         "Unknown",
         "1.0",
         "0.0",
         "0.0",
         "berardius_minimus",
         null,
         null
        ],
        [
         "13",
         "pygmy_right_whale",
         "Cetotheriidae",
         "Caperea",
         "Pygmy right whale",
         "caperea marginata",
         "LC",
         "Unknown",
         "1.0",
         "0.0",
         "1.0",
         "caperea_marginata",
         "https://upload.wikimedia.org/wikipedia/commons/b/bb/Pygmy_right_whale.png",
         "https://en.wikipedia.org/wiki/Pygmy_right_whale"
        ],
        [
         "14",
         "oceanic_dolphins",
         "Delphinidae",
         "Cephalorhynchus",
         "Commerson's dolphin",
         "cephalorhynchus commersonii",
         "LC",
         "22,000[21]",
         "1.0",
         "1.0",
         "1.0",
         "cephalorhynchus_commersonii",
         "https://upload.wikimedia.org/wikipedia/commons/a/a1/Tonina1_%282731842634%29.jpg",
         "https://en.wikipedia.org/wiki/Commerson%27s_dolphin"
        ],
        [
         "15",
         "oceanic_dolphins",
         "Delphinidae",
         "Cephalorhynchus",
         "Chilean dolphin",
         "cephalorhynchus eutropia",
         "NT",
         "Unknown[b]",
         "1.0",
         "1.0",
         "0.0",
         "cephalorhynchus_eutropia",
         null,
         null
        ],
        [
         "16",
         "oceanic_dolphins",
         "Delphinidae",
         "Cephalorhynchus",
         "Heaviside's dolphin",
         "cephalorhynchus heavisidii",
         "NT",
         "Unknown",
         "1.0",
         "1.0",
         "1.0",
         "cephalorhynchus_heavisidii",
         "https://upload.wikimedia.org/wikipedia/commons/thumb/6/6e/Dolphins_at_L%C3%BCderitz%2C_Namibia_%283144863196%29.jpg/1200px-Dolphins_at_L%C3%BCderitz%2C_Namibia_%283144863196%29.jpg",
         "https://en.wikipedia.org/wiki/Heaviside%27s_dolphin"
        ],
        [
         "17",
         "oceanic_dolphins",
         "Delphinidae",
         "Cephalorhynchus",
         "Hector's dolphin",
         "cephalorhynchus hectori",
         "Maui dolphin",
         "Maui dolphin",
         "1.0",
         "1.0",
         "0.0",
         "cephalorhynchus_hectori",
         null,
         null
        ],
        [
         "18",
         "narwhal_and_beluga",
         "Monodontidae",
         "Delphinapterus",
         "Beluga",
         "delphinapterus leucas",
         "LC",
         "136,000[v]",
         "1.0",
         "1.0",
         "1.0",
         "delphinapterus_leucas",
         "https://upload.wikimedia.org/wikipedia/commons/thumb/e/e8/Oceanogr%C3%A0fic_29102004.jpg/1200px-Oceanogr%C3%A0fic_29102004.jpg",
         "https://en.wikipedia.org/wiki/Beluga_whale"
        ],
        [
         "19",
         "oceanic_dolphins",
         "Delphinidae",
         "Delphinus",
         "Common dolphin",
         "delphinus delphis",
         "LC",
         "Unknown[c]",
         "1.0",
         "1.0",
         "1.0",
         "delphinus_delphis",
         "https://upload.wikimedia.org/wikipedia/commons/thumb/7/74/Common_dolphin_noaa.jpg/1200px-Common_dolphin_noaa.jpg",
         "https://en.wikipedia.org/wiki/Common_dolphin"
        ],
        [
         "20",
         "rorquals",
         "Balaenopteridae",
         "Eschrichtius",
         "Gray whale",
         "eschrichtius robustus",
         "LC",
         "21,000[19]",
         "1.0",
         "1.0",
         "1.0",
         "eschrichtius_robustus",
         "https://upload.wikimedia.org/wikipedia/commons/thumb/0/00/Ballena_gris_adulta_con_su_ballenato.jpg/1200px-Ballena_gris_adulta_con_su_ballenato.jpg",
         "https://en.wikipedia.org/wiki/Gray_whale"
        ],
        [
         "21",
         "right_whales",
         "Balaenidae",
         "Eubalaena",
         "Southern right whale",
         "eubalaena australis",
         "LC",
         "13,600[13]",
         "1.0",
         "0.0",
         "1.0",
         "eubalaena_australis",
         "https://upload.wikimedia.org/wikipedia/commons/c/c2/Southern_right_whale6.jpg",
         "https://en.wikipedia.org/wiki/Southern_right_whale"
        ],
        [
         "22",
         "right_whales",
         "Balaenidae",
         "Eubalaena",
         "North Atlantic right whale",
         "eubalaena glacialis",
         "CR",
         "350",
         "1.0",
         "1.0",
         "1.0",
         "eubalaena_glacialis",
         "https://upload.wikimedia.org/wikipedia/commons/thumb/9/94/GRNMS_-_Right_Whales_%2831361234602%29.jpg/1200px-GRNMS_-_Right_Whales_%2831361234602%29.jpg",
         "https://en.wikipedia.org/wiki/North_Atlantic_right_whale"
        ],
        [
         "23",
         "right_whales",
         "Balaenidae",
         "Eubalaena",
         "North Pacific right whale",
         "eubalaena japonica",
         "EN",
         "404–2,108[12]",
         "1.0",
         "1.0",
         "1.0",
         "eubalaena_japonica",
         "https://upload.wikimedia.org/wikipedia/commons/3/37/Eubalaena_japonica_drawing.jpg",
         "https://en.wikipedia.org/wiki/North_Pacific_right_whale"
        ],
        [
         "24",
         "oceanic_dolphins",
         "Delphinidae",
         "Feresa",
         "Pygmy killer whale",
         "feresa attenuata",
         "LC",
         "Unknown[d]",
         "1.0",
         "0.0",
         "1.0",
         "feresa_attenuata",
         "https://upload.wikimedia.org/wikipedia/commons/thumb/b/ba/Pygmy_killer_whales_%28Feresa_attenuata%29_off_of_Guam_%28anim252384854%29.jpg/1200px-Pygmy_killer_whales_%28Feresa_attenuata%29_off_of_Guam_%28anim252384854%29.jpg",
         "https://en.wikipedia.org/wiki/Pygmy_killer_whale"
        ],
        [
         "25",
         "oceanic_dolphins",
         "Delphinidae",
         "Globicephala",
         "Short-finned pilot whale",
         "globicephala macrorhynchus",
         "LC",
         "Unknown[f]",
         "1.0",
         "0.0",
         "1.0",
         "globicephala_macrorhynchus",
         "https://upload.wikimedia.org/wikipedia/commons/thumb/d/d5/Globicephala_macrorhynchus_Kurzflossen-Grindwal_DSCF8148.JPG/1200px-Globicephala_macrorhynchus_Kurzflossen-Grindwal_DSCF8148.JPG",
         "https://en.wikipedia.org/wiki/Short-finned_pilot_whale"
        ],
        [
         "26",
         "oceanic_dolphins",
         "Delphinidae",
         "Globicephala",
         "Long-finned pilot whale",
         "globicephala melas",
         "LC",
         "Unknown[e]",
         "1.0",
         "1.0",
         "1.0",
         "globicephala_melas",
         "https://upload.wikimedia.org/wikipedia/commons/thumb/8/85/Pilot_Whale_-_Flickr_-_gailhampshire.jpg/1200px-Pilot_Whale_-_Flickr_-_gailhampshire.jpg",
         "https://en.wikipedia.org/wiki/Long-finned_pilot_whale"
        ],
        [
         "27",
         "oceanic_dolphins",
         "Delphinidae",
         "Grampus",
         "Risso's dolphin",
         "grampus griseus",
         "LC",
         "Unknown[g]",
         "1.0",
         "1.0",
         "1.0",
         "grampus_griseus",
         "https://upload.wikimedia.org/wikipedia/commons/9/93/Grampo.jpg",
         "https://en.wikipedia.org/wiki/Risso%27s_dolphin"
        ],
        [
         "28",
         "beaked_whales",
         "Ziphiidae",
         "Hyperoodon",
         "Northern bottlenose whale",
         "hyperoodon ampullatus",
         "NT",
         "10,000[ah]",
         "1.0",
         "1.0",
         "1.0",
         "hyperoodon_ampullatus",
         "https://upload.wikimedia.org/wikipedia/commons/thumb/f/ff/Hyperoodon_ampullatus_2.jpg/1200px-Hyperoodon_ampullatus_2.jpg",
         "https://en.wikipedia.org/wiki/Northern_bottlenose_whale"
        ],
        [
         "29",
         "beaked_whales",
         "Ziphiidae",
         "Hyperoodon",
         "Southern bottlenose whale",
         "hyperoodon planifrons",
         "LC",
         "500,000",
         "1.0",
         "1.0",
         "1.0",
         "hyperoodon_planifrons",
         "https://upload.wikimedia.org/wikipedia/commons/thumb/b/b5/Hyperoodon_planifrons.jpg/1200px-Hyperoodon_planifrons.jpg",
         "https://en.wikipedia.org/wiki/Southern_bottlenose_whale"
        ],
        [
         "30",
         "beaked_whales",
         "Ziphiidae",
         "Indopacetus",
         "Tropical bottlenose whale",
         "indopacetus pacificus",
         "LC",
         "Unknown[ai]",
         "1.0",
         "0.0",
         "0.0",
         "indopacetus_pacificus",
         null,
         null
        ],
        [
         "31",
         "river_dolphins",
         "Iniidae",
         "Inia",
         "Araguaian river dolphin[r]",
         "inia araguaiaensis",
         "NE",
         "Unknown",
         "1.0",
         "0.0",
         "0.0",
         "inia_araguaiaensis",
         null,
         null
        ],
        [
         "32",
         "river_dolphins",
         "Iniidae",
         "Inia",
         "Amazon river dolphin",
         "inia geoffrensis",
         "EN",
         "Unknown",
         "1.0",
         "1.0",
         "1.0",
         "inia_geoffrensis",
         "https://upload.wikimedia.org/wikipedia/commons/thumb/9/99/Amazonas-Flussdelfin_Orinoko3.jpg/1200px-Amazonas-Flussdelfin_Orinoko3.jpg",
         "https://en.wikipedia.org/wiki/Amazon_river_dolphin"
        ],
        [
         "33",
         "dwarf_and_pygmy_sperm_whales",
         "Kogiidae",
         "Kogia",
         "Pygmy sperm whale",
         "kogia breviceps",
         "LC",
         "Unknown[t]",
         "1.0",
         "1.0",
         "1.0",
         "kogia_breviceps",
         "https://upload.wikimedia.org/wikipedia/commons/b/b6/FMIB_50832_Pygmy_Sperm_Whale.jpeg",
         "https://en.wikipedia.org/wiki/Pygmy_sperm_whale"
        ],
        [
         "34",
         "dwarf_and_pygmy_sperm_whales",
         "Kogiidae",
         "Kogia",
         "Dwarf sperm whale",
         "kogia sima",
         "LC",
         "Unknown[s]",
         "1.0",
         "1.0",
         "1.0",
         "kogia_sima",
         "https://upload.wikimedia.org/wikipedia/commons/5/58/Dwarf_sperm_whale_%28NOAA_Pitman%29.jpg",
         "https://en.wikipedia.org/wiki/Dwarf_sperm_whale"
        ],
        [
         "35",
         "oceanic_dolphins",
         "Delphinidae",
         "Lagenodelphis",
         "Fraser's dolphin",
         "lagenodelphis hosei",
         "LC",
         "Unknown[h]",
         "1.0",
         "1.0",
         "1.0",
         "lagenodelphis_hosei",
         "https://upload.wikimedia.org/wikipedia/commons/2/2b/Frazer%C2%B4s_dolphin_group.jpg",
         "https://en.wikipedia.org/wiki/Fraser%27s_dolphin"
        ],
        [
         "36",
         "oceanic_dolphins",
         "Delphinidae",
         "Lagenorhynchus",
         "Atlantic white-sided dolphin",
         "lagenorhynchus acutus",
         "LC",
         "citation needed",
         "1.0",
         "1.0",
         "0.0",
         "lagenorhynchus_acutus",
         null,
         null
        ],
        [
         "37",
         "oceanic_dolphins",
         "Delphinidae",
         "Lagenorhynchus",
         "White-beaked dolphin",
         "lagenorhynchus albirostris",
         "LC",
         "100,000[j]",
         "1.0",
         "0.0",
         "1.0",
         "lagenorhynchus_albirostris",
         "https://upload.wikimedia.org/wikipedia/commons/7/72/Witsnuitdolfijn_-_Lagenorhynchus_albirostris.jpg",
         "https://en.wikipedia.org/wiki/White-beaked_dolphin"
        ],
        [
         "38",
         "oceanic_dolphins",
         "Delphinidae",
         "Lagenorhynchus",
         "Peale's dolphin",
         "lagenorhynchus australis",
         "LC",
         "Unknown[k]",
         "1.0",
         "1.0",
         "0.0",
         "lagenorhynchus_australis",
         null,
         null
        ],
        [
         "39",
         "oceanic_dolphins",
         "Delphinidae",
         "Lagenorhynchus",
         "Hourglass dolphin",
         "lagenorhynchus cruciger",
         "LC",
         "140,000",
         "1.0",
         "1.0",
         "0.0",
         "lagenorhynchus_cruciger",
         null,
         null
        ],
        [
         "40",
         "oceanic_dolphins",
         "Delphinidae",
         "Lagenorhynchus",
         "Pacific white-sided dolphin",
         "lagenorhynchus obliquidens",
         "LC",
         "1,000,000",
         "1.0",
         "0.0",
         "0.0",
         "lagenorhynchus_obliquidens",
         null,
         null
        ],
        [
         "41",
         "oceanic_dolphins",
         "Delphinidae",
         "Lagenorhynchus",
         "Dusky dolphin",
         "lagenorhynchus obscurus",
         "LC",
         "Unknown",
         "1.0",
         "1.0",
         "0.0",
         "lagenorhynchus_obscurus",
         null,
         null
        ],
        [
         "42",
         "null",
         "null",
         "null",
         "null",
         "leucopleurus acutus",
         "null",
         "null",
         "0.0",
         "0.0",
         "1.0",
         "leucopleurus_acutus",
         "https://upload.wikimedia.org/wikipedia/commons/9/9a/Atlantic_white-sided_dolphin.jpg",
         "https://en.wikipedia.org/wiki/Atlantic_white-sided_dolphin"
        ],
        [
         "43",
         "baiji",
         "Lipotidae",
         "Lipotes",
         "Baiji",
         "lipotes vexillifer",
         "CR",
         "0–13[u]",
         "1.0",
         "0.0",
         "1.0",
         "lipotes_vexillifer",
         "https://upload.wikimedia.org/wikipedia/commons/5/5e/Lipotes_vexillifer.png",
         "https://en.wikipedia.org/wiki/Baiji"
        ],
        [
         "44",
         "oceanic_dolphins",
         "Delphinidae",
         "Lissodelphis",
         "Northern right whale dolphin",
         "lissodelphis borealis",
         "LC",
         "400,000[l]",
         "1.0",
         "1.0",
         "1.0",
         "lissodelphis_borealis",
         "https://upload.wikimedia.org/wikipedia/commons/thumb/2/2d/Anim1749_-_Flickr_-_NOAA_Photo_Library.jpg/1200px-Anim1749_-_Flickr_-_NOAA_Photo_Library.jpg",
         "https://en.wikipedia.org/wiki/Northern_right_whale_dolphin"
        ],
        [
         "45",
         "oceanic_dolphins",
         "Delphinidae",
         "Lissodelphis",
         "Southern right whale dolphin",
         "lissodelphis peronii",
         "LC",
         "Unknown[m]",
         "1.0",
         "1.0",
         "1.0",
         "lissodelphis_peronii",
         "https://upload.wikimedia.org/wikipedia/commons/thumb/6/69/Lissodelphis_peronii_1847.jpg/1200px-Lissodelphis_peronii_1847.jpg",
         "https://en.wikipedia.org/wiki/Southern_right_whale_dolphin"
        ],
        [
         "46",
         "rorquals",
         "Balaenopteridae",
         "Megaptera",
         "Humpback whale",
         "megaptera novaeangliae",
         "LC",
         "84,000",
         "1.0",
         "1.0",
         "1.0",
         "megaptera_novaeangliae",
         "https://upload.wikimedia.org/wikipedia/commons/6/61/Humpback_Whale_underwater_shot.jpg",
         "https://en.wikipedia.org/wiki/Humpback_whale"
        ],
        [
         "47",
         "beaked_whales",
         "Ziphiidae",
         "Mesoplodon",
         "Sowerby's beaked whale",
         "mesoplodon bidens",
         "LC",
         "Unknown",
         "1.0",
         "0.0",
         "1.0",
         "mesoplodon_bidens",
         "https://upload.wikimedia.org/wikipedia/commons/thumb/1/16/Mesoplodon_bidens_2.jpg/1200px-Mesoplodon_bidens_2.jpg",
         "https://en.wikipedia.org/wiki/Sowerby%27s_beaked_whale"
        ],
        [
         "48",
         "beaked_whales",
         "Ziphiidae",
         "Mesoplodon",
         "Andrews' beaked whale",
         "mesoplodon bowdoini",
         "DD",
         "Unknown",
         "1.0",
         "0.0",
         "1.0",
         "mesoplodon_bowdoini",
         "https://upload.wikimedia.org/wikipedia/commons/thumb/c/c4/Mesoplodon_bowdoini.jpg/1200px-Mesoplodon_bowdoini.jpg",
         "https://en.wikipedia.org/wiki/Andrews%27_beaked_whale"
        ],
        [
         "49",
         "beaked_whales",
         "Ziphiidae",
         "Mesoplodon",
         "Hubbs' beaked whale",
         "mesoplodon carlhubbsi",
         "DD",
         "Unknown",
         "1.0",
         "0.0",
         "1.0",
         "mesoplodon_carlhubbsi",
         "https://upload.wikimedia.org/wikipedia/commons/thumb/4/42/Mesoplodon_carlhubbsi.jpg/1200px-Mesoplodon_carlhubbsi.jpg",
         "https://en.wikipedia.org/wiki/Hubbs%27_beaked_whale"
        ]
       ],
       "shape": {
        "columns": 13,
        "rows": 100
       }
      },
      "text/html": [
       "<div>\n",
       "<style scoped>\n",
       "    .dataframe tbody tr th:only-of-type {\n",
       "        vertical-align: middle;\n",
       "    }\n",
       "\n",
       "    .dataframe tbody tr th {\n",
       "        vertical-align: top;\n",
       "    }\n",
       "\n",
       "    .dataframe thead th {\n",
       "        text-align: right;\n",
       "    }\n",
       "</style>\n",
       "<table border=\"1\" class=\"dataframe\">\n",
       "  <thead>\n",
       "    <tr style=\"text-align: right;\">\n",
       "      <th></th>\n",
       "      <th>Family_common</th>\n",
       "      <th>Family_Latin</th>\n",
       "      <th>Genus</th>\n",
       "      <th>Common name</th>\n",
       "      <th>Scientific name</th>\n",
       "      <th>IUCN Red List status</th>\n",
       "      <th>Global population estimate</th>\n",
       "      <th>wiki</th>\n",
       "      <th>map</th>\n",
       "      <th>tree</th>\n",
       "      <th>unique_id</th>\n",
       "      <th>Image URL</th>\n",
       "      <th>Wikipedia page URL</th>\n",
       "    </tr>\n",
       "  </thead>\n",
       "  <tbody>\n",
       "    <tr>\n",
       "      <th>0</th>\n",
       "      <td>right_whales</td>\n",
       "      <td>Balaenidae</td>\n",
       "      <td>Balaena</td>\n",
       "      <td>Bowhead whale</td>\n",
       "      <td>balaena mysticetus</td>\n",
       "      <td>LC</td>\n",
       "      <td>10,000</td>\n",
       "      <td>1.0</td>\n",
       "      <td>1.0</td>\n",
       "      <td>1.0</td>\n",
       "      <td>balaena_mysticetus</td>\n",
       "      <td>https://upload.wikimedia.org/wikipedia/commons...</td>\n",
       "      <td>https://en.wikipedia.org/wiki/Bowhead_whale</td>\n",
       "    </tr>\n",
       "    <tr>\n",
       "      <th>1</th>\n",
       "      <td>rorquals</td>\n",
       "      <td>Balaenopteridae</td>\n",
       "      <td>Balaenoptera</td>\n",
       "      <td>Common minke whale</td>\n",
       "      <td>balaenoptera acutorostrata</td>\n",
       "      <td>LC</td>\n",
       "      <td>200,000</td>\n",
       "      <td>1.0</td>\n",
       "      <td>1.0</td>\n",
       "      <td>1.0</td>\n",
       "      <td>balaenoptera_acutorostrata</td>\n",
       "      <td>https://upload.wikimedia.org/wikipedia/commons...</td>\n",
       "      <td>https://en.wikipedia.org/wiki/Common_minke_whale</td>\n",
       "    </tr>\n",
       "    <tr>\n",
       "      <th>2</th>\n",
       "      <td>rorquals</td>\n",
       "      <td>Balaenopteridae</td>\n",
       "      <td>Balaenoptera</td>\n",
       "      <td>Antarctic minke whale</td>\n",
       "      <td>balaenoptera bonaerensis</td>\n",
       "      <td>NT</td>\n",
       "      <td>515,000[18]</td>\n",
       "      <td>1.0</td>\n",
       "      <td>0.0</td>\n",
       "      <td>1.0</td>\n",
       "      <td>balaenoptera_bonaerensis</td>\n",
       "      <td>https://upload.wikimedia.org/wikipedia/commons...</td>\n",
       "      <td>https://en.wikipedia.org/wiki/Antarctic_minke_...</td>\n",
       "    </tr>\n",
       "    <tr>\n",
       "      <th>3</th>\n",
       "      <td>rorquals</td>\n",
       "      <td>Balaenopteridae</td>\n",
       "      <td>Balaenoptera</td>\n",
       "      <td>Sei whale</td>\n",
       "      <td>balaenoptera borealis</td>\n",
       "      <td>EN</td>\n",
       "      <td>80,000[17]</td>\n",
       "      <td>1.0</td>\n",
       "      <td>1.0</td>\n",
       "      <td>1.0</td>\n",
       "      <td>balaenoptera_borealis</td>\n",
       "      <td>https://upload.wikimedia.org/wikipedia/commons...</td>\n",
       "      <td>https://en.wikipedia.org/wiki/Sei_whale</td>\n",
       "    </tr>\n",
       "    <tr>\n",
       "      <th>4</th>\n",
       "      <td>rorquals</td>\n",
       "      <td>Balaenopteridae</td>\n",
       "      <td>Balaenoptera</td>\n",
       "      <td>Bryde's whale</td>\n",
       "      <td>balaenoptera brydei</td>\n",
       "      <td>LC</td>\n",
       "      <td>90,000–100,000</td>\n",
       "      <td>1.0</td>\n",
       "      <td>1.0</td>\n",
       "      <td>0.0</td>\n",
       "      <td>balaenoptera_brydei</td>\n",
       "      <td>NaN</td>\n",
       "      <td>NaN</td>\n",
       "    </tr>\n",
       "    <tr>\n",
       "      <th>...</th>\n",
       "      <td>...</td>\n",
       "      <td>...</td>\n",
       "      <td>...</td>\n",
       "      <td>...</td>\n",
       "      <td>...</td>\n",
       "      <td>...</td>\n",
       "      <td>...</td>\n",
       "      <td>...</td>\n",
       "      <td>...</td>\n",
       "      <td>...</td>\n",
       "      <td>...</td>\n",
       "      <td>...</td>\n",
       "      <td>...</td>\n",
       "    </tr>\n",
       "    <tr>\n",
       "      <th>95</th>\n",
       "      <td>beaked_whales</td>\n",
       "      <td>Ziphiidae</td>\n",
       "      <td>Tasmacetus</td>\n",
       "      <td>Shepherd's beaked whale</td>\n",
       "      <td>tasmacetus shepherdi</td>\n",
       "      <td>DD</td>\n",
       "      <td>Unknown[af]</td>\n",
       "      <td>1.0</td>\n",
       "      <td>0.0</td>\n",
       "      <td>1.0</td>\n",
       "      <td>tasmacetus_shepherdi</td>\n",
       "      <td>https://upload.wikimedia.org/wikipedia/commons...</td>\n",
       "      <td>https://en.wikipedia.org/wiki/Shepherd%27s_bea...</td>\n",
       "    </tr>\n",
       "    <tr>\n",
       "      <th>96</th>\n",
       "      <td>oceanic_dolphins</td>\n",
       "      <td>Delphinidae</td>\n",
       "      <td>Tursiops</td>\n",
       "      <td>Indo-Pacific bottlenose dolphin</td>\n",
       "      <td>tursiops aduncus</td>\n",
       "      <td>NT</td>\n",
       "      <td>Unknown</td>\n",
       "      <td>1.0</td>\n",
       "      <td>0.0</td>\n",
       "      <td>1.0</td>\n",
       "      <td>tursiops_aduncus</td>\n",
       "      <td>https://upload.wikimedia.org/wikipedia/commons...</td>\n",
       "      <td>https://en.wikipedia.org/wiki/Indo-Pacific_bot...</td>\n",
       "    </tr>\n",
       "    <tr>\n",
       "      <th>97</th>\n",
       "      <td>oceanic_dolphins</td>\n",
       "      <td>Delphinidae</td>\n",
       "      <td>Tursiops</td>\n",
       "      <td>Tamanend's bottlenose dolphin</td>\n",
       "      <td>tursiops erebennus</td>\n",
       "      <td>NE</td>\n",
       "      <td>Unknown</td>\n",
       "      <td>1.0</td>\n",
       "      <td>0.0</td>\n",
       "      <td>0.0</td>\n",
       "      <td>tursiops_erebennus</td>\n",
       "      <td>NaN</td>\n",
       "      <td>NaN</td>\n",
       "    </tr>\n",
       "    <tr>\n",
       "      <th>98</th>\n",
       "      <td>oceanic_dolphins</td>\n",
       "      <td>Delphinidae</td>\n",
       "      <td>Tursiops</td>\n",
       "      <td>Common bottlenose dolphin</td>\n",
       "      <td>tursiops truncatus</td>\n",
       "      <td>LC</td>\n",
       "      <td>600,000[22]</td>\n",
       "      <td>1.0</td>\n",
       "      <td>1.0</td>\n",
       "      <td>1.0</td>\n",
       "      <td>tursiops_truncatus</td>\n",
       "      <td>https://upload.wikimedia.org/wikipedia/commons...</td>\n",
       "      <td>https://en.wikipedia.org/wiki/Common_bottlenos...</td>\n",
       "    </tr>\n",
       "    <tr>\n",
       "      <th>99</th>\n",
       "      <td>beaked_whales</td>\n",
       "      <td>Ziphiidae</td>\n",
       "      <td>Ziphius</td>\n",
       "      <td>Cuvier's beaked whale</td>\n",
       "      <td>ziphius cavirostris</td>\n",
       "      <td>LC</td>\n",
       "      <td>100,000[ag]</td>\n",
       "      <td>1.0</td>\n",
       "      <td>1.0</td>\n",
       "      <td>1.0</td>\n",
       "      <td>ziphius_cavirostris</td>\n",
       "      <td>https://upload.wikimedia.org/wikipedia/commons...</td>\n",
       "      <td>https://en.wikipedia.org/wiki/Cuvier%27s_beake...</td>\n",
       "    </tr>\n",
       "  </tbody>\n",
       "</table>\n",
       "<p>100 rows × 13 columns</p>\n",
       "</div>"
      ],
      "text/plain": [
       "       Family_common     Family_Latin         Genus  \\\n",
       "0       right_whales       Balaenidae       Balaena   \n",
       "1           rorquals  Balaenopteridae  Balaenoptera   \n",
       "2           rorquals  Balaenopteridae  Balaenoptera   \n",
       "3           rorquals  Balaenopteridae  Balaenoptera   \n",
       "4           rorquals  Balaenopteridae  Balaenoptera   \n",
       "..               ...              ...           ...   \n",
       "95     beaked_whales        Ziphiidae    Tasmacetus   \n",
       "96  oceanic_dolphins      Delphinidae      Tursiops   \n",
       "97  oceanic_dolphins      Delphinidae      Tursiops   \n",
       "98  oceanic_dolphins      Delphinidae      Tursiops   \n",
       "99     beaked_whales        Ziphiidae       Ziphius   \n",
       "\n",
       "                        Common name             Scientific name  \\\n",
       "0                     Bowhead whale          balaena mysticetus   \n",
       "1                Common minke whale  balaenoptera acutorostrata   \n",
       "2             Antarctic minke whale    balaenoptera bonaerensis   \n",
       "3                         Sei whale       balaenoptera borealis   \n",
       "4                     Bryde's whale         balaenoptera brydei   \n",
       "..                              ...                         ...   \n",
       "95          Shepherd's beaked whale        tasmacetus shepherdi   \n",
       "96  Indo-Pacific bottlenose dolphin            tursiops aduncus   \n",
       "97    Tamanend's bottlenose dolphin          tursiops erebennus   \n",
       "98        Common bottlenose dolphin          tursiops truncatus   \n",
       "99            Cuvier's beaked whale         ziphius cavirostris   \n",
       "\n",
       "   IUCN Red List status Global population estimate  wiki  map  tree  \\\n",
       "0                    LC                     10,000   1.0  1.0   1.0   \n",
       "1                    LC                    200,000   1.0  1.0   1.0   \n",
       "2                    NT                515,000[18]   1.0  0.0   1.0   \n",
       "3                    EN                 80,000[17]   1.0  1.0   1.0   \n",
       "4                    LC             90,000–100,000   1.0  1.0   0.0   \n",
       "..                  ...                        ...   ...  ...   ...   \n",
       "95                   DD                Unknown[af]   1.0  0.0   1.0   \n",
       "96                   NT                    Unknown   1.0  0.0   1.0   \n",
       "97                   NE                    Unknown   1.0  0.0   0.0   \n",
       "98                   LC                600,000[22]   1.0  1.0   1.0   \n",
       "99                   LC                100,000[ag]   1.0  1.0   1.0   \n",
       "\n",
       "                     unique_id  \\\n",
       "0           balaena_mysticetus   \n",
       "1   balaenoptera_acutorostrata   \n",
       "2     balaenoptera_bonaerensis   \n",
       "3        balaenoptera_borealis   \n",
       "4          balaenoptera_brydei   \n",
       "..                         ...   \n",
       "95        tasmacetus_shepherdi   \n",
       "96            tursiops_aduncus   \n",
       "97          tursiops_erebennus   \n",
       "98          tursiops_truncatus   \n",
       "99         ziphius_cavirostris   \n",
       "\n",
       "                                            Image URL  \\\n",
       "0   https://upload.wikimedia.org/wikipedia/commons...   \n",
       "1   https://upload.wikimedia.org/wikipedia/commons...   \n",
       "2   https://upload.wikimedia.org/wikipedia/commons...   \n",
       "3   https://upload.wikimedia.org/wikipedia/commons...   \n",
       "4                                                 NaN   \n",
       "..                                                ...   \n",
       "95  https://upload.wikimedia.org/wikipedia/commons...   \n",
       "96  https://upload.wikimedia.org/wikipedia/commons...   \n",
       "97                                                NaN   \n",
       "98  https://upload.wikimedia.org/wikipedia/commons...   \n",
       "99  https://upload.wikimedia.org/wikipedia/commons...   \n",
       "\n",
       "                                   Wikipedia page URL  \n",
       "0         https://en.wikipedia.org/wiki/Bowhead_whale  \n",
       "1    https://en.wikipedia.org/wiki/Common_minke_whale  \n",
       "2   https://en.wikipedia.org/wiki/Antarctic_minke_...  \n",
       "3             https://en.wikipedia.org/wiki/Sei_whale  \n",
       "4                                                 NaN  \n",
       "..                                                ...  \n",
       "95  https://en.wikipedia.org/wiki/Shepherd%27s_bea...  \n",
       "96  https://en.wikipedia.org/wiki/Indo-Pacific_bot...  \n",
       "97                                                NaN  \n",
       "98  https://en.wikipedia.org/wiki/Common_bottlenos...  \n",
       "99  https://en.wikipedia.org/wiki/Cuvier%27s_beake...  \n",
       "\n",
       "[100 rows x 13 columns]"
      ]
     },
     "metadata": {},
     "output_type": "display_data"
    }
   ],
   "source": [
    "merged_tree_images = tree_images.merge(tree_wiki_pages, on=\"Common name\", how=\"left\").drop(\"Common name\", axis=1)\n",
    "merged_df_with_images = merged_df.merge(merged_tree_images, on=\"Scientific name\", how=\"left\")\n",
    "display(merged_df_with_images)"
   ]
  },
  {
   "cell_type": "code",
   "execution_count": 31,
   "id": "7eb28e34",
   "metadata": {},
   "outputs": [],
   "source": [
    "missing_articles = merged_df_with_images[merged_df_with_images[\"Wikipedia page URL\"].isna()]\n",
    "missing_articles = missing_articles[[\"Scientific name\", \"Common name\"]].copy()"
   ]
  },
  {
   "cell_type": "code",
   "execution_count": 22,
   "id": "5764b30a",
   "metadata": {},
   "outputs": [],
   "source": [
    "%load_ext autoreload\n",
    "%autoreload 2"
   ]
  },
  {
   "cell_type": "code",
   "execution_count": 34,
   "id": "e95de70f",
   "metadata": {},
   "outputs": [
    {
     "name": "stderr",
     "output_type": "stream",
     "text": [
      "Searching Wikipedia pages: 25 names [00:09,  2.62 names/s]\n",
      "Scraping Wikipedia images: 25pages [00:03,  7.23pages/s]"
     ]
    },
    {
     "name": "stdout",
     "output_type": "stream",
     "text": [
      "All done!\n"
     ]
    },
    {
     "name": "stderr",
     "output_type": "stream",
     "text": [
      "\n"
     ]
    }
   ],
   "source": [
    "from docs.notebooks.image_url_scrapper import WikiImageScrapper\n",
    "\n",
    "wiki_scrapper = WikiImageScrapper(missing_articles)\n",
    "wiki_scrapper.get_wiki_urls_from_names()\n",
    "wiki_scrapper.scrap_image_URLs()\n",
    "scrapped_images_urls_df = wiki_scrapper.wiki_urls_df[[\"Scientific name\", \"Image URL\"]]"
   ]
  },
  {
   "cell_type": "code",
   "execution_count": 42,
   "id": "52e0a879",
   "metadata": {},
   "outputs": [
    {
     "data": {
      "application/vnd.microsoft.datawrangler.viewer.v0+json": {
       "columns": [
        {
         "name": "index",
         "rawType": "int64",
         "type": "integer"
        },
        {
         "name": "Image URL",
         "rawType": "object",
         "type": "string"
        },
        {
         "name": "Scientific name",
         "rawType": "object",
         "type": "string"
        },
        {
         "name": "Wikipedia page URL",
         "rawType": "object",
         "type": "string"
        }
       ],
       "ref": "fa83b9f6-4007-4282-a3f7-7fd3df0bbd0c",
       "rows": [
        [
         "0",
         "https://upload.wikimedia.org/wikipedia/commons/a/aa/Clymenes.jpg",
         "stenella clymene",
         "https://en.wikipedia.org/wiki/Clymene_dolphin"
        ],
        [
         "1",
         "https://upload.wikimedia.org/wikipedia/commons/thumb/6/64/A_spinner_dolphin_in_the_Red_Sea.jpg/1200px-A_spinner_dolphin_in_the_Red_Sea.jpg",
         "stenella longirostris",
         "https://en.wikipedia.org/wiki/Spinner_dolphin"
        ],
        [
         "2",
         "https://upload.wikimedia.org/wikipedia/commons/2/2b/Frazer%C2%B4s_dolphin_group.jpg",
         "lagenodelphis hosei",
         "https://en.wikipedia.org/wiki/Fraser%27s_dolphin"
        ],
        [
         "3",
         "https://upload.wikimedia.org/wikipedia/commons/thumb/7/74/Common_dolphin_noaa.jpg/1200px-Common_dolphin_noaa.jpg",
         "delphinus delphis",
         "https://en.wikipedia.org/wiki/Common_dolphin"
        ],
        [
         "4",
         "https://upload.wikimedia.org/wikipedia/commons/thumb/4/4f/Stenella_coeruleoalba_Ligurian_Sea_02_-_brighter.jpg/1200px-Stenella_coeruleoalba_Ligurian_Sea_02_-_brighter.jpg",
         "stenella coeruleoalba",
         "https://en.wikipedia.org/wiki/Striped_dolphin"
        ],
        [
         "5",
         "https://upload.wikimedia.org/wikipedia/commons/thumb/0/06/Pantropical_spotted_dolphin_swimming_off_the_coast_of_Costa_Rica.jpg/1200px-Pantropical_spotted_dolphin_swimming_off_the_coast_of_Costa_Rica.jpg",
         "stenella attenuata",
         "https://en.wikipedia.org/wiki/Pantropical_spotted_dolphin"
        ],
        [
         "6",
         "https://upload.wikimedia.org/wikipedia/commons/thumb/9/9f/Atlantic_spotted_dolphin_%28Stenella_frontalis%29_NOAA.jpg/1200px-Atlantic_spotted_dolphin_%28Stenella_frontalis%29_NOAA.jpg",
         "stenella frontalis",
         "https://en.wikipedia.org/wiki/Atlantic_spotted_dolphin"
        ],
        [
         "7",
         "https://upload.wikimedia.org/wikipedia/commons/thumb/b/bc/Tursiops_truncatus_01-cropped.jpg/1200px-Tursiops_truncatus_01-cropped.jpg",
         "tursiops truncatus",
         "https://en.wikipedia.org/wiki/Common_bottlenose_dolphin"
        ],
        [
         "8",
         "https://upload.wikimedia.org/wikipedia/commons/8/87/Tursiops_aduncus%2C_Port_River%2C_Adelaide%2C_Australia_-_2003.jpg",
         "tursiops aduncus",
         "https://en.wikipedia.org/wiki/Indo-Pacific_bottlenose_dolphin"
        ],
        [
         "9",
         "https://upload.wikimedia.org/wikipedia/commons/thumb/5/55/Pink_Dolphin.JPG/1200px-Pink_Dolphin.JPG",
         "sousa chinensis",
         "https://en.wikipedia.org/wiki/Indo-Pacific_humpback_dolphin"
        ],
        [
         "10",
         "https://upload.wikimedia.org/wikipedia/commons/a/a6/Descri%C3%A7%C3%A3o_in%C3%ADcio_ou_comportamento.jpg",
         "sotalia guianensis",
         "https://en.wikipedia.org/wiki/Guiana_dolphin"
        ],
        [
         "11",
         "https://upload.wikimedia.org/wikipedia/commons/thumb/d/d5/Globicephala_macrorhynchus_Kurzflossen-Grindwal_DSCF8148.JPG/1200px-Globicephala_macrorhynchus_Kurzflossen-Grindwal_DSCF8148.JPG",
         "globicephala macrorhynchus",
         "https://en.wikipedia.org/wiki/Short-finned_pilot_whale"
        ],
        [
         "12",
         "https://upload.wikimedia.org/wikipedia/commons/thumb/8/85/Pilot_Whale_-_Flickr_-_gailhampshire.jpg/1200px-Pilot_Whale_-_Flickr_-_gailhampshire.jpg",
         "globicephala melas",
         "https://en.wikipedia.org/wiki/Long-finned_pilot_whale"
        ],
        [
         "13",
         "https://upload.wikimedia.org/wikipedia/commons/thumb/b/ba/Pygmy_killer_whales_%28Feresa_attenuata%29_off_of_Guam_%28anim252384854%29.jpg/1200px-Pygmy_killer_whales_%28Feresa_attenuata%29_off_of_Guam_%28anim252384854%29.jpg",
         "feresa attenuata",
         "https://en.wikipedia.org/wiki/Pygmy_killer_whale"
        ],
        [
         "14",
         "https://upload.wikimedia.org/wikipedia/commons/thumb/4/4e/Peponocephala_electra_Mayotte.jpg/1200px-Peponocephala_electra_Mayotte.jpg",
         "peponocephala electra",
         "https://en.wikipedia.org/wiki/Melon-headed_whale"
        ],
        [
         "15",
         "https://upload.wikimedia.org/wikipedia/commons/thumb/9/99/Pseudoorca_Crassidens_-_False_Killer_Whale.jpg/1200px-Pseudoorca_Crassidens_-_False_Killer_Whale.jpg",
         "pseudorca crassidens",
         "https://en.wikipedia.org/wiki/False_killer_whale"
        ],
        [
         "16",
         "https://upload.wikimedia.org/wikipedia/commons/9/93/Grampo.jpg",
         "grampus griseus",
         "https://en.wikipedia.org/wiki/Risso%27s_dolphin"
        ],
        [
         "17",
         "https://upload.wikimedia.org/wikipedia/commons/2/26/Rough_toothed_dolphin.jpg",
         "steno bredanensis",
         "https://en.wikipedia.org/wiki/Rough-toothed_dolphin"
        ],
        [
         "18",
         "https://upload.wikimedia.org/wikipedia/commons/a/ae/Irrawaddy_dolphin-Orcaella_brevirostris_by_2eight.jpg",
         "orcaella brevirostris",
         "https://en.wikipedia.org/wiki/Irrawaddy_dolphin"
        ],
        [
         "19",
         "https://upload.wikimedia.org/wikipedia/commons/3/3f/Snubfin-3.jpg",
         "orcaella heinsohni",
         "https://en.wikipedia.org/wiki/Australian_snubfin_dolphin"
        ],
        [
         "20",
         "https://upload.wikimedia.org/wikipedia/commons/thumb/6/6e/Dolphins_at_L%C3%BCderitz%2C_Namibia_%283144863196%29.jpg/1200px-Dolphins_at_L%C3%BCderitz%2C_Namibia_%283144863196%29.jpg",
         "cephalorhynchus heavisidii",
         "https://en.wikipedia.org/wiki/Heaviside%27s_dolphin"
        ],
        [
         "21",
         "https://upload.wikimedia.org/wikipedia/commons/thumb/4/49/Peale%27s_dolphin_%28Sagmatias_australis%29_off_the_coast_of_Calbuco%2C_Chile_%28380921709%29.jpg/1200px-Peale%27s_dolphin_%28Sagmatias_australis%29_off_the_coast_of_Calbuco%2C_Chile_%28380921709%29.jpg",
         "sagmatias australis",
         "https://en.wikipedia.org/wiki/Peale%27s_dolphin"
        ],
        [
         "22",
         "https://upload.wikimedia.org/wikipedia/commons/a/a1/Tonina1_%282731842634%29.jpg",
         "cephalorhynchus commersonii",
         "https://en.wikipedia.org/wiki/Commerson%27s_dolphin"
        ],
        [
         "23",
         "https://upload.wikimedia.org/wikipedia/commons/1/13/DuskyDolphin.jpg",
         "sagmatias obscurus",
         "https://en.wikipedia.org/wiki/Dusky_dolphin"
        ],
        [
         "24",
         "https://upload.wikimedia.org/wikipedia/commons/f/f1/Pacific_white-sided_dolphins_%28Lagenorhynchus_obliquidens%29_NOAA.jpg",
         "sagmatias obliquidens",
         "https://en.wikipedia.org/wiki/Pacific_white-sided_dolphin"
        ],
        [
         "25",
         "https://upload.wikimedia.org/wikipedia/commons/thumb/2/2d/Anim1749_-_Flickr_-_NOAA_Photo_Library.jpg/1200px-Anim1749_-_Flickr_-_NOAA_Photo_Library.jpg",
         "lissodelphis borealis",
         "https://en.wikipedia.org/wiki/Northern_right_whale_dolphin"
        ],
        [
         "26",
         "https://upload.wikimedia.org/wikipedia/commons/thumb/6/69/Lissodelphis_peronii_1847.jpg/1200px-Lissodelphis_peronii_1847.jpg",
         "lissodelphis peronii",
         "https://en.wikipedia.org/wiki/Southern_right_whale_dolphin"
        ],
        [
         "27",
         "https://upload.wikimedia.org/wikipedia/commons/7/72/Witsnuitdolfijn_-_Lagenorhynchus_albirostris.jpg",
         "lagenorhynchus albirostris",
         "https://en.wikipedia.org/wiki/White-beaked_dolphin"
        ],
        [
         "28",
         "https://upload.wikimedia.org/wikipedia/commons/thumb/3/37/Killerwhales_jumping.jpg/1200px-Killerwhales_jumping.jpg",
         "orcinus orca",
         "https://en.wikipedia.org/wiki/Orca"
        ],
        [
         "29",
         "https://upload.wikimedia.org/wikipedia/commons/9/9a/Atlantic_white-sided_dolphin.jpg",
         "leucopleurus acutus",
         "https://en.wikipedia.org/wiki/Atlantic_white-sided_dolphin"
        ],
        [
         "30",
         "https://upload.wikimedia.org/wikipedia/commons/c/c4/Subadult_female_spectacled_porpoise.png",
         "phocoena dioptrica",
         "https://en.wikipedia.org/wiki/Spectacled_porpoise"
        ],
        [
         "31",
         "https://upload.wikimedia.org/wikipedia/commons/1/1c/Burmeister%27s_porpoise_-_Phocoena_spinipinnis_-_2022-02-24.png",
         "phocoena spinipinnis",
         "https://en.wikipedia.org/wiki/Burmeister%27s_porpoise"
        ],
        [
         "32",
         "https://upload.wikimedia.org/wikipedia/commons/thumb/0/0e/Ecomare_-_bruinvis_Michael_in_2015_%28bruinvis-michael2015-9313-sw%29.jpg/1200px-Ecomare_-_bruinvis_Michael_in_2015_%28bruinvis-michael2015-9313-sw%29.jpg",
         "phocoena phocoena",
         "https://en.wikipedia.org/wiki/Harbour_porpoise"
        ],
        [
         "33",
         "https://upload.wikimedia.org/wikipedia/commons/thumb/d/db/Phocoenoides_dalli_%28Dall%27s_porpoise%29.jpg/1200px-Phocoenoides_dalli_%28Dall%27s_porpoise%29.jpg",
         "phocoenoides dalli",
         "https://en.wikipedia.org/wiki/Dall%27s_porpoise"
        ],
        [
         "34",
         "https://upload.wikimedia.org/wikipedia/commons/c/c6/Stamps_of_Indonesia%2C_040-05.jpg",
         "neophocaena phocaenoides",
         "https://en.wikipedia.org/wiki/Indo-Pacific_finless_porpoise"
        ],
        [
         "35",
         "https://upload.wikimedia.org/wikipedia/commons/thumb/e/e8/Oceanogr%C3%A0fic_29102004.jpg/1200px-Oceanogr%C3%A0fic_29102004.jpg",
         "delphinapterus leucas",
         "https://en.wikipedia.org/wiki/Beluga_whale"
        ],
        [
         "36",
         "https://upload.wikimedia.org/wikipedia/commons/thumb/b/bc/%D0%9D%D0%B0%D1%80%D0%B2%D0%B0%D0%BB_%D0%B2_%D1%80%D0%BE%D1%81%D1%81%D0%B8%D0%B9%D1%81%D0%BA%D0%BE%D0%B9_%D0%90%D1%80%D0%BA%D1%82%D0%B8%D0%BA%D0%B5.jpg/1200px-%D0%9D%D0%B0%D1%80%D0%B2%D0%B0%D0%BB_%D0%B2_%D1%80%D0%BE%D1%81%D1%81%D0%B8%D0%B9%D1%81%D0%BA%D0%BE%D0%B9_%D0%90%D1%80%D0%BA%D1%82%D0%B8%D0%BA%D0%B5.jpg",
         "monodon monoceros",
         "https://en.wikipedia.org/wiki/Narwhal"
        ],
        [
         "37",
         "https://upload.wikimedia.org/wikipedia/commons/thumb/5/5a/Pontoporia_blainvillei_296896096.jpg/1200px-Pontoporia_blainvillei_296896096.jpg",
         "pontoporia blainvillei",
         "https://en.wikipedia.org/wiki/La_Plata_dolphin"
        ],
        [
         "38",
         "https://upload.wikimedia.org/wikipedia/commons/thumb/9/99/Amazonas-Flussdelfin_Orinoko3.jpg/1200px-Amazonas-Flussdelfin_Orinoko3.jpg",
         "inia geoffrensis",
         "https://en.wikipedia.org/wiki/Amazon_river_dolphin"
        ],
        [
         "39",
         "https://upload.wikimedia.org/wikipedia/commons/5/5e/Lipotes_vexillifer.png",
         "lipotes vexillifer",
         "https://en.wikipedia.org/wiki/Baiji"
        ],
        [
         "40",
         "https://upload.wikimedia.org/wikipedia/commons/thumb/e/ed/Mesoplodon_perrini.jpg/1200px-Mesoplodon_perrini.jpg",
         "mesoplodon perrini",
         "https://en.wikipedia.org/wiki/Perrin%27s_beaked_whale"
        ],
        [
         "41",
         "https://upload.wikimedia.org/wikipedia/commons/9/93/Mesoplodon_peruvianus.jpg",
         "mesoplodon peruvianus",
         "https://en.wikipedia.org/wiki/Pygmy_beaked_whale"
        ],
        [
         "42",
         "https://upload.wikimedia.org/wikipedia/commons/b/b9/Mesoplodon_densirostris.jpg",
         "mesoplodon densirostris",
         "https://en.wikipedia.org/wiki/Blainville%27s_beaked_whale"
        ],
        [
         "43",
         "https://upload.wikimedia.org/wikipedia/commons/thumb/2/26/Mesoplodon_stejnegeri.jpg/1200px-Mesoplodon_stejnegeri.jpg",
         "mesoplodon stejnegeri",
         "https://en.wikipedia.org/wiki/Stejneger%27s_beaked_whale"
        ],
        [
         "44",
         "https://upload.wikimedia.org/wikipedia/commons/6/6a/Mesoplodon_grayi_2.jpg",
         "mesoplodon grayi",
         "https://en.wikipedia.org/wiki/Gray%27s_beaked_whale"
        ],
        [
         "45",
         "https://upload.wikimedia.org/wikipedia/commons/b/b5/Mesoplodon_hectori.jpg",
         "mesoplodon hectori",
         "https://en.wikipedia.org/wiki/Hector%27s_beaked_whale"
        ],
        [
         "46",
         "https://upload.wikimedia.org/wikipedia/commons/thumb/c/c4/Mesoplodon_bowdoini.jpg/1200px-Mesoplodon_bowdoini.jpg",
         "mesoplodon bowdoini",
         "https://en.wikipedia.org/wiki/Andrews%27_beaked_whale"
        ],
        [
         "47",
         "https://upload.wikimedia.org/wikipedia/commons/thumb/4/42/Mesoplodon_carlhubbsi.jpg/1200px-Mesoplodon_carlhubbsi.jpg",
         "mesoplodon carlhubbsi",
         "https://en.wikipedia.org/wiki/Hubbs%27_beaked_whale"
        ],
        [
         "48",
         "https://upload.wikimedia.org/wikipedia/commons/thumb/8/8a/Mesoplodon_layardii.jpg/1200px-Mesoplodon_layardii.jpg",
         "mesoplodon layardii",
         "https://en.wikipedia.org/wiki/Strap-toothed_whale"
        ],
        [
         "49",
         "https://upload.wikimedia.org/wikipedia/commons/thumb/1/14/The_True%27s_beaked_whale_photographed_underwater.jpg/1200px-The_True%27s_beaked_whale_photographed_underwater.jpg",
         "mesoplodon mirus",
         "https://en.wikipedia.org/wiki/True%27s_beaked_whale"
        ]
       ],
       "shape": {
        "columns": 3,
        "rows": 75
       }
      },
      "text/html": [
       "<div>\n",
       "<style scoped>\n",
       "    .dataframe tbody tr th:only-of-type {\n",
       "        vertical-align: middle;\n",
       "    }\n",
       "\n",
       "    .dataframe tbody tr th {\n",
       "        vertical-align: top;\n",
       "    }\n",
       "\n",
       "    .dataframe thead th {\n",
       "        text-align: right;\n",
       "    }\n",
       "</style>\n",
       "<table border=\"1\" class=\"dataframe\">\n",
       "  <thead>\n",
       "    <tr style=\"text-align: right;\">\n",
       "      <th></th>\n",
       "      <th>Image URL</th>\n",
       "      <th>Scientific name</th>\n",
       "      <th>Wikipedia page URL</th>\n",
       "    </tr>\n",
       "  </thead>\n",
       "  <tbody>\n",
       "    <tr>\n",
       "      <th>0</th>\n",
       "      <td>https://upload.wikimedia.org/wikipedia/commons...</td>\n",
       "      <td>stenella clymene</td>\n",
       "      <td>https://en.wikipedia.org/wiki/Clymene_dolphin</td>\n",
       "    </tr>\n",
       "    <tr>\n",
       "      <th>1</th>\n",
       "      <td>https://upload.wikimedia.org/wikipedia/commons...</td>\n",
       "      <td>stenella longirostris</td>\n",
       "      <td>https://en.wikipedia.org/wiki/Spinner_dolphin</td>\n",
       "    </tr>\n",
       "    <tr>\n",
       "      <th>2</th>\n",
       "      <td>https://upload.wikimedia.org/wikipedia/commons...</td>\n",
       "      <td>lagenodelphis hosei</td>\n",
       "      <td>https://en.wikipedia.org/wiki/Fraser%27s_dolphin</td>\n",
       "    </tr>\n",
       "    <tr>\n",
       "      <th>3</th>\n",
       "      <td>https://upload.wikimedia.org/wikipedia/commons...</td>\n",
       "      <td>delphinus delphis</td>\n",
       "      <td>https://en.wikipedia.org/wiki/Common_dolphin</td>\n",
       "    </tr>\n",
       "    <tr>\n",
       "      <th>4</th>\n",
       "      <td>https://upload.wikimedia.org/wikipedia/commons...</td>\n",
       "      <td>stenella coeruleoalba</td>\n",
       "      <td>https://en.wikipedia.org/wiki/Striped_dolphin</td>\n",
       "    </tr>\n",
       "    <tr>\n",
       "      <th>...</th>\n",
       "      <td>...</td>\n",
       "      <td>...</td>\n",
       "      <td>...</td>\n",
       "    </tr>\n",
       "    <tr>\n",
       "      <th>70</th>\n",
       "      <td>https://upload.wikimedia.org/wikipedia/commons...</td>\n",
       "      <td>caperea marginata</td>\n",
       "      <td>https://en.wikipedia.org/wiki/Pygmy_right_whale</td>\n",
       "    </tr>\n",
       "    <tr>\n",
       "      <th>71</th>\n",
       "      <td>https://upload.wikimedia.org/wikipedia/commons...</td>\n",
       "      <td>eubalaena glacialis</td>\n",
       "      <td>https://en.wikipedia.org/wiki/North_Atlantic_r...</td>\n",
       "    </tr>\n",
       "    <tr>\n",
       "      <th>72</th>\n",
       "      <td>https://upload.wikimedia.org/wikipedia/commons...</td>\n",
       "      <td>eubalaena japonica</td>\n",
       "      <td>https://en.wikipedia.org/wiki/North_Pacific_ri...</td>\n",
       "    </tr>\n",
       "    <tr>\n",
       "      <th>73</th>\n",
       "      <td>https://upload.wikimedia.org/wikipedia/commons...</td>\n",
       "      <td>eubalaena australis</td>\n",
       "      <td>https://en.wikipedia.org/wiki/Southern_right_w...</td>\n",
       "    </tr>\n",
       "    <tr>\n",
       "      <th>74</th>\n",
       "      <td>https://upload.wikimedia.org/wikipedia/commons...</td>\n",
       "      <td>balaena mysticetus</td>\n",
       "      <td>https://en.wikipedia.org/wiki/Bowhead_whale</td>\n",
       "    </tr>\n",
       "  </tbody>\n",
       "</table>\n",
       "<p>75 rows × 3 columns</p>\n",
       "</div>"
      ],
      "text/plain": [
       "                                            Image URL        Scientific name  \\\n",
       "0   https://upload.wikimedia.org/wikipedia/commons...       stenella clymene   \n",
       "1   https://upload.wikimedia.org/wikipedia/commons...  stenella longirostris   \n",
       "2   https://upload.wikimedia.org/wikipedia/commons...    lagenodelphis hosei   \n",
       "3   https://upload.wikimedia.org/wikipedia/commons...      delphinus delphis   \n",
       "4   https://upload.wikimedia.org/wikipedia/commons...  stenella coeruleoalba   \n",
       "..                                                ...                    ...   \n",
       "70  https://upload.wikimedia.org/wikipedia/commons...      caperea marginata   \n",
       "71  https://upload.wikimedia.org/wikipedia/commons...    eubalaena glacialis   \n",
       "72  https://upload.wikimedia.org/wikipedia/commons...     eubalaena japonica   \n",
       "73  https://upload.wikimedia.org/wikipedia/commons...    eubalaena australis   \n",
       "74  https://upload.wikimedia.org/wikipedia/commons...     balaena mysticetus   \n",
       "\n",
       "                                   Wikipedia page URL  \n",
       "0       https://en.wikipedia.org/wiki/Clymene_dolphin  \n",
       "1       https://en.wikipedia.org/wiki/Spinner_dolphin  \n",
       "2    https://en.wikipedia.org/wiki/Fraser%27s_dolphin  \n",
       "3        https://en.wikipedia.org/wiki/Common_dolphin  \n",
       "4       https://en.wikipedia.org/wiki/Striped_dolphin  \n",
       "..                                                ...  \n",
       "70    https://en.wikipedia.org/wiki/Pygmy_right_whale  \n",
       "71  https://en.wikipedia.org/wiki/North_Atlantic_r...  \n",
       "72  https://en.wikipedia.org/wiki/North_Pacific_ri...  \n",
       "73  https://en.wikipedia.org/wiki/Southern_right_w...  \n",
       "74        https://en.wikipedia.org/wiki/Bowhead_whale  \n",
       "\n",
       "[75 rows x 3 columns]"
      ]
     },
     "execution_count": 42,
     "metadata": {},
     "output_type": "execute_result"
    }
   ],
   "source": [
    "merged_tree_images"
   ]
  },
  {
   "cell_type": "code",
   "execution_count": 43,
   "id": "33b666af",
   "metadata": {},
   "outputs": [
    {
     "data": {
      "application/vnd.microsoft.datawrangler.viewer.v0+json": {
       "columns": [
        {
         "name": "index",
         "rawType": "int64",
         "type": "integer"
        },
        {
         "name": "Scientific name",
         "rawType": "object",
         "type": "string"
        },
        {
         "name": "Image URL",
         "rawType": "object",
         "type": "string"
        }
       ],
       "ref": "d0d1733c-4a30-4004-a3c0-8fc95e91123f",
       "rows": [
        [
         "0",
         "balaenoptera brydei",
         "https://upload.wikimedia.org/wikipedia/commons/3/35/Balaenoptera_brydei.jpg"
        ],
        [
         "1",
         "balaenoptera omurai",
         "https://upload.wikimedia.org/wikipedia/commons/thumb/5/5d/Balaenoptera_omurai%2C_Madagascar_-_Royal_Society_Open_Science_1.jpg/1200px-Balaenoptera_omurai%2C_Madagascar_-_Royal_Society_Open_Science_1.jpg"
        ],
        [
         "2",
         "balaenoptera ricei",
         "https://upload.wikimedia.org/wikipedia/commons/e/ec/SEFSC-PAM-Rices-whale.png"
        ],
        [
         "3",
         "berardius minimus",
         "https://upload.wikimedia.org/wikipedia/commons/b/b1/Arnoux%27s_beaked_whale.jpg"
        ],
        [
         "4",
         "cephalorhynchus eutropia",
         "https://upload.wikimedia.org/wikipedia/commons/thumb/e/eb/Black_dolphins_around_isla_gordon.jpg/1200px-Black_dolphins_around_isla_gordon.jpg"
        ],
        [
         "5",
         "cephalorhynchus hectori",
         "https://upload.wikimedia.org/wikipedia/commons/thumb/b/be/Hector%27s_Dolphins_at_Porpoise_Bay_1999_a_cropped.jpg/1200px-Hector%27s_Dolphins_at_Porpoise_Bay_1999_a_cropped.jpg"
        ],
        [
         "6",
         "indopacetus pacificus",
         "https://upload.wikimedia.org/wikipedia/commons/thumb/2/2a/Indopacetus_pacificus_2.jpg/1200px-Indopacetus_pacificus_2.jpg"
        ],
        [
         "7",
         "inia araguaiaensis",
         "https://upload.wikimedia.org/wikipedia/commons/thumb/2/25/Inia_range_map_PLoS_ONE.jpg/1200px-Inia_range_map_PLoS_ONE.jpg"
        ],
        [
         "8",
         "lagenorhynchus acutus",
         "https://upload.wikimedia.org/wikipedia/commons/9/9a/Atlantic_white-sided_dolphin.jpg"
        ],
        [
         "9",
         "lagenorhynchus australis",
         "https://upload.wikimedia.org/wikipedia/commons/thumb/4/49/Peale%27s_dolphin_%28Sagmatias_australis%29_off_the_coast_of_Calbuco%2C_Chile_%28380921709%29.jpg/1200px-Peale%27s_dolphin_%28Sagmatias_australis%29_off_the_coast_of_Calbuco%2C_Chile_%28380921709%29.jpg"
        ],
        [
         "10",
         "lagenorhynchus cruciger",
         "https://upload.wikimedia.org/wikipedia/commons/thumb/5/5f/Hourglas_dolphin.jpg/1200px-Hourglas_dolphin.jpg"
        ],
        [
         "11",
         "lagenorhynchus obliquidens",
         "https://upload.wikimedia.org/wikipedia/commons/f/f1/Pacific_white-sided_dolphins_%28Lagenorhynchus_obliquidens%29_NOAA.jpg"
        ],
        [
         "12",
         "lagenorhynchus obscurus",
         "https://upload.wikimedia.org/wikipedia/commons/1/13/DuskyDolphin.jpg"
        ],
        [
         "13",
         "mesoplodon eueu",
         "https://upload.wikimedia.org/wikipedia/commons/thumb/e/ea/M._mirus_%26_M._eueu_distribution.jpg/1200px-M._mirus_%26_M._eueu_distribution.jpg"
        ],
        [
         "14",
         "mesoplodon hotaula",
         "https://upload.wikimedia.org/wikipedia/commons/e/eb/Faroe_stamp_197_Mesoplodon_bidens.jpg"
        ],
        [
         "15",
         "mesoplodon traversii",
         "https://upload.wikimedia.org/wikipedia/commons/a/ad/Spade-toothedWhale.jpg"
        ],
        [
         "16",
         "neophocaena asiaeorientalis",
         "https://upload.wikimedia.org/wikipedia/commons/thumb/d/dc/Yangtze_finless_porpoise%2C_10_November_2006.jpg/1200px-Yangtze_finless_porpoise%2C_10_November_2006.jpg"
        ],
        [
         "17",
         "phocoena sinus",
         "https://upload.wikimedia.org/wikipedia/commons/thumb/2/25/Vaquita_size.svg/1200px-Vaquita_size.svg.png"
        ],
        [
         "18",
         "platanista gangetica",
         "https://upload.wikimedia.org/wikipedia/commons/8/81/Ganges_River_Dolphin_cropped.jpg"
        ],
        [
         "19",
         "platanista minor",
         "https://upload.wikimedia.org/wikipedia/commons/6/67/A-Platanista-gangetica-showing-the-body-shape-and-especially-the-head-with-a-long-beak.png"
        ],
        [
         "20",
         "sotalia fluviatilis",
         "https://upload.wikimedia.org/wikipedia/commons/9/9c/Sotalia_fluviatilis_Amazon_River_Dolphin.jpg"
        ],
        [
         "21",
         "sousa plumbea",
         "https://upload.wikimedia.org/wikipedia/commons/2/2d/Dolphin-Musandam_2.jpg"
        ],
        [
         "22",
         "sousa sahulensis",
         "https://upload.wikimedia.org/wikipedia/commons/thumb/b/bd/Australian_humpback_dolphins%2C_Tin_Can_Bay%2C_2016.jpg/1200px-Australian_humpback_dolphins%2C_Tin_Can_Bay%2C_2016.jpg"
        ],
        [
         "23",
         "sousa teuszii",
         "https://upload.wikimedia.org/wikipedia/commons/thumb/b/b0/Sousa_teuszii1.jpg/1200px-Sousa_teuszii1.jpg"
        ],
        [
         "24",
         "tursiops erebennus",
         "https://upload.wikimedia.org/wikipedia/commons/thumb/c/cd/Tamanend%27s_bottlenose_dolphin.jpg/1200px-Tamanend%27s_bottlenose_dolphin.jpg"
        ],
        [
         "0",
         "stenella clymene",
         "https://upload.wikimedia.org/wikipedia/commons/a/aa/Clymenes.jpg"
        ],
        [
         "1",
         "stenella longirostris",
         "https://upload.wikimedia.org/wikipedia/commons/thumb/6/64/A_spinner_dolphin_in_the_Red_Sea.jpg/1200px-A_spinner_dolphin_in_the_Red_Sea.jpg"
        ],
        [
         "2",
         "lagenodelphis hosei",
         "https://upload.wikimedia.org/wikipedia/commons/2/2b/Frazer%C2%B4s_dolphin_group.jpg"
        ],
        [
         "3",
         "delphinus delphis",
         "https://upload.wikimedia.org/wikipedia/commons/thumb/7/74/Common_dolphin_noaa.jpg/1200px-Common_dolphin_noaa.jpg"
        ],
        [
         "4",
         "stenella coeruleoalba",
         "https://upload.wikimedia.org/wikipedia/commons/thumb/4/4f/Stenella_coeruleoalba_Ligurian_Sea_02_-_brighter.jpg/1200px-Stenella_coeruleoalba_Ligurian_Sea_02_-_brighter.jpg"
        ],
        [
         "5",
         "stenella attenuata",
         "https://upload.wikimedia.org/wikipedia/commons/thumb/0/06/Pantropical_spotted_dolphin_swimming_off_the_coast_of_Costa_Rica.jpg/1200px-Pantropical_spotted_dolphin_swimming_off_the_coast_of_Costa_Rica.jpg"
        ],
        [
         "6",
         "stenella frontalis",
         "https://upload.wikimedia.org/wikipedia/commons/thumb/9/9f/Atlantic_spotted_dolphin_%28Stenella_frontalis%29_NOAA.jpg/1200px-Atlantic_spotted_dolphin_%28Stenella_frontalis%29_NOAA.jpg"
        ],
        [
         "7",
         "tursiops truncatus",
         "https://upload.wikimedia.org/wikipedia/commons/thumb/b/bc/Tursiops_truncatus_01-cropped.jpg/1200px-Tursiops_truncatus_01-cropped.jpg"
        ],
        [
         "8",
         "tursiops aduncus",
         "https://upload.wikimedia.org/wikipedia/commons/8/87/Tursiops_aduncus%2C_Port_River%2C_Adelaide%2C_Australia_-_2003.jpg"
        ],
        [
         "9",
         "sousa chinensis",
         "https://upload.wikimedia.org/wikipedia/commons/thumb/5/55/Pink_Dolphin.JPG/1200px-Pink_Dolphin.JPG"
        ],
        [
         "10",
         "sotalia guianensis",
         "https://upload.wikimedia.org/wikipedia/commons/a/a6/Descri%C3%A7%C3%A3o_in%C3%ADcio_ou_comportamento.jpg"
        ],
        [
         "11",
         "globicephala macrorhynchus",
         "https://upload.wikimedia.org/wikipedia/commons/thumb/d/d5/Globicephala_macrorhynchus_Kurzflossen-Grindwal_DSCF8148.JPG/1200px-Globicephala_macrorhynchus_Kurzflossen-Grindwal_DSCF8148.JPG"
        ],
        [
         "12",
         "globicephala melas",
         "https://upload.wikimedia.org/wikipedia/commons/thumb/8/85/Pilot_Whale_-_Flickr_-_gailhampshire.jpg/1200px-Pilot_Whale_-_Flickr_-_gailhampshire.jpg"
        ],
        [
         "13",
         "feresa attenuata",
         "https://upload.wikimedia.org/wikipedia/commons/thumb/b/ba/Pygmy_killer_whales_%28Feresa_attenuata%29_off_of_Guam_%28anim252384854%29.jpg/1200px-Pygmy_killer_whales_%28Feresa_attenuata%29_off_of_Guam_%28anim252384854%29.jpg"
        ],
        [
         "14",
         "peponocephala electra",
         "https://upload.wikimedia.org/wikipedia/commons/thumb/4/4e/Peponocephala_electra_Mayotte.jpg/1200px-Peponocephala_electra_Mayotte.jpg"
        ],
        [
         "15",
         "pseudorca crassidens",
         "https://upload.wikimedia.org/wikipedia/commons/thumb/9/99/Pseudoorca_Crassidens_-_False_Killer_Whale.jpg/1200px-Pseudoorca_Crassidens_-_False_Killer_Whale.jpg"
        ],
        [
         "16",
         "grampus griseus",
         "https://upload.wikimedia.org/wikipedia/commons/9/93/Grampo.jpg"
        ],
        [
         "17",
         "steno bredanensis",
         "https://upload.wikimedia.org/wikipedia/commons/2/26/Rough_toothed_dolphin.jpg"
        ],
        [
         "18",
         "orcaella brevirostris",
         "https://upload.wikimedia.org/wikipedia/commons/a/ae/Irrawaddy_dolphin-Orcaella_brevirostris_by_2eight.jpg"
        ],
        [
         "19",
         "orcaella heinsohni",
         "https://upload.wikimedia.org/wikipedia/commons/3/3f/Snubfin-3.jpg"
        ],
        [
         "20",
         "cephalorhynchus heavisidii",
         "https://upload.wikimedia.org/wikipedia/commons/thumb/6/6e/Dolphins_at_L%C3%BCderitz%2C_Namibia_%283144863196%29.jpg/1200px-Dolphins_at_L%C3%BCderitz%2C_Namibia_%283144863196%29.jpg"
        ],
        [
         "21",
         "sagmatias australis",
         "https://upload.wikimedia.org/wikipedia/commons/thumb/4/49/Peale%27s_dolphin_%28Sagmatias_australis%29_off_the_coast_of_Calbuco%2C_Chile_%28380921709%29.jpg/1200px-Peale%27s_dolphin_%28Sagmatias_australis%29_off_the_coast_of_Calbuco%2C_Chile_%28380921709%29.jpg"
        ],
        [
         "22",
         "cephalorhynchus commersonii",
         "https://upload.wikimedia.org/wikipedia/commons/a/a1/Tonina1_%282731842634%29.jpg"
        ],
        [
         "23",
         "sagmatias obscurus",
         "https://upload.wikimedia.org/wikipedia/commons/1/13/DuskyDolphin.jpg"
        ],
        [
         "24",
         "sagmatias obliquidens",
         "https://upload.wikimedia.org/wikipedia/commons/f/f1/Pacific_white-sided_dolphins_%28Lagenorhynchus_obliquidens%29_NOAA.jpg"
        ]
       ],
       "shape": {
        "columns": 2,
        "rows": 100
       }
      },
      "text/html": [
       "<div>\n",
       "<style scoped>\n",
       "    .dataframe tbody tr th:only-of-type {\n",
       "        vertical-align: middle;\n",
       "    }\n",
       "\n",
       "    .dataframe tbody tr th {\n",
       "        vertical-align: top;\n",
       "    }\n",
       "\n",
       "    .dataframe thead th {\n",
       "        text-align: right;\n",
       "    }\n",
       "</style>\n",
       "<table border=\"1\" class=\"dataframe\">\n",
       "  <thead>\n",
       "    <tr style=\"text-align: right;\">\n",
       "      <th></th>\n",
       "      <th>Scientific name</th>\n",
       "      <th>Image URL</th>\n",
       "    </tr>\n",
       "  </thead>\n",
       "  <tbody>\n",
       "    <tr>\n",
       "      <th>0</th>\n",
       "      <td>balaenoptera brydei</td>\n",
       "      <td>https://upload.wikimedia.org/wikipedia/commons...</td>\n",
       "    </tr>\n",
       "    <tr>\n",
       "      <th>1</th>\n",
       "      <td>balaenoptera omurai</td>\n",
       "      <td>https://upload.wikimedia.org/wikipedia/commons...</td>\n",
       "    </tr>\n",
       "    <tr>\n",
       "      <th>2</th>\n",
       "      <td>balaenoptera ricei</td>\n",
       "      <td>https://upload.wikimedia.org/wikipedia/commons...</td>\n",
       "    </tr>\n",
       "    <tr>\n",
       "      <th>3</th>\n",
       "      <td>berardius minimus</td>\n",
       "      <td>https://upload.wikimedia.org/wikipedia/commons...</td>\n",
       "    </tr>\n",
       "    <tr>\n",
       "      <th>4</th>\n",
       "      <td>cephalorhynchus eutropia</td>\n",
       "      <td>https://upload.wikimedia.org/wikipedia/commons...</td>\n",
       "    </tr>\n",
       "    <tr>\n",
       "      <th>...</th>\n",
       "      <td>...</td>\n",
       "      <td>...</td>\n",
       "    </tr>\n",
       "    <tr>\n",
       "      <th>70</th>\n",
       "      <td>caperea marginata</td>\n",
       "      <td>https://upload.wikimedia.org/wikipedia/commons...</td>\n",
       "    </tr>\n",
       "    <tr>\n",
       "      <th>71</th>\n",
       "      <td>eubalaena glacialis</td>\n",
       "      <td>https://upload.wikimedia.org/wikipedia/commons...</td>\n",
       "    </tr>\n",
       "    <tr>\n",
       "      <th>72</th>\n",
       "      <td>eubalaena japonica</td>\n",
       "      <td>https://upload.wikimedia.org/wikipedia/commons...</td>\n",
       "    </tr>\n",
       "    <tr>\n",
       "      <th>73</th>\n",
       "      <td>eubalaena australis</td>\n",
       "      <td>https://upload.wikimedia.org/wikipedia/commons...</td>\n",
       "    </tr>\n",
       "    <tr>\n",
       "      <th>74</th>\n",
       "      <td>balaena mysticetus</td>\n",
       "      <td>https://upload.wikimedia.org/wikipedia/commons...</td>\n",
       "    </tr>\n",
       "  </tbody>\n",
       "</table>\n",
       "<p>100 rows × 2 columns</p>\n",
       "</div>"
      ],
      "text/plain": [
       "             Scientific name  \\\n",
       "0        balaenoptera brydei   \n",
       "1        balaenoptera omurai   \n",
       "2         balaenoptera ricei   \n",
       "3          berardius minimus   \n",
       "4   cephalorhynchus eutropia   \n",
       "..                       ...   \n",
       "70         caperea marginata   \n",
       "71       eubalaena glacialis   \n",
       "72        eubalaena japonica   \n",
       "73       eubalaena australis   \n",
       "74        balaena mysticetus   \n",
       "\n",
       "                                            Image URL  \n",
       "0   https://upload.wikimedia.org/wikipedia/commons...  \n",
       "1   https://upload.wikimedia.org/wikipedia/commons...  \n",
       "2   https://upload.wikimedia.org/wikipedia/commons...  \n",
       "3   https://upload.wikimedia.org/wikipedia/commons...  \n",
       "4   https://upload.wikimedia.org/wikipedia/commons...  \n",
       "..                                                ...  \n",
       "70  https://upload.wikimedia.org/wikipedia/commons...  \n",
       "71  https://upload.wikimedia.org/wikipedia/commons...  \n",
       "72  https://upload.wikimedia.org/wikipedia/commons...  \n",
       "73  https://upload.wikimedia.org/wikipedia/commons...  \n",
       "74  https://upload.wikimedia.org/wikipedia/commons...  \n",
       "\n",
       "[100 rows x 2 columns]"
      ]
     },
     "execution_count": 43,
     "metadata": {},
     "output_type": "execute_result"
    }
   ],
   "source": [
    "images_urls = pd.concat([scrapped_images_urls_df, merged_tree_images[[\"Scientific name\", \"Image URL\"]]], axis=0)\n",
    "images_urls"
   ]
  },
  {
   "cell_type": "code",
   "execution_count": 44,
   "id": "1a652dc7",
   "metadata": {},
   "outputs": [
    {
     "data": {
      "application/vnd.microsoft.datawrangler.viewer.v0+json": {
       "columns": [
        {
         "name": "index",
         "rawType": "int64",
         "type": "integer"
        },
        {
         "name": "Family_common",
         "rawType": "object",
         "type": "string"
        },
        {
         "name": "Family_Latin",
         "rawType": "object",
         "type": "string"
        },
        {
         "name": "Genus",
         "rawType": "object",
         "type": "string"
        },
        {
         "name": "Common name",
         "rawType": "object",
         "type": "string"
        },
        {
         "name": "Scientific name",
         "rawType": "object",
         "type": "string"
        },
        {
         "name": "IUCN Red List status",
         "rawType": "object",
         "type": "string"
        },
        {
         "name": "Global population estimate",
         "rawType": "object",
         "type": "string"
        },
        {
         "name": "wiki",
         "rawType": "float64",
         "type": "float"
        },
        {
         "name": "map",
         "rawType": "float64",
         "type": "float"
        },
        {
         "name": "tree",
         "rawType": "float64",
         "type": "float"
        },
        {
         "name": "unique_id",
         "rawType": "object",
         "type": "string"
        },
        {
         "name": "Image URL",
         "rawType": "object",
         "type": "string"
        }
       ],
       "ref": "b0b113be-0db2-4483-8abf-748bdec807b3",
       "rows": [
        [
         "0",
         "right_whales",
         "Balaenidae",
         "Balaena",
         "Bowhead whale",
         "balaena mysticetus",
         "LC",
         "10,000",
         "1.0",
         "1.0",
         "1.0",
         "balaena_mysticetus",
         "https://upload.wikimedia.org/wikipedia/commons/thumb/d/d3/Bowhead_Whale_NOAA.jpg/1200px-Bowhead_Whale_NOAA.jpg"
        ],
        [
         "1",
         "rorquals",
         "Balaenopteridae",
         "Balaenoptera",
         "Common minke whale",
         "balaenoptera acutorostrata",
         "LC",
         "200,000",
         "1.0",
         "1.0",
         "1.0",
         "balaenoptera_acutorostrata",
         "https://upload.wikimedia.org/wikipedia/commons/f/f4/Dwarf_minke_whale_%2830694501214%29.jpg"
        ],
        [
         "2",
         "rorquals",
         "Balaenopteridae",
         "Balaenoptera",
         "Antarctic minke whale",
         "balaenoptera bonaerensis",
         "NT",
         "515,000[18]",
         "1.0",
         "0.0",
         "1.0",
         "balaenoptera_bonaerensis",
         "https://upload.wikimedia.org/wikipedia/commons/thumb/4/46/Minke_whale_in_ross_sea.jpg/1200px-Minke_whale_in_ross_sea.jpg"
        ],
        [
         "3",
         "rorquals",
         "Balaenopteridae",
         "Balaenoptera",
         "Sei whale",
         "balaenoptera borealis",
         "EN",
         "80,000[17]",
         "1.0",
         "1.0",
         "1.0",
         "balaenoptera_borealis",
         "https://upload.wikimedia.org/wikipedia/commons/thumb/e/e3/Sei_whale_mother_and_calf_Christin_Khan_NOAA.jpg/1200px-Sei_whale_mother_and_calf_Christin_Khan_NOAA.jpg"
        ],
        [
         "4",
         "rorquals",
         "Balaenopteridae",
         "Balaenoptera",
         "Bryde's whale",
         "balaenoptera brydei",
         "LC",
         "90,000–100,000",
         "1.0",
         "1.0",
         "0.0",
         "balaenoptera_brydei",
         "https://upload.wikimedia.org/wikipedia/commons/3/35/Balaenoptera_brydei.jpg"
        ],
        [
         "5",
         "rorquals",
         "Balaenopteridae",
         "Balaenoptera",
         "Eden's whale[a]",
         "balaenoptera edeni",
         "LC",
         "Unknown",
         "1.0",
         "0.0",
         "1.0",
         "balaenoptera_edeni",
         "https://upload.wikimedia.org/wikipedia/commons/3/35/Balaenoptera_brydei.jpg"
        ],
        [
         "6",
         "rorquals",
         "Balaenopteridae",
         "Balaenoptera",
         "Blue whale",
         "balaenoptera musculus",
         "EN",
         "5,000–15,000",
         "1.0",
         "1.0",
         "1.0",
         "balaenoptera_musculus",
         "https://upload.wikimedia.org/wikipedia/commons/thumb/1/1c/Anim1754_-_Flickr_-_NOAA_Photo_Library.jpg/1200px-Anim1754_-_Flickr_-_NOAA_Photo_Library.jpg"
        ],
        [
         "7",
         "rorquals",
         "Balaenopteridae",
         "Balaenoptera",
         "Omura's whale",
         "balaenoptera omurai",
         "DD",
         "Unknown",
         "1.0",
         "1.0",
         "0.0",
         "balaenoptera_omurai",
         "https://upload.wikimedia.org/wikipedia/commons/thumb/5/5d/Balaenoptera_omurai%2C_Madagascar_-_Royal_Society_Open_Science_1.jpg/1200px-Balaenoptera_omurai%2C_Madagascar_-_Royal_Society_Open_Science_1.jpg"
        ],
        [
         "8",
         "rorquals",
         "Balaenopteridae",
         "Balaenoptera",
         "Fin whale",
         "balaenoptera physalus",
         "VU",
         "100,000",
         "1.0",
         "1.0",
         "1.0",
         "balaenoptera_physalus",
         "https://upload.wikimedia.org/wikipedia/commons/thumb/c/ce/Finhval_%281%29.jpg/1200px-Finhval_%281%29.jpg"
        ],
        [
         "9",
         "rorquals",
         "Balaenopteridae",
         "Balaenoptera",
         "Rice's whale[16]",
         "balaenoptera ricei",
         "CR",
         "30–100",
         "1.0",
         "0.0",
         "0.0",
         "balaenoptera_ricei",
         "https://upload.wikimedia.org/wikipedia/commons/e/ec/SEFSC-PAM-Rices-whale.png"
        ],
        [
         "10",
         "beaked_whales",
         "Ziphiidae",
         "Berardius",
         "Arnoux's beaked whale",
         "berardius arnuxii",
         "LC",
         "Unknown[ad]",
         "1.0",
         "1.0",
         "1.0",
         "berardius_arnuxii",
         "https://upload.wikimedia.org/wikipedia/commons/thumb/2/2f/Berardius_arnuxii_2.jpg/1200px-Berardius_arnuxii_2.jpg"
        ],
        [
         "11",
         "beaked_whales",
         "Ziphiidae",
         "Berardius",
         "Baird's beaked whale",
         "berardius bairdii",
         "LC",
         "Unknown[ae]",
         "1.0",
         "1.0",
         "1.0",
         "berardius_bairdii",
         "https://upload.wikimedia.org/wikipedia/commons/e/e2/Berardius_bairdii_2.jpg"
        ],
        [
         "12",
         "beaked_whales",
         "Ziphiidae",
         "Berardius",
         "Sato's beaked whale",
         "berardius minimus",
         "NT",
         "Unknown",
         "1.0",
         "0.0",
         "0.0",
         "berardius_minimus",
         "https://upload.wikimedia.org/wikipedia/commons/b/b1/Arnoux%27s_beaked_whale.jpg"
        ],
        [
         "13",
         "pygmy_right_whale",
         "Cetotheriidae",
         "Caperea",
         "Pygmy right whale",
         "caperea marginata",
         "LC",
         "Unknown",
         "1.0",
         "0.0",
         "1.0",
         "caperea_marginata",
         "https://upload.wikimedia.org/wikipedia/commons/b/bb/Pygmy_right_whale.png"
        ],
        [
         "14",
         "oceanic_dolphins",
         "Delphinidae",
         "Cephalorhynchus",
         "Commerson's dolphin",
         "cephalorhynchus commersonii",
         "LC",
         "22,000[21]",
         "1.0",
         "1.0",
         "1.0",
         "cephalorhynchus_commersonii",
         "https://upload.wikimedia.org/wikipedia/commons/a/a1/Tonina1_%282731842634%29.jpg"
        ],
        [
         "15",
         "oceanic_dolphins",
         "Delphinidae",
         "Cephalorhynchus",
         "Chilean dolphin",
         "cephalorhynchus eutropia",
         "NT",
         "Unknown[b]",
         "1.0",
         "1.0",
         "0.0",
         "cephalorhynchus_eutropia",
         "https://upload.wikimedia.org/wikipedia/commons/thumb/e/eb/Black_dolphins_around_isla_gordon.jpg/1200px-Black_dolphins_around_isla_gordon.jpg"
        ],
        [
         "16",
         "oceanic_dolphins",
         "Delphinidae",
         "Cephalorhynchus",
         "Heaviside's dolphin",
         "cephalorhynchus heavisidii",
         "NT",
         "Unknown",
         "1.0",
         "1.0",
         "1.0",
         "cephalorhynchus_heavisidii",
         "https://upload.wikimedia.org/wikipedia/commons/thumb/6/6e/Dolphins_at_L%C3%BCderitz%2C_Namibia_%283144863196%29.jpg/1200px-Dolphins_at_L%C3%BCderitz%2C_Namibia_%283144863196%29.jpg"
        ],
        [
         "17",
         "oceanic_dolphins",
         "Delphinidae",
         "Cephalorhynchus",
         "Hector's dolphin",
         "cephalorhynchus hectori",
         "Maui dolphin",
         "Maui dolphin",
         "1.0",
         "1.0",
         "0.0",
         "cephalorhynchus_hectori",
         "https://upload.wikimedia.org/wikipedia/commons/thumb/b/be/Hector%27s_Dolphins_at_Porpoise_Bay_1999_a_cropped.jpg/1200px-Hector%27s_Dolphins_at_Porpoise_Bay_1999_a_cropped.jpg"
        ],
        [
         "18",
         "narwhal_and_beluga",
         "Monodontidae",
         "Delphinapterus",
         "Beluga",
         "delphinapterus leucas",
         "LC",
         "136,000[v]",
         "1.0",
         "1.0",
         "1.0",
         "delphinapterus_leucas",
         "https://upload.wikimedia.org/wikipedia/commons/thumb/e/e8/Oceanogr%C3%A0fic_29102004.jpg/1200px-Oceanogr%C3%A0fic_29102004.jpg"
        ],
        [
         "19",
         "oceanic_dolphins",
         "Delphinidae",
         "Delphinus",
         "Common dolphin",
         "delphinus delphis",
         "LC",
         "Unknown[c]",
         "1.0",
         "1.0",
         "1.0",
         "delphinus_delphis",
         "https://upload.wikimedia.org/wikipedia/commons/thumb/7/74/Common_dolphin_noaa.jpg/1200px-Common_dolphin_noaa.jpg"
        ],
        [
         "20",
         "rorquals",
         "Balaenopteridae",
         "Eschrichtius",
         "Gray whale",
         "eschrichtius robustus",
         "LC",
         "21,000[19]",
         "1.0",
         "1.0",
         "1.0",
         "eschrichtius_robustus",
         "https://upload.wikimedia.org/wikipedia/commons/thumb/0/00/Ballena_gris_adulta_con_su_ballenato.jpg/1200px-Ballena_gris_adulta_con_su_ballenato.jpg"
        ],
        [
         "21",
         "right_whales",
         "Balaenidae",
         "Eubalaena",
         "Southern right whale",
         "eubalaena australis",
         "LC",
         "13,600[13]",
         "1.0",
         "0.0",
         "1.0",
         "eubalaena_australis",
         "https://upload.wikimedia.org/wikipedia/commons/c/c2/Southern_right_whale6.jpg"
        ],
        [
         "22",
         "right_whales",
         "Balaenidae",
         "Eubalaena",
         "North Atlantic right whale",
         "eubalaena glacialis",
         "CR",
         "350",
         "1.0",
         "1.0",
         "1.0",
         "eubalaena_glacialis",
         "https://upload.wikimedia.org/wikipedia/commons/thumb/9/94/GRNMS_-_Right_Whales_%2831361234602%29.jpg/1200px-GRNMS_-_Right_Whales_%2831361234602%29.jpg"
        ],
        [
         "23",
         "right_whales",
         "Balaenidae",
         "Eubalaena",
         "North Pacific right whale",
         "eubalaena japonica",
         "EN",
         "404–2,108[12]",
         "1.0",
         "1.0",
         "1.0",
         "eubalaena_japonica",
         "https://upload.wikimedia.org/wikipedia/commons/3/37/Eubalaena_japonica_drawing.jpg"
        ],
        [
         "24",
         "oceanic_dolphins",
         "Delphinidae",
         "Feresa",
         "Pygmy killer whale",
         "feresa attenuata",
         "LC",
         "Unknown[d]",
         "1.0",
         "0.0",
         "1.0",
         "feresa_attenuata",
         "https://upload.wikimedia.org/wikipedia/commons/thumb/b/ba/Pygmy_killer_whales_%28Feresa_attenuata%29_off_of_Guam_%28anim252384854%29.jpg/1200px-Pygmy_killer_whales_%28Feresa_attenuata%29_off_of_Guam_%28anim252384854%29.jpg"
        ],
        [
         "25",
         "oceanic_dolphins",
         "Delphinidae",
         "Globicephala",
         "Short-finned pilot whale",
         "globicephala macrorhynchus",
         "LC",
         "Unknown[f]",
         "1.0",
         "0.0",
         "1.0",
         "globicephala_macrorhynchus",
         "https://upload.wikimedia.org/wikipedia/commons/thumb/d/d5/Globicephala_macrorhynchus_Kurzflossen-Grindwal_DSCF8148.JPG/1200px-Globicephala_macrorhynchus_Kurzflossen-Grindwal_DSCF8148.JPG"
        ],
        [
         "26",
         "oceanic_dolphins",
         "Delphinidae",
         "Globicephala",
         "Long-finned pilot whale",
         "globicephala melas",
         "LC",
         "Unknown[e]",
         "1.0",
         "1.0",
         "1.0",
         "globicephala_melas",
         "https://upload.wikimedia.org/wikipedia/commons/thumb/8/85/Pilot_Whale_-_Flickr_-_gailhampshire.jpg/1200px-Pilot_Whale_-_Flickr_-_gailhampshire.jpg"
        ],
        [
         "27",
         "oceanic_dolphins",
         "Delphinidae",
         "Grampus",
         "Risso's dolphin",
         "grampus griseus",
         "LC",
         "Unknown[g]",
         "1.0",
         "1.0",
         "1.0",
         "grampus_griseus",
         "https://upload.wikimedia.org/wikipedia/commons/9/93/Grampo.jpg"
        ],
        [
         "28",
         "beaked_whales",
         "Ziphiidae",
         "Hyperoodon",
         "Northern bottlenose whale",
         "hyperoodon ampullatus",
         "NT",
         "10,000[ah]",
         "1.0",
         "1.0",
         "1.0",
         "hyperoodon_ampullatus",
         "https://upload.wikimedia.org/wikipedia/commons/thumb/f/ff/Hyperoodon_ampullatus_2.jpg/1200px-Hyperoodon_ampullatus_2.jpg"
        ],
        [
         "29",
         "beaked_whales",
         "Ziphiidae",
         "Hyperoodon",
         "Southern bottlenose whale",
         "hyperoodon planifrons",
         "LC",
         "500,000",
         "1.0",
         "1.0",
         "1.0",
         "hyperoodon_planifrons",
         "https://upload.wikimedia.org/wikipedia/commons/thumb/b/b5/Hyperoodon_planifrons.jpg/1200px-Hyperoodon_planifrons.jpg"
        ],
        [
         "30",
         "beaked_whales",
         "Ziphiidae",
         "Indopacetus",
         "Tropical bottlenose whale",
         "indopacetus pacificus",
         "LC",
         "Unknown[ai]",
         "1.0",
         "0.0",
         "0.0",
         "indopacetus_pacificus",
         "https://upload.wikimedia.org/wikipedia/commons/thumb/2/2a/Indopacetus_pacificus_2.jpg/1200px-Indopacetus_pacificus_2.jpg"
        ],
        [
         "31",
         "river_dolphins",
         "Iniidae",
         "Inia",
         "Araguaian river dolphin[r]",
         "inia araguaiaensis",
         "NE",
         "Unknown",
         "1.0",
         "0.0",
         "0.0",
         "inia_araguaiaensis",
         "https://upload.wikimedia.org/wikipedia/commons/thumb/2/25/Inia_range_map_PLoS_ONE.jpg/1200px-Inia_range_map_PLoS_ONE.jpg"
        ],
        [
         "32",
         "river_dolphins",
         "Iniidae",
         "Inia",
         "Amazon river dolphin",
         "inia geoffrensis",
         "EN",
         "Unknown",
         "1.0",
         "1.0",
         "1.0",
         "inia_geoffrensis",
         "https://upload.wikimedia.org/wikipedia/commons/thumb/9/99/Amazonas-Flussdelfin_Orinoko3.jpg/1200px-Amazonas-Flussdelfin_Orinoko3.jpg"
        ],
        [
         "33",
         "dwarf_and_pygmy_sperm_whales",
         "Kogiidae",
         "Kogia",
         "Pygmy sperm whale",
         "kogia breviceps",
         "LC",
         "Unknown[t]",
         "1.0",
         "1.0",
         "1.0",
         "kogia_breviceps",
         "https://upload.wikimedia.org/wikipedia/commons/b/b6/FMIB_50832_Pygmy_Sperm_Whale.jpeg"
        ],
        [
         "34",
         "dwarf_and_pygmy_sperm_whales",
         "Kogiidae",
         "Kogia",
         "Dwarf sperm whale",
         "kogia sima",
         "LC",
         "Unknown[s]",
         "1.0",
         "1.0",
         "1.0",
         "kogia_sima",
         "https://upload.wikimedia.org/wikipedia/commons/5/58/Dwarf_sperm_whale_%28NOAA_Pitman%29.jpg"
        ],
        [
         "35",
         "oceanic_dolphins",
         "Delphinidae",
         "Lagenodelphis",
         "Fraser's dolphin",
         "lagenodelphis hosei",
         "LC",
         "Unknown[h]",
         "1.0",
         "1.0",
         "1.0",
         "lagenodelphis_hosei",
         "https://upload.wikimedia.org/wikipedia/commons/2/2b/Frazer%C2%B4s_dolphin_group.jpg"
        ],
        [
         "36",
         "oceanic_dolphins",
         "Delphinidae",
         "Lagenorhynchus",
         "Atlantic white-sided dolphin",
         "lagenorhynchus acutus",
         "LC",
         "citation needed",
         "1.0",
         "1.0",
         "0.0",
         "lagenorhynchus_acutus",
         "https://upload.wikimedia.org/wikipedia/commons/9/9a/Atlantic_white-sided_dolphin.jpg"
        ],
        [
         "37",
         "oceanic_dolphins",
         "Delphinidae",
         "Lagenorhynchus",
         "White-beaked dolphin",
         "lagenorhynchus albirostris",
         "LC",
         "100,000[j]",
         "1.0",
         "0.0",
         "1.0",
         "lagenorhynchus_albirostris",
         "https://upload.wikimedia.org/wikipedia/commons/7/72/Witsnuitdolfijn_-_Lagenorhynchus_albirostris.jpg"
        ],
        [
         "38",
         "oceanic_dolphins",
         "Delphinidae",
         "Lagenorhynchus",
         "Peale's dolphin",
         "lagenorhynchus australis",
         "LC",
         "Unknown[k]",
         "1.0",
         "1.0",
         "0.0",
         "lagenorhynchus_australis",
         "https://upload.wikimedia.org/wikipedia/commons/thumb/4/49/Peale%27s_dolphin_%28Sagmatias_australis%29_off_the_coast_of_Calbuco%2C_Chile_%28380921709%29.jpg/1200px-Peale%27s_dolphin_%28Sagmatias_australis%29_off_the_coast_of_Calbuco%2C_Chile_%28380921709%29.jpg"
        ],
        [
         "39",
         "oceanic_dolphins",
         "Delphinidae",
         "Lagenorhynchus",
         "Hourglass dolphin",
         "lagenorhynchus cruciger",
         "LC",
         "140,000",
         "1.0",
         "1.0",
         "0.0",
         "lagenorhynchus_cruciger",
         "https://upload.wikimedia.org/wikipedia/commons/thumb/5/5f/Hourglas_dolphin.jpg/1200px-Hourglas_dolphin.jpg"
        ],
        [
         "40",
         "oceanic_dolphins",
         "Delphinidae",
         "Lagenorhynchus",
         "Pacific white-sided dolphin",
         "lagenorhynchus obliquidens",
         "LC",
         "1,000,000",
         "1.0",
         "0.0",
         "0.0",
         "lagenorhynchus_obliquidens",
         "https://upload.wikimedia.org/wikipedia/commons/f/f1/Pacific_white-sided_dolphins_%28Lagenorhynchus_obliquidens%29_NOAA.jpg"
        ],
        [
         "41",
         "oceanic_dolphins",
         "Delphinidae",
         "Lagenorhynchus",
         "Dusky dolphin",
         "lagenorhynchus obscurus",
         "LC",
         "Unknown",
         "1.0",
         "1.0",
         "0.0",
         "lagenorhynchus_obscurus",
         "https://upload.wikimedia.org/wikipedia/commons/1/13/DuskyDolphin.jpg"
        ],
        [
         "42",
         "null",
         "null",
         "null",
         "null",
         "leucopleurus acutus",
         "null",
         "null",
         "0.0",
         "0.0",
         "1.0",
         "leucopleurus_acutus",
         "https://upload.wikimedia.org/wikipedia/commons/9/9a/Atlantic_white-sided_dolphin.jpg"
        ],
        [
         "43",
         "baiji",
         "Lipotidae",
         "Lipotes",
         "Baiji",
         "lipotes vexillifer",
         "CR",
         "0–13[u]",
         "1.0",
         "0.0",
         "1.0",
         "lipotes_vexillifer",
         "https://upload.wikimedia.org/wikipedia/commons/5/5e/Lipotes_vexillifer.png"
        ],
        [
         "44",
         "oceanic_dolphins",
         "Delphinidae",
         "Lissodelphis",
         "Northern right whale dolphin",
         "lissodelphis borealis",
         "LC",
         "400,000[l]",
         "1.0",
         "1.0",
         "1.0",
         "lissodelphis_borealis",
         "https://upload.wikimedia.org/wikipedia/commons/thumb/2/2d/Anim1749_-_Flickr_-_NOAA_Photo_Library.jpg/1200px-Anim1749_-_Flickr_-_NOAA_Photo_Library.jpg"
        ],
        [
         "45",
         "oceanic_dolphins",
         "Delphinidae",
         "Lissodelphis",
         "Southern right whale dolphin",
         "lissodelphis peronii",
         "LC",
         "Unknown[m]",
         "1.0",
         "1.0",
         "1.0",
         "lissodelphis_peronii",
         "https://upload.wikimedia.org/wikipedia/commons/thumb/6/69/Lissodelphis_peronii_1847.jpg/1200px-Lissodelphis_peronii_1847.jpg"
        ],
        [
         "46",
         "rorquals",
         "Balaenopteridae",
         "Megaptera",
         "Humpback whale",
         "megaptera novaeangliae",
         "LC",
         "84,000",
         "1.0",
         "1.0",
         "1.0",
         "megaptera_novaeangliae",
         "https://upload.wikimedia.org/wikipedia/commons/6/61/Humpback_Whale_underwater_shot.jpg"
        ],
        [
         "47",
         "beaked_whales",
         "Ziphiidae",
         "Mesoplodon",
         "Sowerby's beaked whale",
         "mesoplodon bidens",
         "LC",
         "Unknown",
         "1.0",
         "0.0",
         "1.0",
         "mesoplodon_bidens",
         "https://upload.wikimedia.org/wikipedia/commons/thumb/1/16/Mesoplodon_bidens_2.jpg/1200px-Mesoplodon_bidens_2.jpg"
        ],
        [
         "48",
         "beaked_whales",
         "Ziphiidae",
         "Mesoplodon",
         "Andrews' beaked whale",
         "mesoplodon bowdoini",
         "DD",
         "Unknown",
         "1.0",
         "0.0",
         "1.0",
         "mesoplodon_bowdoini",
         "https://upload.wikimedia.org/wikipedia/commons/thumb/c/c4/Mesoplodon_bowdoini.jpg/1200px-Mesoplodon_bowdoini.jpg"
        ],
        [
         "49",
         "beaked_whales",
         "Ziphiidae",
         "Mesoplodon",
         "Hubbs' beaked whale",
         "mesoplodon carlhubbsi",
         "DD",
         "Unknown",
         "1.0",
         "0.0",
         "1.0",
         "mesoplodon_carlhubbsi",
         "https://upload.wikimedia.org/wikipedia/commons/thumb/4/42/Mesoplodon_carlhubbsi.jpg/1200px-Mesoplodon_carlhubbsi.jpg"
        ]
       ],
       "shape": {
        "columns": 12,
        "rows": 100
       }
      },
      "text/html": [
       "<div>\n",
       "<style scoped>\n",
       "    .dataframe tbody tr th:only-of-type {\n",
       "        vertical-align: middle;\n",
       "    }\n",
       "\n",
       "    .dataframe tbody tr th {\n",
       "        vertical-align: top;\n",
       "    }\n",
       "\n",
       "    .dataframe thead th {\n",
       "        text-align: right;\n",
       "    }\n",
       "</style>\n",
       "<table border=\"1\" class=\"dataframe\">\n",
       "  <thead>\n",
       "    <tr style=\"text-align: right;\">\n",
       "      <th></th>\n",
       "      <th>Family_common</th>\n",
       "      <th>Family_Latin</th>\n",
       "      <th>Genus</th>\n",
       "      <th>Common name</th>\n",
       "      <th>Scientific name</th>\n",
       "      <th>IUCN Red List status</th>\n",
       "      <th>Global population estimate</th>\n",
       "      <th>wiki</th>\n",
       "      <th>map</th>\n",
       "      <th>tree</th>\n",
       "      <th>unique_id</th>\n",
       "      <th>Image URL</th>\n",
       "    </tr>\n",
       "  </thead>\n",
       "  <tbody>\n",
       "    <tr>\n",
       "      <th>0</th>\n",
       "      <td>right_whales</td>\n",
       "      <td>Balaenidae</td>\n",
       "      <td>Balaena</td>\n",
       "      <td>Bowhead whale</td>\n",
       "      <td>balaena mysticetus</td>\n",
       "      <td>LC</td>\n",
       "      <td>10,000</td>\n",
       "      <td>1.0</td>\n",
       "      <td>1.0</td>\n",
       "      <td>1.0</td>\n",
       "      <td>balaena_mysticetus</td>\n",
       "      <td>https://upload.wikimedia.org/wikipedia/commons...</td>\n",
       "    </tr>\n",
       "    <tr>\n",
       "      <th>1</th>\n",
       "      <td>rorquals</td>\n",
       "      <td>Balaenopteridae</td>\n",
       "      <td>Balaenoptera</td>\n",
       "      <td>Common minke whale</td>\n",
       "      <td>balaenoptera acutorostrata</td>\n",
       "      <td>LC</td>\n",
       "      <td>200,000</td>\n",
       "      <td>1.0</td>\n",
       "      <td>1.0</td>\n",
       "      <td>1.0</td>\n",
       "      <td>balaenoptera_acutorostrata</td>\n",
       "      <td>https://upload.wikimedia.org/wikipedia/commons...</td>\n",
       "    </tr>\n",
       "    <tr>\n",
       "      <th>2</th>\n",
       "      <td>rorquals</td>\n",
       "      <td>Balaenopteridae</td>\n",
       "      <td>Balaenoptera</td>\n",
       "      <td>Antarctic minke whale</td>\n",
       "      <td>balaenoptera bonaerensis</td>\n",
       "      <td>NT</td>\n",
       "      <td>515,000[18]</td>\n",
       "      <td>1.0</td>\n",
       "      <td>0.0</td>\n",
       "      <td>1.0</td>\n",
       "      <td>balaenoptera_bonaerensis</td>\n",
       "      <td>https://upload.wikimedia.org/wikipedia/commons...</td>\n",
       "    </tr>\n",
       "    <tr>\n",
       "      <th>3</th>\n",
       "      <td>rorquals</td>\n",
       "      <td>Balaenopteridae</td>\n",
       "      <td>Balaenoptera</td>\n",
       "      <td>Sei whale</td>\n",
       "      <td>balaenoptera borealis</td>\n",
       "      <td>EN</td>\n",
       "      <td>80,000[17]</td>\n",
       "      <td>1.0</td>\n",
       "      <td>1.0</td>\n",
       "      <td>1.0</td>\n",
       "      <td>balaenoptera_borealis</td>\n",
       "      <td>https://upload.wikimedia.org/wikipedia/commons...</td>\n",
       "    </tr>\n",
       "    <tr>\n",
       "      <th>4</th>\n",
       "      <td>rorquals</td>\n",
       "      <td>Balaenopteridae</td>\n",
       "      <td>Balaenoptera</td>\n",
       "      <td>Bryde's whale</td>\n",
       "      <td>balaenoptera brydei</td>\n",
       "      <td>LC</td>\n",
       "      <td>90,000–100,000</td>\n",
       "      <td>1.0</td>\n",
       "      <td>1.0</td>\n",
       "      <td>0.0</td>\n",
       "      <td>balaenoptera_brydei</td>\n",
       "      <td>https://upload.wikimedia.org/wikipedia/commons...</td>\n",
       "    </tr>\n",
       "    <tr>\n",
       "      <th>...</th>\n",
       "      <td>...</td>\n",
       "      <td>...</td>\n",
       "      <td>...</td>\n",
       "      <td>...</td>\n",
       "      <td>...</td>\n",
       "      <td>...</td>\n",
       "      <td>...</td>\n",
       "      <td>...</td>\n",
       "      <td>...</td>\n",
       "      <td>...</td>\n",
       "      <td>...</td>\n",
       "      <td>...</td>\n",
       "    </tr>\n",
       "    <tr>\n",
       "      <th>95</th>\n",
       "      <td>beaked_whales</td>\n",
       "      <td>Ziphiidae</td>\n",
       "      <td>Tasmacetus</td>\n",
       "      <td>Shepherd's beaked whale</td>\n",
       "      <td>tasmacetus shepherdi</td>\n",
       "      <td>DD</td>\n",
       "      <td>Unknown[af]</td>\n",
       "      <td>1.0</td>\n",
       "      <td>0.0</td>\n",
       "      <td>1.0</td>\n",
       "      <td>tasmacetus_shepherdi</td>\n",
       "      <td>https://upload.wikimedia.org/wikipedia/commons...</td>\n",
       "    </tr>\n",
       "    <tr>\n",
       "      <th>96</th>\n",
       "      <td>oceanic_dolphins</td>\n",
       "      <td>Delphinidae</td>\n",
       "      <td>Tursiops</td>\n",
       "      <td>Indo-Pacific bottlenose dolphin</td>\n",
       "      <td>tursiops aduncus</td>\n",
       "      <td>NT</td>\n",
       "      <td>Unknown</td>\n",
       "      <td>1.0</td>\n",
       "      <td>0.0</td>\n",
       "      <td>1.0</td>\n",
       "      <td>tursiops_aduncus</td>\n",
       "      <td>https://upload.wikimedia.org/wikipedia/commons...</td>\n",
       "    </tr>\n",
       "    <tr>\n",
       "      <th>97</th>\n",
       "      <td>oceanic_dolphins</td>\n",
       "      <td>Delphinidae</td>\n",
       "      <td>Tursiops</td>\n",
       "      <td>Tamanend's bottlenose dolphin</td>\n",
       "      <td>tursiops erebennus</td>\n",
       "      <td>NE</td>\n",
       "      <td>Unknown</td>\n",
       "      <td>1.0</td>\n",
       "      <td>0.0</td>\n",
       "      <td>0.0</td>\n",
       "      <td>tursiops_erebennus</td>\n",
       "      <td>https://upload.wikimedia.org/wikipedia/commons...</td>\n",
       "    </tr>\n",
       "    <tr>\n",
       "      <th>98</th>\n",
       "      <td>oceanic_dolphins</td>\n",
       "      <td>Delphinidae</td>\n",
       "      <td>Tursiops</td>\n",
       "      <td>Common bottlenose dolphin</td>\n",
       "      <td>tursiops truncatus</td>\n",
       "      <td>LC</td>\n",
       "      <td>600,000[22]</td>\n",
       "      <td>1.0</td>\n",
       "      <td>1.0</td>\n",
       "      <td>1.0</td>\n",
       "      <td>tursiops_truncatus</td>\n",
       "      <td>https://upload.wikimedia.org/wikipedia/commons...</td>\n",
       "    </tr>\n",
       "    <tr>\n",
       "      <th>99</th>\n",
       "      <td>beaked_whales</td>\n",
       "      <td>Ziphiidae</td>\n",
       "      <td>Ziphius</td>\n",
       "      <td>Cuvier's beaked whale</td>\n",
       "      <td>ziphius cavirostris</td>\n",
       "      <td>LC</td>\n",
       "      <td>100,000[ag]</td>\n",
       "      <td>1.0</td>\n",
       "      <td>1.0</td>\n",
       "      <td>1.0</td>\n",
       "      <td>ziphius_cavirostris</td>\n",
       "      <td>https://upload.wikimedia.org/wikipedia/commons...</td>\n",
       "    </tr>\n",
       "  </tbody>\n",
       "</table>\n",
       "<p>100 rows × 12 columns</p>\n",
       "</div>"
      ],
      "text/plain": [
       "       Family_common     Family_Latin         Genus  \\\n",
       "0       right_whales       Balaenidae       Balaena   \n",
       "1           rorquals  Balaenopteridae  Balaenoptera   \n",
       "2           rorquals  Balaenopteridae  Balaenoptera   \n",
       "3           rorquals  Balaenopteridae  Balaenoptera   \n",
       "4           rorquals  Balaenopteridae  Balaenoptera   \n",
       "..               ...              ...           ...   \n",
       "95     beaked_whales        Ziphiidae    Tasmacetus   \n",
       "96  oceanic_dolphins      Delphinidae      Tursiops   \n",
       "97  oceanic_dolphins      Delphinidae      Tursiops   \n",
       "98  oceanic_dolphins      Delphinidae      Tursiops   \n",
       "99     beaked_whales        Ziphiidae       Ziphius   \n",
       "\n",
       "                        Common name             Scientific name  \\\n",
       "0                     Bowhead whale          balaena mysticetus   \n",
       "1                Common minke whale  balaenoptera acutorostrata   \n",
       "2             Antarctic minke whale    balaenoptera bonaerensis   \n",
       "3                         Sei whale       balaenoptera borealis   \n",
       "4                     Bryde's whale         balaenoptera brydei   \n",
       "..                              ...                         ...   \n",
       "95          Shepherd's beaked whale        tasmacetus shepherdi   \n",
       "96  Indo-Pacific bottlenose dolphin            tursiops aduncus   \n",
       "97    Tamanend's bottlenose dolphin          tursiops erebennus   \n",
       "98        Common bottlenose dolphin          tursiops truncatus   \n",
       "99            Cuvier's beaked whale         ziphius cavirostris   \n",
       "\n",
       "   IUCN Red List status Global population estimate  wiki  map  tree  \\\n",
       "0                    LC                     10,000   1.0  1.0   1.0   \n",
       "1                    LC                    200,000   1.0  1.0   1.0   \n",
       "2                    NT                515,000[18]   1.0  0.0   1.0   \n",
       "3                    EN                 80,000[17]   1.0  1.0   1.0   \n",
       "4                    LC             90,000–100,000   1.0  1.0   0.0   \n",
       "..                  ...                        ...   ...  ...   ...   \n",
       "95                   DD                Unknown[af]   1.0  0.0   1.0   \n",
       "96                   NT                    Unknown   1.0  0.0   1.0   \n",
       "97                   NE                    Unknown   1.0  0.0   0.0   \n",
       "98                   LC                600,000[22]   1.0  1.0   1.0   \n",
       "99                   LC                100,000[ag]   1.0  1.0   1.0   \n",
       "\n",
       "                     unique_id  \\\n",
       "0           balaena_mysticetus   \n",
       "1   balaenoptera_acutorostrata   \n",
       "2     balaenoptera_bonaerensis   \n",
       "3        balaenoptera_borealis   \n",
       "4          balaenoptera_brydei   \n",
       "..                         ...   \n",
       "95        tasmacetus_shepherdi   \n",
       "96            tursiops_aduncus   \n",
       "97          tursiops_erebennus   \n",
       "98          tursiops_truncatus   \n",
       "99         ziphius_cavirostris   \n",
       "\n",
       "                                            Image URL  \n",
       "0   https://upload.wikimedia.org/wikipedia/commons...  \n",
       "1   https://upload.wikimedia.org/wikipedia/commons...  \n",
       "2   https://upload.wikimedia.org/wikipedia/commons...  \n",
       "3   https://upload.wikimedia.org/wikipedia/commons...  \n",
       "4   https://upload.wikimedia.org/wikipedia/commons...  \n",
       "..                                                ...  \n",
       "95  https://upload.wikimedia.org/wikipedia/commons...  \n",
       "96  https://upload.wikimedia.org/wikipedia/commons...  \n",
       "97  https://upload.wikimedia.org/wikipedia/commons...  \n",
       "98  https://upload.wikimedia.org/wikipedia/commons...  \n",
       "99  https://upload.wikimedia.org/wikipedia/commons...  \n",
       "\n",
       "[100 rows x 12 columns]"
      ]
     },
     "execution_count": 44,
     "metadata": {},
     "output_type": "execute_result"
    }
   ],
   "source": [
    "total_merged_df = merged_df.merge(images_urls, on= \"Scientific name\", how=\"left\")\n",
    "total_merged_df"
   ]
  },
  {
   "cell_type": "code",
   "execution_count": 45,
   "id": "ebd0f6d8",
   "metadata": {},
   "outputs": [],
   "source": [
    "import json\n",
    "df_json = total_merged_df.to_json(orient='records')\n",
    "\n",
    "with open(\"cetacean_names.json\", \"w\") as outfile:\n",
    "    outfile.write(df_json)"
   ]
  },
  {
   "cell_type": "code",
   "execution_count": null,
   "id": "25c5593c",
   "metadata": {},
   "outputs": [],
   "source": []
  }
 ],
 "metadata": {
  "kernelspec": {
   "display_name": ".venv",
   "language": "python",
   "name": "python3"
  },
  "language_info": {
   "codemirror_mode": {
    "name": "ipython",
    "version": 3
   },
   "file_extension": ".py",
   "mimetype": "text/x-python",
   "name": "python",
   "nbconvert_exporter": "python",
   "pygments_lexer": "ipython3",
   "version": "3.13.2"
  }
 },
 "nbformat": 4,
 "nbformat_minor": 5
}
